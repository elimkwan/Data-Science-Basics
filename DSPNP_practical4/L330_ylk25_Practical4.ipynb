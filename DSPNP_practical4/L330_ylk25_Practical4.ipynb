{
 "cells": [
  {
   "cell_type": "markdown",
   "metadata": {},
   "source": [
    "# Practical Session 4: Getting Started with Deep Learning Models in TensorFlow\n",
    "\n",
    "*This notebook is based on past years' notebooks by Marek Rei and Guy Emerson*"
   ]
  },
  {
   "cell_type": "markdown",
   "metadata": {},
   "source": [
    "This practical will cover a few different network architectures and we will look at different components that are often used in neural networks in practice. It will also allow you to learn more about [`TensorFlow`](https://www.tensorflow.org), a popular open-source machine learning and deep learning library. I'd also recommend checking the `TensorFlow` documentation to learn more about the rich functionality of this toolkit.\n",
    "\n",
    "\n",
    "## Learning objectives\n",
    "\n",
    "In this practical you will learn about:\n",
    "- The basics of running `TensorFlow` \n",
    "- How to implement a feedforward neural network in Python\n",
    "- How to visualise your network architecture using `TensorBoard` and track changes \n",
    "- How to apply deep learning to both classification and regression tasks.\n",
    "\n",
    "**Additional references**: Aurelien Geron, *Hands-on Machine Learning with Scikit-Learn, Keras and TensorFlow*.\n",
    "\n",
    "Before we start, let's import the usual libraries as we did in previous practicals:"
   ]
  },
  {
   "cell_type": "code",
   "execution_count": 2,
   "metadata": {},
   "outputs": [],
   "source": [
    "%matplotlib inline \n",
    "\n",
    "import numpy as np \n",
    "np.random.seed(42)\n",
    "\n",
    "import matplotlib\n",
    "from matplotlib import pyplot as plt"
   ]
  },
  {
   "cell_type": "markdown",
   "metadata": {},
   "source": [
    "Now let's import `TensorFlow` into our notebook. Note: `TensorFlow` v2 was released last year, and it mostly relies on `Keras` interpretative module fit on top of it. As a result, it is much more interpretable and user-friendly than v1, however if you want to better understand the inner workings of `TensorFlow` you are welcome to check the accompanying notebook [`DSPNP_practical4-TFv1.ipynb`](./DSPNP_practical4-TFv1.ipynb): even if you are using `TensorFlow2`, you can still switch to using v1 API, which is available as a submodule. "
   ]
  },
  {
   "cell_type": "code",
   "execution_count": 3,
   "metadata": {},
   "outputs": [],
   "source": [
    "import tensorflow as tf\n",
    "#tf.compat.v1"
   ]
  },
  {
   "cell_type": "code",
   "execution_count": 4,
   "metadata": {},
   "outputs": [
    {
     "data": {
      "text/plain": [
       "'2.3.1'"
      ]
     },
     "execution_count": 4,
     "metadata": {},
     "output_type": "execute_result"
    }
   ],
   "source": [
    "tf.__version__"
   ]
  },
  {
   "cell_type": "markdown",
   "metadata": {},
   "source": [
    "# Minimal TensorFlow Example\n",
    "\n",
    "In this example, we create a simple network that takes an input vector, multiplies it by a weight matrix, adds a weight vector, and returns the result.\n",
    "\n",
    "`tf.Variable` defines model parameters, which can be trained (as we will see shortly). Here, we initialise the matrix variable as a 3x3 matrix, with every entry as 1 (`tf.ones`). Meanwhile, we initialise the 3x1 vector variable with every entry as 0 (`tf.zeros`). `tf.linalg.matvec` multiplies a matrix and a vector."
   ]
  },
  {
   "cell_type": "code",
   "execution_count": 5,
   "metadata": {},
   "outputs": [
    {
     "name": "stdout",
     "output_type": "stream",
     "text": [
      "tf.Tensor([12. 12. 12.], shape=(3,), dtype=float32)\n"
     ]
    }
   ],
   "source": [
    "weight_matrix = tf.Variable(tf.ones(shape=(3,3)))\n",
    "weight_vector = tf.Variable(tf.zeros(shape=(3,)))\n",
    "\n",
    "def affine_transformation(input_vector):\n",
    "    return tf.linalg.matvec(weight_matrix, input_vector) + weight_vector\n",
    "\n",
    "result = affine_transformation([2.,3.,7.])\n",
    "print(result)"
   ]
  },
  {
   "cell_type": "markdown",
   "metadata": {},
   "source": [
    "The following [reset function](https://www.tensorflow.org/api_docs/python/tf/keras/backend/clear_session) is often useful. It is necessary to reset the `TensorFlow` network from time to time: as we have many different small networks in one notebook and we don't want them interfering with each other, as a pre-emptive measure we will occasionally reset the computation graph. "
   ]
  },
  {
   "cell_type": "code",
   "execution_count": 6,
   "metadata": {},
   "outputs": [
    {
     "data": {
      "text/plain": [
       "<function tensorflow.python.keras.backend.clear_session()>"
      ]
     },
     "execution_count": 6,
     "metadata": {},
     "output_type": "execute_result"
    }
   ],
   "source": [
    "tf.keras.backend.clear_session"
   ]
  },
  {
   "cell_type": "markdown",
   "metadata": {},
   "source": [
    "# Training the Parameters\n",
    "\n",
    "This example shows how to optimise the parameters in your model.\n",
    "\n",
    "We first define a network that takes an input vector, multiplies it with a matrix (as defined above), and sums the elements of the resulting vector (using `tf.math.reduce_sum`). We then define a loss function as the square error. Given a specific input and output, we can calculate the loss of applying the network to the input.\n",
    "\n",
    "Next, we define an optimiser – here, we are using *stochastic gradient descent* (*SGD*) with the learning rate $0.001$. We then use this optimiser to train this network for $10$ epochs, over this single training point. This optimises the output towards the target value $20$. Printing out the results, we can see that the output gradually moves towards the target."
   ]
  },
  {
   "cell_type": "code",
   "execution_count": 7,
   "metadata": {},
   "outputs": [
    {
     "name": "stdout",
     "output_type": "stream",
     "text": [
      "tf.Tensor(-24.48, shape=(), dtype=float32)\n",
      "tf.Tensor(143.6544, shape=(), dtype=float32)\n",
      "tf.Tensor(-323.75922, shape=(), dtype=float32)\n",
      "tf.Tensor(975.6506, shape=(), dtype=float32)\n",
      "tf.Tensor(-2636.7085, shape=(), dtype=float32)\n",
      "tf.Tensor(7405.6504, shape=(), dtype=float32)\n",
      "tf.Tensor(-20512.11, shape=(), dtype=float32)\n",
      "tf.Tensor(57099.266, shape=(), dtype=float32)\n",
      "tf.Tensor(-158660.36, shape=(), dtype=float32)\n",
      "tf.Tensor(441151.38, shape=(), dtype=float32)\n"
     ]
    }
   ],
   "source": [
    "alpha = 1e-2\n",
    "number_of_epochs = 10\n",
    "\n",
    "tf.keras.backend.clear_session\n",
    "\n",
    "weight_matrix = tf.Variable(tf.ones(shape=(3,3)))\n",
    "weight_vector = tf.Variable(tf.zeros(shape=(3,)))\n",
    "\n",
    "def network(input_vector):\n",
    "    return tf.math.reduce_sum(affine_transformation(input_vector))\n",
    "\n",
    "def loss_fn(predicted, gold):\n",
    "    return tf.square(predicted - gold)\n",
    "\n",
    "input = [2.,3.,7.]\n",
    "gold_output = 20\n",
    "\n",
    "def loss():\n",
    "    return loss_fn(network(input), gold_output)\n",
    "\n",
    "opt = tf.keras.optimizers.SGD(learning_rate=alpha)\n",
    "\n",
    "for epoch in range(number_of_epochs):\n",
    "    opt.minimize(loss, var_list=[weight_matrix, weight_vector])\n",
    "    print(network(input))"
   ]
  },
  {
   "cell_type": "markdown",
   "metadata": {},
   "source": [
    "**Optional**: Try changing the learning rate and the number of epochs. What results are you getting?\n",
    "\n",
    "**Answer**: \n",
    "- Learning rate too small: loss is decreasing, but didn't reach the optium loss\n",
    "- Learning rate too big: unstable result, loss get bigger and bigger\n",
    "- Num of epochs increase: loss stablised\n",
    "- Num of epochs decrease: loss didn't stablise yet"
   ]
  },
  {
   "cell_type": "markdown",
   "metadata": {},
   "source": [
    "# Network Layers\n",
    "\n",
    "For most cases, we don't actually need to create the trainable variables manually. Instead, the feedfoward layer is available as a pre-defined module.\n",
    "\n",
    "We can define a network as a sequence of operations, using [`tf.keras.Sequential`](https://www.tensorflow.org/api_docs/python/tf/keras/Sequential). The first operation here is a dense feedforward layer (`tf.keras.layers.Dense`), which acts like the `affine_transfomation` function we defined earlier. The second operation sums the elements of the vector – this isn't a standard operation, so we use `tf.keras.layers.Lambda` to allow a user-defined function.\n",
    "\n",
    "By default, the parameters in a layer (like [`tf.keras.layers.Dense`](https://www.tensorflow.org/api_docs/python/tf/keras/layers/Dense)) are initialised randomly."
   ]
  },
  {
   "cell_type": "code",
   "execution_count": 8,
   "metadata": {},
   "outputs": [],
   "source": [
    "model = tf.keras.Sequential([\n",
    "    tf.keras.layers.Dense(3, input_shape=(3,)),\n",
    "    tf.keras.layers.Lambda(lambda x: tf.math.reduce_sum(x, axis=1))\n",
    "])"
   ]
  },
  {
   "cell_type": "markdown",
   "metadata": {},
   "source": [
    "Note that such a model expects the input data to be given as a *minibatch* – this means that the input tensor should have an extra index, which ranges over datapoints. In our case, instead of passing a 3-dimensional input vector, we have to pass an Nx3 matrix, where N is the number of datapoints. Here, we can apply the model to a single datapoint (a 1x3 matrix):"
   ]
  },
  {
   "cell_type": "code",
   "execution_count": 9,
   "metadata": {},
   "outputs": [
    {
     "data": {
      "text/plain": [
       "array([2.0901487], dtype=float32)"
      ]
     },
     "execution_count": 9,
     "metadata": {},
     "output_type": "execute_result"
    }
   ],
   "source": [
    "model.predict(tf.constant([[2.,3.,7.]]))"
   ]
  },
  {
   "cell_type": "markdown",
   "metadata": {},
   "source": [
    "Now that we have a model defined in terms of layers, let's replace the manually created variables of the previous section."
   ]
  },
  {
   "cell_type": "code",
   "execution_count": 10,
   "metadata": {},
   "outputs": [
    {
     "name": "stdout",
     "output_type": "stream",
     "text": [
      "tf.Tensor([10.527716], shape=(1,), dtype=float32)\n",
      "tf.Tensor([14.108238], shape=(1,), dtype=float32)\n",
      "tf.Tensor([16.335325], shape=(1,), dtype=float32)\n",
      "tf.Tensor([17.720572], shape=(1,), dtype=float32)\n",
      "tf.Tensor([18.582195], shape=(1,), dtype=float32)\n",
      "tf.Tensor([19.118126], shape=(1,), dtype=float32)\n",
      "tf.Tensor([19.451473], shape=(1,), dtype=float32)\n",
      "tf.Tensor([19.65882], shape=(1,), dtype=float32)\n",
      "tf.Tensor([19.787783], shape=(1,), dtype=float32)\n",
      "tf.Tensor([19.868002], shape=(1,), dtype=float32)\n"
     ]
    }
   ],
   "source": [
    "tf.keras.backend.clear_session\n",
    "\n",
    "model = tf.keras.Sequential([\n",
    "    tf.keras.layers.Dense(3, input_shape=(3,)),\n",
    "    tf.keras.layers.Lambda(lambda x: tf.math.reduce_sum(x, axis=1))\n",
    "])\n",
    "\n",
    "def loss_fn(predicted, gold):\n",
    "    return tf.square(predicted - gold)\n",
    "\n",
    "input = tf.constant([[2.,3.,7.]])\n",
    "gold_output = 20\n",
    "\n",
    "def loss():\n",
    "    return loss_fn(model(input), gold_output)\n",
    "\n",
    "opt = tf.keras.optimizers.SGD(learning_rate=1e-3)\n",
    "\n",
    "for epoch in range(10):\n",
    "    opt.minimize(loss, var_list=model.trainable_variables)\n",
    "    print(model(input))"
   ]
  },
  {
   "cell_type": "markdown",
   "metadata": {},
   "source": [
    "In fact, for standard optimizers and loss functions, the `TensorFlow` API makes it even easier for us:"
   ]
  },
  {
   "cell_type": "code",
   "execution_count": 11,
   "metadata": {},
   "outputs": [
    {
     "name": "stdout",
     "output_type": "stream",
     "text": [
      "tf.Tensor(13.381605, shape=(), dtype=float32)\n",
      "tf.Tensor(15.883356, shape=(), dtype=float32)\n",
      "tf.Tensor(17.43945, shape=(), dtype=float32)\n",
      "tf.Tensor(18.407335, shape=(), dtype=float32)\n",
      "tf.Tensor(19.009363, shape=(), dtype=float32)\n",
      "tf.Tensor(19.383823, shape=(), dtype=float32)\n",
      "tf.Tensor(19.61674, shape=(), dtype=float32)\n",
      "tf.Tensor(19.761612, shape=(), dtype=float32)\n",
      "tf.Tensor(19.851723, shape=(), dtype=float32)\n",
      "tf.Tensor(19.907772, shape=(), dtype=float32)\n"
     ]
    }
   ],
   "source": [
    "tf.keras.backend.clear_session\n",
    "\n",
    "model = tf.keras.Sequential([\n",
    "    tf.keras.layers.Dense(3, input_shape=(3,)),\n",
    "    tf.keras.layers.Lambda(lambda x: tf.math.reduce_sum(x))\n",
    "])\n",
    "\n",
    "model.compile(optimizer=tf.keras.optimizers.SGD(learning_rate=1e-3), # alternatively, optimizer=`sgd`\n",
    "              loss='mean_squared_error')\n",
    "\n",
    "input = tf.constant([[2.,3.,7.]])\n",
    "gold_output = tf.constant([[20.]])\n",
    "\n",
    "for epoch in range(10):\n",
    "    model.train_on_batch(input, gold_output)\n",
    "    print(model(input))"
   ]
  },
  {
   "cell_type": "markdown",
   "metadata": {},
   "source": [
    "# Activation Functions\n",
    "\n",
    "As you saw in the previous lectures, activation functions are what gives neural networks their power to model non-linear patterns in the data. After applying an affine transformation, we then apply a non-linear activation function to each element. There are a number of different activation functions to choose from.\n",
    "\n",
    "The [sigmoid function](https://en.wikipedia.org/wiki/Logistic_function), also known as the logistic function, is the most classic non-linear activation. It transforms the value to a range between 0 and 1."
   ]
  },
  {
   "cell_type": "code",
   "execution_count": 12,
   "metadata": {},
   "outputs": [],
   "source": [
    "hidden = tf.keras.layers.Dense(100, activation='sigmoid')"
   ]
  },
  {
   "cell_type": "markdown",
   "metadata": {},
   "source": [
    "In modern networks, the [tanh function](https://en.wikipedia.org/wiki/Hyperbolic_function) is used more often. It has more flexibility, as it transforms the input value to a range between -1 and 1, and can therefore output negative values as well."
   ]
  },
  {
   "cell_type": "code",
   "execution_count": 13,
   "metadata": {},
   "outputs": [],
   "source": [
    "hidden = tf.keras.layers.Dense(100, activation='tanh')"
   ]
  },
  {
   "cell_type": "markdown",
   "metadata": {},
   "source": [
    "Another popular one is the [Rectified Linear Unit](https://en.wikipedia.org/wiki/Rectifier_(neural_networks)) function, or the ReLU. This function acts as a linear function above zero, but restricts everything below zero to 0. By doing this it also introduces non-linearity."
   ]
  },
  {
   "cell_type": "code",
   "execution_count": 14,
   "metadata": {},
   "outputs": [],
   "source": [
    "hidden = tf.keras.layers.Dense(100, activation='relu')"
   ]
  },
  {
   "cell_type": "markdown",
   "metadata": {},
   "source": [
    "The partial linear property of the ReLU can help it converge faster on some tasks, although in practice tanh may be a more robust option.\n",
    "\n",
    "Finally, for classification tasks [softmax](https://en.wikipedia.org/wiki/Softmax_function) is an important activation function. Unlike the activation functions mentioned above, it isn't applied to each element separately. It converts a vector of scores into a probability distribution: after applying the softmax, all values are between 0 and 1, and together they sum to 1. Higher scores are assigned to higher probabilities, via the formula:\n",
    "\n",
    "<center>\n",
    "$P(i) \\propto \\exp(x_i)$\n",
    "</center>\n",
    "\n",
    "Or, more explicitly:\n",
    "\n",
    "<center>\n",
    "$P(i) = \\frac{\\exp(x_i)}{\\sum_j \\exp(x_j)}$\n",
    "</center>\n",
    "\n",
    "Notice how the value of the denominator depends on all other values.\n",
    "\n",
    "The softmax is often used in the output layer of a network performing classification, in order to predict a probability distribution over all the possible classes. For example, the following model takes a 20-dimensional input, maps it to a 50-dimensional hidden layer, then maps it to a distribution over 10 output classes."
   ]
  },
  {
   "cell_type": "code",
   "execution_count": 15,
   "metadata": {},
   "outputs": [],
   "source": [
    "model = tf.keras.Sequential([\n",
    "    tf.keras.layers.Dense(50, input_shape=(20,), activation='relu'),\n",
    "    tf.keras.layers.Dense(10, activation='softmax')\n",
    "])"
   ]
  },
  {
   "cell_type": "markdown",
   "metadata": {},
   "source": [
    "# Operations and Useful Functions\n",
    "\n",
    "`TensorFlow` has corresponding versions of all the main operations you might want to use. This means you can add them into your computation graph and into your neural network. The most common operations are available in `tf`, and further operations are available in `tf.math`.\n"
   ]
  },
  {
   "cell_type": "code",
   "execution_count": 16,
   "metadata": {},
   "outputs": [
    {
     "data": {
      "text/plain": [
       "<function tensorflow.python.ops.math_ops.exp(x, name=None)>"
      ]
     },
     "execution_count": 16,
     "metadata": {},
     "output_type": "execute_result"
    }
   ],
   "source": [
    "tf.abs # absolute value\n",
    "tf.negative # computes the negative value\n",
    "tf.sign # returns 1, 0 or -1 depending on the sign of the input\n",
    "tf.math.reciprocal # reciprocal 1/x\n",
    "tf.square # return input squared\n",
    "tf.round # return rounded value\n",
    "tf.sqrt # square root\n",
    "tf.math.rsqrt # reciprocal of square root\n",
    "tf.pow # power\n",
    "tf.exp # exponential"
   ]
  },
  {
   "cell_type": "markdown",
   "metadata": {},
   "source": [
    "These operations can be applied to scalar values, but also to vectors, matrices and higher-order tensors. In the latter case, they will be applied element-wise. For example:"
   ]
  },
  {
   "cell_type": "code",
   "execution_count": 17,
   "metadata": {},
   "outputs": [
    {
     "name": "stdout",
     "output_type": "stream",
     "text": [
      "tf.Tensor([-3.2  2.7], shape=(2,), dtype=float32)\n",
      "tf.Tensor([2.25      4.4099994], shape=(2,), dtype=float32)\n"
     ]
    }
   ],
   "source": [
    "print(tf.negative([3.2,-2.7]))\n",
    "print(tf.square([1.5,-2.1]))"
   ]
  },
  {
   "cell_type": "markdown",
   "metadata": {},
   "source": [
    "Some useful operations are performed over a whole vector/matrix tensor and return a single value (e.g., you saw `tf.reduce_sum` earlier):"
   ]
  },
  {
   "cell_type": "code",
   "execution_count": 18,
   "metadata": {},
   "outputs": [
    {
     "data": {
      "text/plain": [
       "<function tensorflow.python.ops.math_ops.argmin_v2(input, axis=None, output_type=tf.int64, name=None)>"
      ]
     },
     "execution_count": 18,
     "metadata": {},
     "output_type": "execute_result"
    }
   ],
   "source": [
    "tf.reduce_sum # Add elements together\n",
    "tf.reduce_mean # Average over elements\n",
    "tf.reduce_min # Minimum value\n",
    "tf.reduce_max # Maximum value\n",
    "tf.argmax # Index of the largest value\n",
    "tf.argmin # Index of the smallest value"
   ]
  },
  {
   "cell_type": "markdown",
   "metadata": {},
   "source": [
    "# Adaptive Learning Rates\n",
    "\n",
    "Above, we used stochastic gradient descent (SGD) to train our model. This uses a fixed learning rate to update the parameters. Several optimisation algorithms are based on SGD, but adaptively adjust the learning rate (usually for each parameter separately).\n",
    "\n",
    "Different adaptive learning rate strategies are also implemented in `TensorFlow` as functions. For example:"
   ]
  },
  {
   "cell_type": "code",
   "execution_count": 19,
   "metadata": {},
   "outputs": [
    {
     "data": {
      "text/plain": [
       "tensorflow.python.keras.optimizer_v2.rmsprop.RMSprop"
      ]
     },
     "execution_count": 19,
     "metadata": {},
     "output_type": "execute_result"
    }
   ],
   "source": [
    "tf.keras.optimizers.SGD\n",
    "tf.keras.optimizers.Adadelta\n",
    "tf.keras.optimizers.Adam\n",
    "tf.keras.optimizers.RMSprop"
   ]
  },
  {
   "cell_type": "markdown",
   "metadata": {},
   "source": [
    "If you are interested in the differences between these strategies, [this blog post](http://ruder.io/optimizing-gradient-descent/) provides more details."
   ]
  },
  {
   "cell_type": "markdown",
   "metadata": {},
   "source": [
    "# Training an XOR Function\n",
    "\n",
    "[XOR](https://en.wikipedia.org/wiki/XOR_gate) is the function that takes two binary values and returns 1 only if one of them is 1 and the other 0, while returning 0 if both of them have the same value. It can be a difficult function to learn and cannot be modelled with a linear model. But let's try anyway.\n",
    "\n",
    "Our dataset consists of all the possible different states that XOR can take:"
   ]
  },
  {
   "cell_type": "code",
   "execution_count": 20,
   "metadata": {},
   "outputs": [],
   "source": [
    "xor_input = tf.constant([[0.0, 0.0], [0.0, 1.0], [1.0, 0.0], [1.0, 1.0]])\n",
    "xor_output = tf.constant([0.0, 1.0, 1.0, 0.0])"
   ]
  },
  {
   "cell_type": "markdown",
   "metadata": {},
   "source": [
    "Now we construct a linear network and optimize it on this dataset, printing out the predictions at each epoch:"
   ]
  },
  {
   "cell_type": "code",
   "execution_count": 21,
   "metadata": {},
   "outputs": [
    {
     "name": "stdout",
     "output_type": "stream",
     "text": [
      "after 10 epochs: [ 0.3259965  -0.10851547  1.0372578   0.6027459 ]\n",
      "after 20 epochs: [0.3775949  0.13760306 0.82361984 0.583628  ]\n",
      "after 30 epochs: [0.41110516 0.2806741  0.6914177  0.56098664]\n",
      "after 40 epochs: [0.43537933 0.36689535 0.61282265 0.5443387 ]\n",
      "after 50 epochs: [0.4530237  0.41900516 0.5662509  0.53223234]\n",
      "after 60 epochs: [0.46585035 0.45056018 0.5387217  0.5234315 ]\n",
      "after 70 epochs: [0.47517473 0.46971142 0.52249694 0.51703364]\n",
      "after 80 epochs: [0.48195314 0.4813656  0.51297027 0.5123827 ]\n",
      "after 90 epochs: [0.48688072 0.48847976 0.5074026  0.5090017 ]\n",
      "after 100 epochs: [0.49046287 0.4928384  0.5041683  0.5065438 ]\n"
     ]
    }
   ],
   "source": [
    "tf.keras.backend.clear_session\n",
    "\n",
    "linear_model = tf.keras.Sequential([\n",
    "    tf.keras.layers.Dense(1, input_shape=(2,))\n",
    "])\n",
    "\n",
    "linear_model.compile(optimizer=tf.keras.optimizers.SGD(learning_rate=0.1),\n",
    "                     loss='mean_squared_error')\n",
    "\n",
    "for epoch in range(100):\n",
    "    linear_model.train_on_batch(xor_input, xor_output)\n",
    "    if (epoch + 1) % 10 == 0:\n",
    "        print('after {} epochs:'.format(epoch+1), linear_model(xor_input).numpy().reshape((4,)))"
   ]
  },
  {
   "cell_type": "markdown",
   "metadata": {},
   "source": [
    "As you can see, it's not doing very well. Ideally, the predictions should be [0, 1, 1, 0], but in this case they are hovering around 0.5 for every input case.\n",
    "\n",
    "In order to improve this architecture, let's add some non-linear layers into our model:"
   ]
  },
  {
   "cell_type": "code",
   "execution_count": 22,
   "metadata": {},
   "outputs": [
    {
     "name": "stdout",
     "output_type": "stream",
     "text": [
      "after 10 epochs: [0.49417958 0.5899419  0.381775   0.49363616]\n",
      "after 20 epochs: [0.4616477  0.59616727 0.43106332 0.50130224]\n",
      "after 30 epochs: [0.424308  0.6186376 0.4576356 0.5110656]\n",
      "after 40 epochs: [0.37664062 0.6509645  0.47221428 0.5139635 ]\n",
      "after 50 epochs: [0.3269036  0.68852186 0.48768112 0.50682783]\n",
      "after 60 epochs: [0.28414962 0.7229547  0.5129224  0.48719934]\n",
      "after 70 epochs: [0.2523722  0.74790955 0.5552972  0.45223424]\n",
      "after 80 epochs: [0.2286303  0.76433665 0.61369026 0.40098327]\n",
      "after 90 epochs: [0.206866   0.77994895 0.67464316 0.34294444]\n",
      "after 100 epochs: [0.1846543  0.79843694 0.7262142  0.29116237]\n"
     ]
    }
   ],
   "source": [
    "tf.keras.backend.clear_session\n",
    "\n",
    "nonlinear_model = tf.keras.Sequential([\n",
    "    tf.keras.layers.Dense(5, input_shape=(2,), activation='tanh'), # note that these settings can be changed\n",
    "    tf.keras.layers.Dense(1, activation='sigmoid')\n",
    "])\n",
    "\n",
    "nonlinear_model.compile(optimizer=tf.keras.optimizers.SGD(learning_rate=1),\n",
    "                        loss='mean_squared_error')\n",
    "\n",
    "for epoch in range(100):\n",
    "    nonlinear_model.train_on_batch(xor_input, xor_output)\n",
    "    if (epoch + 1) % 10 == 0:\n",
    "        print('after {} epochs:'.format(epoch+1), nonlinear_model(xor_input).numpy().reshape((4,)))"
   ]
  },
  {
   "cell_type": "markdown",
   "metadata": {},
   "source": [
    "This is much better. The values are much closer to [0, 1, 1, 0] than before, and they will continue improving if we train for longer. (Remember that the model is initialised randomly – if you run it a few times, you will see that the results vary with each run. Check the [documentation](https://www.tensorflow.org/tutorials/keras/save_and_load) on how you can save and restore a particular model).\n",
    "\n",
    "We also had to increase the learning rate for this network. It would still be learning with a smaller learning rate, but it would be converging very slowly. As we discussed in the lectures, learning rate is a hyperparameter that can vary quite a bit depending on the network architecture and dataset.\n",
    "\n",
    "**Optional**: Try changing various settings in the current network, e.g. *width* (number of neurons per layer), *depth* (number of layers), *activation functions* applied to each layer, and number of *epochs*. What changes do you observe?"
   ]
  },
  {
   "cell_type": "markdown",
   "metadata": {},
   "source": [
    "# XOR Classification\n",
    "\n",
    "We can also do classification with `TensorFlow`. For this, we often use the softmax activation function described above, which predicts the probability for each of the possible classes.\n",
    "\n",
    "We also have to change the loss function, as squared error is not suitable for classification. A suitable loss function is [cross entropy](https://en.wikipedia.org/wiki/Cross_entropy). Since the correct output has probability 1 for the correct class, and probability 0 for the rest, minimising cross entropy is the same as minimising the negative log probability of the correct class for each datapoint. In other words, by minimising cross entropy, we are trying to find the maximum likelihood model, which assigns high values for the correct label.\n",
    "\n",
    "We can change the XOR example above to perform classification instead. In this case, we are constructing a binary classifier – choosing between the classes of 0 and 1. The output here prints the predicted probabilities of the two classes."
   ]
  },
  {
   "cell_type": "code",
   "execution_count": 23,
   "metadata": {},
   "outputs": [
    {
     "name": "stdout",
     "output_type": "stream",
     "text": [
      "after 10 epochs:\n",
      "[[0.64263344 0.35736653]\n",
      " [0.5267876  0.4732124 ]\n",
      " [0.48214647 0.5178535 ]\n",
      " [0.841253   0.15874702]]\n",
      "after 20 epochs:\n",
      "[[0.7458722  0.25412783]\n",
      " [0.17568107 0.824319  ]\n",
      " [0.15599185 0.84400815]\n",
      " [0.9061508  0.09384919]]\n",
      "after 30 epochs:\n",
      "[[0.8607714  0.13922861]\n",
      " [0.06611789 0.9338821 ]\n",
      " [0.03200986 0.9679901 ]\n",
      " [0.94203967 0.0579603 ]]\n",
      "after 40 epochs:\n",
      "[[0.91949904 0.08050098]\n",
      " [0.04171929 0.9582807 ]\n",
      " [0.03175868 0.9682413 ]\n",
      " [0.98098123 0.01901881]]\n",
      "after 50 epochs:\n",
      "[[0.94576424 0.05423581]\n",
      " [0.02591982 0.97408015]\n",
      " [0.01834871 0.9816513 ]\n",
      " [0.9876409  0.01235908]]\n"
     ]
    }
   ],
   "source": [
    "tf.keras.backend.clear_session\n",
    "\n",
    "nonlinear_model = tf.keras.Sequential([\n",
    "    tf.keras.layers.Dense(10, input_shape=(2,), activation='relu'),\n",
    "    tf.keras.layers.Dense(2, activation='softmax')\n",
    "])\n",
    "\n",
    "nonlinear_model.compile(optimizer=tf.keras.optimizers.SGD(learning_rate=1),\n",
    "                        loss='sparse_categorical_crossentropy')\n",
    "\n",
    "for epoch in range(50):\n",
    "    nonlinear_model.train_on_batch(xor_input, xor_output)\n",
    "    if (epoch + 1) % 10 == 0:\n",
    "        print('after {} epochs:'.format(epoch+1), nonlinear_model(xor_input).numpy(), sep='\\n')"
   ]
  },
  {
   "cell_type": "markdown",
   "metadata": {},
   "source": [
    "Let's convert these probabilities into class predictions and also report some of the more familiar [evaluation metrics](https://www.tensorflow.org/api_docs/python/tf/keras/metrics), e.g. *accuracy*:"
   ]
  },
  {
   "cell_type": "code",
   "execution_count": 24,
   "metadata": {},
   "outputs": [
    {
     "name": "stdout",
     "output_type": "stream",
     "text": [
      "\n",
      "After 10 epochs: 1 1 1 0\n",
      "1/1 - 0s - loss: 0.6879 - accuracy: 0.7500\n",
      "\n",
      "Accuracy: 0.75\n",
      "\n",
      "After 20 epochs: 1 1 1 0\n",
      "1/1 - 0s - loss: 0.6482 - accuracy: 0.7500\n",
      "\n",
      "Accuracy: 0.75\n",
      "\n",
      "After 30 epochs: 1 1 1 0\n",
      "1/1 - 0s - loss: 0.5772 - accuracy: 0.7500\n",
      "\n",
      "Accuracy: 0.75\n",
      "\n",
      "After 40 epochs: 0 1 1 0\n",
      "1/1 - 0s - loss: 0.4982 - accuracy: 1.0000\n",
      "\n",
      "Accuracy: 1.0\n",
      "\n",
      "After 50 epochs: 0 1 1 0\n",
      "1/1 - 0s - loss: 0.4325 - accuracy: 1.0000\n",
      "\n",
      "Accuracy: 1.0\n"
     ]
    }
   ],
   "source": [
    "tf.keras.backend.clear_session\n",
    "\n",
    "nonlinear_model = tf.keras.Sequential([\n",
    "    tf.keras.layers.Dense(10, input_shape=(2,), activation='relu'),\n",
    "    tf.keras.layers.Dense(2, activation='softmax')\n",
    "])\n",
    "\n",
    "nonlinear_model.compile(optimizer=tf.keras.optimizers.SGD(learning_rate=1),\n",
    "              loss=tf.keras.losses.SparseCategoricalCrossentropy(from_logits=True),\n",
    "              metrics=['accuracy'])  \n",
    "\n",
    "for epoch in range(50):\n",
    "    nonlinear_model.train_on_batch(xor_input, xor_output)\n",
    "    predictions = nonlinear_model.predict(xor_input)\n",
    "    result = tf.argmax(predictions, axis=1)\n",
    "    \n",
    "    if (epoch + 1) % 10 == 0:\n",
    "        print('\\nAfter {} epochs:'.format(epoch+1), \" \".join([str(x) for x in result.numpy()]))\n",
    "        test_loss, test_acc = nonlinear_model.evaluate(xor_input, xor_output, verbose=2)\n",
    "        print('\\nAccuracy:', test_acc)\n"
   ]
  },
  {
   "cell_type": "markdown",
   "metadata": {},
   "source": [
    "You should be able to see in this printout that the model starts off with incorrect predictions, but fairly soon learns to return the correct sequence of [0, 1, 1, 0].\n",
    "\n",
    "Finally, here is how you can print out the confusion matrix. Since we are looking into a simple case here and the predictions from above are quite accurate, there is not much to be learned from the confusion matrix at this point (but note that this functionality may come in handy later in your practical):"
   ]
  },
  {
   "cell_type": "code",
   "execution_count": 25,
   "metadata": {},
   "outputs": [
    {
     "name": "stdout",
     "output_type": "stream",
     "text": [
      "[[2 0]\n",
      " [0 2]]\n"
     ]
    }
   ],
   "source": [
    "conf_mx = tf.math.confusion_matrix(xor_output, result.numpy()).numpy()\n",
    "print(conf_mx)"
   ]
  },
  {
   "cell_type": "markdown",
   "metadata": {},
   "source": [
    "# Minibatching\n",
    "\n",
    "For the XOR data, there are only 4 datapoints. However, with realistic datasets, it is inefficient to train on the whole dataset at once, because this will require a lot of computation in order to make a single update step. \n",
    "\n",
    "Instead, we can train on a batch of data at a time. For example, here is how you can take batches of 2 datapoints for the XOR data:"
   ]
  },
  {
   "cell_type": "code",
   "execution_count": 26,
   "metadata": {},
   "outputs": [
    {
     "name": "stdout",
     "output_type": "stream",
     "text": [
      "after 10 epochs:\n",
      "[[0.57497793 0.4250221 ]\n",
      " [0.07100596 0.92899406]\n",
      " [0.46021643 0.53978354]\n",
      " [0.5707003  0.42929977]]\n",
      "after 20 epochs:\n",
      "[[0.8762206  0.12377941]\n",
      " [0.0398332  0.9601668 ]\n",
      " [0.02894458 0.97105545]\n",
      " [0.87674415 0.12325591]]\n",
      "after 30 epochs:\n",
      "[[0.95234853 0.04765148]\n",
      " [0.01536203 0.9846379 ]\n",
      " [0.02257047 0.9774295 ]\n",
      " [0.952568   0.04743207]]\n",
      "after 40 epochs:\n",
      "[[0.97074944 0.02925051]\n",
      " [0.00868577 0.99131423]\n",
      " [0.00800478 0.9919952 ]\n",
      " [0.97084695 0.02915299]]\n",
      "after 50 epochs:\n",
      "[[0.9792398  0.02076015]\n",
      " [0.00702822 0.99297184]\n",
      " [0.00551754 0.9944825 ]\n",
      " [0.977271   0.02272902]]\n"
     ]
    }
   ],
   "source": [
    "tf.keras.backend.clear_session\n",
    "\n",
    "nonlinear_model = tf.keras.Sequential([\n",
    "    tf.keras.layers.Dense(10, input_shape=(2,), activation='relu'),\n",
    "    tf.keras.layers.Dense(2, activation='softmax')\n",
    "])\n",
    "\n",
    "nonlinear_model.compile(optimizer=tf.keras.optimizers.SGD(learning_rate=1),\n",
    "                        loss='sparse_categorical_crossentropy')\n",
    "\n",
    "BATCH_SIZE = 2\n",
    "\n",
    "for epoch in range(50):\n",
    "    for i in range(0,len(xor_input),BATCH_SIZE):\n",
    "        input_batch = xor_input[i:i+BATCH_SIZE]\n",
    "        output_batch = xor_output[i:i+BATCH_SIZE]\n",
    "        nonlinear_model.train_on_batch(input_batch, output_batch)\n",
    "    if (epoch + 1) % 10 == 0:\n",
    "        print('after {} epochs:'.format(epoch+1), nonlinear_model(xor_input).numpy(), sep='\\n')"
   ]
  },
  {
   "cell_type": "markdown",
   "metadata": {},
   "source": [
    "Again, this kind of functionality is built into `TensorFlow`. The following code trains the model with the given batch size and number of epochs:"
   ]
  },
  {
   "cell_type": "code",
   "execution_count": 27,
   "metadata": {},
   "outputs": [
    {
     "name": "stdout",
     "output_type": "stream",
     "text": [
      "Epoch 1/50\n",
      "2/2 [==============================] - 0s 1ms/step - loss: 0.8612\n",
      "Epoch 2/50\n",
      "2/2 [==============================] - 0s 16ms/step - loss: 1.0292\n",
      "Epoch 3/50\n",
      "2/2 [==============================] - 0s 39ms/step - loss: 0.6930\n",
      "Epoch 4/50\n",
      "2/2 [==============================] - 0s 1ms/step - loss: 0.6876\n",
      "Epoch 5/50\n",
      "2/2 [==============================] - 0s 3ms/step - loss: 0.6540\n",
      "Epoch 6/50\n",
      "2/2 [==============================] - 0s 2ms/step - loss: 0.9193\n",
      "Epoch 7/50\n",
      "2/2 [==============================] - 0s 3ms/step - loss: 1.1632\n",
      "Epoch 8/50\n",
      "2/2 [==============================] - 0s 1ms/step - loss: 0.6969\n",
      "Epoch 9/50\n",
      "2/2 [==============================] - 0s 2ms/step - loss: 0.6819\n",
      "Epoch 10/50\n",
      "2/2 [==============================] - 0s 1ms/step - loss: 0.6597\n",
      "Epoch 11/50\n",
      "2/2 [==============================] - 0s 2ms/step - loss: 0.6688\n",
      "Epoch 12/50\n",
      "2/2 [==============================] - 0s 3ms/step - loss: 0.6245\n",
      "Epoch 13/50\n",
      "2/2 [==============================] - 0s 4ms/step - loss: 0.6424\n",
      "Epoch 14/50\n",
      "2/2 [==============================] - 0s 1ms/step - loss: 0.5972\n",
      "Epoch 15/50\n",
      "2/2 [==============================] - 0s 2ms/step - loss: 0.5516\n",
      "Epoch 16/50\n",
      "2/2 [==============================] - 0s 2ms/step - loss: 0.5939\n",
      "Epoch 17/50\n",
      "2/2 [==============================] - 0s 2ms/step - loss: 0.6389\n",
      "Epoch 18/50\n",
      "2/2 [==============================] - 0s 2ms/step - loss: 0.4616\n",
      "Epoch 19/50\n",
      "2/2 [==============================] - 0s 4ms/step - loss: 0.5429\n",
      "Epoch 20/50\n",
      "2/2 [==============================] - 0s 1ms/step - loss: 0.9727\n",
      "Epoch 21/50\n",
      "2/2 [==============================] - 0s 3ms/step - loss: 0.3054\n",
      "Epoch 22/50\n",
      "2/2 [==============================] - 0s 1ms/step - loss: 0.2155\n",
      "Epoch 23/50\n",
      "2/2 [==============================] - 0s 1ms/step - loss: 0.1566\n",
      "Epoch 24/50\n",
      "2/2 [==============================] - 0s 2ms/step - loss: 0.1349\n",
      "Epoch 25/50\n",
      "2/2 [==============================] - 0s 3ms/step - loss: 0.1211\n",
      "Epoch 26/50\n",
      "2/2 [==============================] - 0s 2ms/step - loss: 0.1007\n",
      "Epoch 27/50\n",
      "2/2 [==============================] - 0s 1ms/step - loss: 0.0846\n",
      "Epoch 28/50\n",
      "2/2 [==============================] - 0s 2ms/step - loss: 0.0696\n",
      "Epoch 29/50\n",
      "2/2 [==============================] - 0s 5ms/step - loss: 0.0595\n",
      "Epoch 30/50\n",
      "2/2 [==============================] - 0s 3ms/step - loss: 0.0608\n",
      "Epoch 31/50\n",
      "2/2 [==============================] - 0s 2ms/step - loss: 0.0479\n",
      "Epoch 32/50\n",
      "2/2 [==============================] - 0s 1ms/step - loss: 0.0444\n",
      "Epoch 33/50\n",
      "2/2 [==============================] - 0s 3ms/step - loss: 0.0393\n",
      "Epoch 34/50\n",
      "2/2 [==============================] - 0s 2ms/step - loss: 0.0375\n",
      "Epoch 35/50\n",
      "2/2 [==============================] - 0s 1ms/step - loss: 0.0360\n",
      "Epoch 36/50\n",
      "2/2 [==============================] - ETA: 0s - loss: 0.033 - 0s 4ms/step - loss: 0.0324\n",
      "Epoch 37/50\n",
      "2/2 [==============================] - 0s 2ms/step - loss: 0.0324\n",
      "Epoch 38/50\n",
      "2/2 [==============================] - 0s 8ms/step - loss: 0.0302\n",
      "Epoch 39/50\n",
      "2/2 [==============================] - 0s 2ms/step - loss: 0.0268\n",
      "Epoch 40/50\n",
      "2/2 [==============================] - 0s 3ms/step - loss: 0.0263\n",
      "Epoch 41/50\n",
      "2/2 [==============================] - 0s 1ms/step - loss: 0.0256\n",
      "Epoch 42/50\n",
      "2/2 [==============================] - 0s 2ms/step - loss: 0.0241\n",
      "Epoch 43/50\n",
      "2/2 [==============================] - 0s 3ms/step - loss: 0.0222\n",
      "Epoch 44/50\n",
      "2/2 [==============================] - 0s 68ms/step - loss: 0.0207\n",
      "Epoch 45/50\n",
      "2/2 [==============================] - 0s 3ms/step - loss: 0.0214\n",
      "Epoch 46/50\n",
      "2/2 [==============================] - 0s 2ms/step - loss: 0.0195\n",
      "Epoch 47/50\n",
      "2/2 [==============================] - 0s 2ms/step - loss: 0.0184\n",
      "Epoch 48/50\n",
      "2/2 [==============================] - 0s 6ms/step - loss: 0.0193\n",
      "Epoch 49/50\n",
      "2/2 [==============================] - 0s 3ms/step - loss: 0.0172\n",
      "Epoch 50/50\n",
      "2/2 [==============================] - 0s 2ms/step - loss: 0.0166\n",
      "1/1 [==============================] - 0s 3ms/step - loss: 0.0158\n",
      "final loss: 0.0158169437199831\n",
      "final predictions:\n",
      "[[0.9755515  0.02444853]\n",
      " [0.00721646 0.99278355]\n",
      " [0.00649917 0.99350077]\n",
      " [0.9755515  0.02444853]]\n"
     ]
    }
   ],
   "source": [
    "tf.keras.backend.clear_session\n",
    "\n",
    "nonlinear_model = tf.keras.Sequential([\n",
    "    tf.keras.layers.Dense(10, input_shape=(2,), activation='relu'),\n",
    "    tf.keras.layers.Dense(2, activation='softmax')\n",
    "])\n",
    "\n",
    "nonlinear_model.compile(optimizer=tf.keras.optimizers.SGD(learning_rate=1),\n",
    "                        loss='sparse_categorical_crossentropy')\n",
    "\n",
    "nonlinear_model.fit(xor_input, xor_output, batch_size=2, epochs=50)\n",
    "\n",
    "print('final loss:', nonlinear_model.evaluate(xor_input, xor_output))\n",
    "print('final predictions:', nonlinear_model.predict(xor_input), sep='\\n')"
   ]
  },
  {
   "cell_type": "markdown",
   "metadata": {},
   "source": [
    "# TensorBoard\n",
    "\n",
    "So far, you have been exploring the results using simple print out messages. However, neural networks can grow very large and complicated, and you may wish to visualise and explore various components along the way. Visualisation in this case is not only a useful method for reporting and sharing your results, but also a good way to inspect your network and debug it. \n",
    "\n",
    "[`TensorBoard`](https://www.tensorflow.org/tensorboard) provides you with all the needed visualisation functionality and allows you to:\n",
    "\n",
    "- track and visualise metrics such as loss and accuracy;\n",
    "- visualise the model graph (ops and layers);\n",
    "- view histograms of weights, biases, or other tensors as they change over time;\n",
    "- project embeddings to a lower dimensional space;\n",
    "- display images, text, and audio data;\n",
    "- profile TensorFlow programs;\n",
    "\n",
    "among other things. Moreover, you can run it in your browser or embed it directly into your notebook as the code below shows:"
   ]
  },
  {
   "cell_type": "code",
   "execution_count": 28,
   "metadata": {},
   "outputs": [],
   "source": [
    "# Load the TensorBoard notebook extension\n",
    "%load_ext tensorboard"
   ]
  },
  {
   "cell_type": "markdown",
   "metadata": {},
   "source": [
    "Since you will likely be introducing changes into your network and rerunning your code, it's important to be able to distinguish between these different runs to track the changes. Every time you run a new model, it will be stored in log files and added to your `TensorBoard`, so a good way to distinguish between various models is to add a time stamp to each of them. Let's add this functionality:"
   ]
  },
  {
   "cell_type": "code",
   "execution_count": 29,
   "metadata": {},
   "outputs": [],
   "source": [
    "import datetime"
   ]
  },
  {
   "cell_type": "markdown",
   "metadata": {},
   "source": [
    "Now, make sure you clean all the previous logs (e.g., if you've run this notebook before). You can clear any logs from previous runs by running `rm -rf ./logs/` from within your notebook folder in your terminal.\n",
    "\n",
    "Once this is done, let's train a network and store its details in the log files."
   ]
  },
  {
   "cell_type": "code",
   "execution_count": 30,
   "metadata": {
    "scrolled": false
   },
   "outputs": [
    {
     "name": "stdout",
     "output_type": "stream",
     "text": [
      "Epoch 1/50\n",
      "1/2 [==============>...............] - ETA: 0s - loss: 0.6090WARNING:tensorflow:From /Users/elim/opt/anaconda3/envs/ML/lib/python3.8/site-packages/tensorflow/python/ops/summary_ops_v2.py:1277: stop (from tensorflow.python.eager.profiler) is deprecated and will be removed after 2020-07-01.\n",
      "Instructions for updating:\n",
      "use `tf.profiler.experimental.stop` instead.\n",
      "2/2 [==============================] - ETA: 0s - loss: 1.4315WARNING:tensorflow:Callbacks method `on_train_batch_end` is slow compared to the batch time (batch time: 0.0029s vs `on_train_batch_end` time: 0.0520s). Check your callbacks.\n",
      "2/2 [==============================] - 0s 114ms/step - loss: 1.4315 - val_loss: 0.8558\n",
      "Epoch 2/50\n",
      "2/2 [==============================] - 0s 13ms/step - loss: 0.8663 - val_loss: 0.6972\n",
      "Epoch 3/50\n",
      "2/2 [==============================] - 0s 19ms/step - loss: 0.8422 - val_loss: 0.6832\n",
      "Epoch 4/50\n",
      "2/2 [==============================] - 0s 12ms/step - loss: 1.3184 - val_loss: 0.7904\n",
      "Epoch 5/50\n",
      "2/2 [==============================] - 0s 17ms/step - loss: 1.0726 - val_loss: 0.7080\n",
      "Epoch 6/50\n",
      "2/2 [==============================] - 0s 18ms/step - loss: 0.8119 - val_loss: 0.6934\n",
      "Epoch 7/50\n",
      "2/2 [==============================] - 0s 13ms/step - loss: 1.0381 - val_loss: 0.7181\n",
      "Epoch 8/50\n",
      "2/2 [==============================] - 0s 18ms/step - loss: 0.8010 - val_loss: 0.6934\n",
      "Epoch 9/50\n",
      "2/2 [==============================] - 0s 12ms/step - loss: 0.7458 - val_loss: 0.6936\n",
      "Epoch 10/50\n",
      "2/2 [==============================] - 0s 15ms/step - loss: 0.7363 - val_loss: 0.6948\n",
      "Epoch 11/50\n",
      "2/2 [==============================] - 0s 19ms/step - loss: 0.7230 - val_loss: 0.6932\n",
      "Epoch 12/50\n",
      "2/2 [==============================] - 0s 13ms/step - loss: 0.7177 - val_loss: 0.6931\n",
      "Epoch 13/50\n",
      "2/2 [==============================] - 0s 15ms/step - loss: 0.7128 - val_loss: 0.6930\n",
      "Epoch 14/50\n",
      "2/2 [==============================] - 0s 12ms/step - loss: 0.7086 - val_loss: 0.6930\n",
      "Epoch 15/50\n",
      "2/2 [==============================] - 0s 19ms/step - loss: 0.7052 - val_loss: 0.6929\n",
      "Epoch 16/50\n",
      "2/2 [==============================] - 0s 12ms/step - loss: 1.0350 - val_loss: 0.7219\n",
      "Epoch 17/50\n",
      "2/2 [==============================] - 0s 21ms/step - loss: 0.7365 - val_loss: 0.6935\n",
      "Epoch 18/50\n",
      "2/2 [==============================] - 0s 12ms/step - loss: 0.7048 - val_loss: 0.6931\n",
      "Epoch 19/50\n",
      "2/2 [==============================] - 0s 24ms/step - loss: 0.7027 - val_loss: 0.6932\n",
      "Epoch 20/50\n",
      "2/2 [==============================] - 0s 13ms/step - loss: 0.6995 - val_loss: 0.6931\n",
      "Epoch 21/50\n",
      "2/2 [==============================] - 0s 25ms/step - loss: 0.6990 - val_loss: 0.6932\n",
      "Epoch 22/50\n",
      "2/2 [==============================] - 0s 14ms/step - loss: 0.6971 - val_loss: 0.6931\n",
      "Epoch 23/50\n",
      "2/2 [==============================] - 0s 18ms/step - loss: 0.6963 - val_loss: 0.6931\n",
      "Epoch 24/50\n",
      "2/2 [==============================] - 0s 19ms/step - loss: 0.6956 - val_loss: 0.6931\n",
      "Epoch 25/50\n",
      "2/2 [==============================] - 0s 16ms/step - loss: 0.8014 - val_loss: 0.6938\n",
      "Epoch 26/50\n",
      "2/2 [==============================] - 0s 16ms/step - loss: 0.6973 - val_loss: 0.6933\n",
      "Epoch 27/50\n",
      "2/2 [==============================] - 0s 17ms/step - loss: 0.7720 - val_loss: 0.6936\n",
      "Epoch 28/50\n",
      "2/2 [==============================] - 0s 19ms/step - loss: 0.6963 - val_loss: 0.6933\n",
      "Epoch 29/50\n",
      "2/2 [==============================] - 0s 17ms/step - loss: 1.0135 - val_loss: 0.7201\n",
      "Epoch 30/50\n",
      "2/2 [==============================] - 0s 12ms/step - loss: 0.7147 - val_loss: 0.6941\n",
      "Epoch 31/50\n",
      "2/2 [==============================] - 0s 23ms/step - loss: 0.6961 - val_loss: 0.6933\n",
      "Epoch 32/50\n",
      "2/2 [==============================] - 0s 22ms/step - loss: 1.0038 - val_loss: 0.7188\n",
      "Epoch 33/50\n",
      "2/2 [==============================] - 0s 26ms/step - loss: 0.7126 - val_loss: 0.6941\n",
      "Epoch 34/50\n",
      "2/2 [==============================] - 0s 46ms/step - loss: 1.0108 - val_loss: 0.7229\n",
      "Epoch 35/50\n",
      "2/2 [==============================] - 0s 34ms/step - loss: 0.9899 - val_loss: 0.7047\n",
      "Epoch 36/50\n",
      "2/2 [==============================] - 0s 19ms/step - loss: 1.0303 - val_loss: 0.7309\n",
      "Epoch 37/50\n",
      "2/2 [==============================] - 0s 18ms/step - loss: 0.7212 - val_loss: 0.6947\n",
      "Epoch 38/50\n",
      "2/2 [==============================] - 0s 18ms/step - loss: 1.0121 - val_loss: 0.7236\n",
      "Epoch 39/50\n",
      "2/2 [==============================] - 0s 18ms/step - loss: 1.0533 - val_loss: 0.7390\n",
      "Epoch 40/50\n",
      "2/2 [==============================] - 0s 16ms/step - loss: 0.7258 - val_loss: 0.6952\n",
      "Epoch 41/50\n",
      "2/2 [==============================] - 0s 14ms/step - loss: 0.6952 - val_loss: 0.6933\n",
      "Epoch 42/50\n",
      "2/2 [==============================] - 0s 17ms/step - loss: 1.0064 - val_loss: 0.7208\n",
      "Epoch 43/50\n",
      "2/2 [==============================] - 0s 13ms/step - loss: 1.0505 - val_loss: 0.7380\n",
      "Epoch 44/50\n",
      "2/2 [==============================] - 0s 15ms/step - loss: 0.9928 - val_loss: 0.7019\n",
      "Epoch 45/50\n",
      "2/2 [==============================] - 0s 13ms/step - loss: 0.7004 - val_loss: 0.6934\n",
      "Epoch 46/50\n",
      "2/2 [==============================] - 0s 15ms/step - loss: 1.0004 - val_loss: 0.7180\n",
      "Epoch 47/50\n",
      "2/2 [==============================] - 0s 18ms/step - loss: 0.7104 - val_loss: 0.6943\n",
      "Epoch 48/50\n",
      "2/2 [==============================] - 0s 12ms/step - loss: 0.9980 - val_loss: 0.7165\n",
      "Epoch 49/50\n",
      "2/2 [==============================] - 0s 16ms/step - loss: 1.0453 - val_loss: 0.7363\n",
      "Epoch 50/50\n",
      "2/2 [==============================] - 0s 11ms/step - loss: 0.9924 - val_loss: 0.7022\n",
      "1/1 [==============================] - 0s 921us/step - loss: 0.7022\n",
      "final loss: 0.7021617889404297\n",
      "final predictions:\n",
      "[[0.56700754 0.43299246]\n",
      " [0.56698227 0.43301767]\n",
      " [0.56668735 0.4333126 ]\n",
      " [0.56666213 0.43333793]]\n"
     ]
    }
   ],
   "source": [
    "tf.keras.backend.clear_session\n",
    "\n",
    "nonlinear_model = tf.keras.Sequential([\n",
    "    tf.keras.layers.Dense(10, input_shape=(2,), activation='tanh'),\n",
    "    tf.keras.layers.Dense(2, activation='softmax')\n",
    "])\n",
    "\n",
    "nonlinear_model.compile(optimizer=tf.keras.optimizers.SGD(learning_rate=1),\n",
    "                        loss='sparse_categorical_crossentropy')\n",
    "\n",
    "log_dir = \"logs/fit/\" + datetime.datetime.now().strftime(\"%Y%m%d-%H%M%S\")\n",
    "tensorboard_callback = tf.keras.callbacks.TensorBoard(log_dir=log_dir, histogram_freq=1)\n",
    "\n",
    "nonlinear_model.fit(xor_input, xor_output, \n",
    "                    batch_size=2, epochs=50, \n",
    "                    validation_data=(xor_input, xor_output),\n",
    "                    callbacks=[tensorboard_callback])\n",
    "\n",
    "print('final loss:', nonlinear_model.evaluate(xor_input, xor_output))\n",
    "print('final predictions:', nonlinear_model.predict(xor_input), sep='\\n')"
   ]
  },
  {
   "cell_type": "markdown",
   "metadata": {},
   "source": [
    "And now you can explore your model in `TensorBoard`:"
   ]
  },
  {
   "cell_type": "code",
   "execution_count": 31,
   "metadata": {
    "scrolled": true
   },
   "outputs": [
    {
     "data": {
      "text/html": [
       "\n",
       "      <iframe id=\"tensorboard-frame-c0554b06c1f556d6\" width=\"100%\" height=\"800\" frameborder=\"0\">\n",
       "      </iframe>\n",
       "      <script>\n",
       "        (function() {\n",
       "          const frame = document.getElementById(\"tensorboard-frame-c0554b06c1f556d6\");\n",
       "          const url = new URL(\"/\", window.location);\n",
       "          const port = 6006;\n",
       "          if (port) {\n",
       "            url.port = port;\n",
       "          }\n",
       "          frame.src = url;\n",
       "        })();\n",
       "      </script>\n",
       "    "
      ],
      "text/plain": [
       "<IPython.core.display.HTML object>"
      ]
     },
     "metadata": {},
     "output_type": "display_data"
    }
   ],
   "source": [
    "%tensorboard --logdir logs/fit"
   ]
  },
  {
   "cell_type": "markdown",
   "metadata": {},
   "source": [
    "You can explore both the results (e.g., learning curves) under the `Scalars` tab and the network architecture itself under the `Graphs` tab. All visualisations are interactive – note that you can scroll in on the network components in the `Graph` visualisation and double-click on the \"+\" sign in the upper right corner of any component to track operations, weights, etc.\n",
    "\n",
    "A brief overview of the dashboards from [`TensorBoard` documentation](https://www.tensorflow.org/tensorboard/get_started):\n",
    "\n",
    "- The `Scalars` dashboard shows how the loss and metrics change with every epoch. You can use it to also track training speed, learning rate, and other scalar values.\n",
    "- The `Graphs` dashboard helps you visualise your model. In this case, the Keras graph of layers is shown which can help you ensure it is built correctly.\n",
    "- The `Distributions` and `Histograms` dashboards show the distribution of a Tensor over time. This can be useful to visualize weights and biases and verify that they are changing in an expected way.\n",
    "\n",
    "There are additional `TensorBoard` plugins, which are automatically enabled when you log other types of data (note, it is not applicable to this notebook, as you are not working with any other types of data here). For example, the Keras `TensorBoard` callback lets you log images and embeddings as well. You can see what other plugins are available in `TensorBoard` by clicking on the \"inactive\" dropdown towards the top right.\n",
    "\n",
    "\n",
    "# Keeping track of the history\n",
    "\n",
    "There are other ways to get more information and description of your model, which are useful when you introduce more complexity to the model and would like to keep track of the changes. We'll summarise them in this section."
   ]
  },
  {
   "cell_type": "code",
   "execution_count": 32,
   "metadata": {},
   "outputs": [],
   "source": [
    "tf.keras.backend.clear_session\n",
    "\n",
    "nonlinear_model = tf.keras.Sequential([\n",
    "    tf.keras.layers.Dense(10, input_shape=(2,), activation='relu'),\n",
    "    tf.keras.layers.Dense(2, activation='softmax')\n",
    "])"
   ]
  },
  {
   "cell_type": "markdown",
   "metadata": {},
   "source": [
    "For instance, here is how you can return the information on the networks' layers and their types:"
   ]
  },
  {
   "cell_type": "code",
   "execution_count": 33,
   "metadata": {},
   "outputs": [
    {
     "data": {
      "text/plain": [
       "[<tensorflow.python.keras.layers.core.Dense at 0x7fd710f03550>,\n",
       " <tensorflow.python.keras.layers.core.Dense at 0x7fd710f08bb0>]"
      ]
     },
     "execution_count": 33,
     "metadata": {},
     "output_type": "execute_result"
    }
   ],
   "source": [
    "nonlinear_model.layers"
   ]
  },
  {
   "cell_type": "markdown",
   "metadata": {},
   "source": [
    "And here is how you can get a concise summary of the network layers (note that the first dimension in the output shape column is specified as `None` – this is to denote that this dimension is variable as it depends on the batch size):"
   ]
  },
  {
   "cell_type": "code",
   "execution_count": 34,
   "metadata": {},
   "outputs": [
    {
     "name": "stdout",
     "output_type": "stream",
     "text": [
      "Model: \"sequential_11\"\n",
      "_________________________________________________________________\n",
      "Layer (type)                 Output Shape              Param #   \n",
      "=================================================================\n",
      "dense_21 (Dense)             (None, 10)                30        \n",
      "_________________________________________________________________\n",
      "dense_22 (Dense)             (None, 2)                 22        \n",
      "=================================================================\n",
      "Total params: 52\n",
      "Trainable params: 52\n",
      "Non-trainable params: 0\n",
      "_________________________________________________________________\n"
     ]
    }
   ],
   "source": [
    "nonlinear_model.summary()"
   ]
  },
  {
   "cell_type": "markdown",
   "metadata": {},
   "source": [
    "Finally, you can also plot tje model summary like so:"
   ]
  },
  {
   "cell_type": "code",
   "execution_count": 35,
   "metadata": {},
   "outputs": [],
   "source": [
    "#tf.keras.utils.plot_model(nonlinear_model, show_shapes=True)"
   ]
  },
  {
   "cell_type": "markdown",
   "metadata": {},
   "source": [
    "Below are a number of ways to extract (and store) the information on individual layers, as well as on weights and biases in the network:"
   ]
  },
  {
   "cell_type": "code",
   "execution_count": 36,
   "metadata": {},
   "outputs": [
    {
     "data": {
      "text/plain": [
       "'dense_22'"
      ]
     },
     "execution_count": 36,
     "metadata": {},
     "output_type": "execute_result"
    }
   ],
   "source": [
    "hidden1 = nonlinear_model.layers[1]\n",
    "hidden1.name"
   ]
  },
  {
   "cell_type": "code",
   "execution_count": 37,
   "metadata": {},
   "outputs": [
    {
     "data": {
      "text/plain": [
       "True"
      ]
     },
     "execution_count": 37,
     "metadata": {},
     "output_type": "execute_result"
    }
   ],
   "source": [
    "nonlinear_model.get_layer(hidden1.name) is hidden1"
   ]
  },
  {
   "cell_type": "code",
   "execution_count": 38,
   "metadata": {},
   "outputs": [],
   "source": [
    "weights, biases = hidden1.get_weights()"
   ]
  },
  {
   "cell_type": "code",
   "execution_count": 39,
   "metadata": {},
   "outputs": [
    {
     "data": {
      "text/plain": [
       "array([[ 0.11545169,  0.21634954],\n",
       "       [ 0.3835712 , -0.390561  ],\n",
       "       [ 0.57737106,  0.59620816],\n",
       "       [ 0.2510231 ,  0.09301978],\n",
       "       [-0.66466975, -0.6046152 ],\n",
       "       [-0.5076999 ,  0.4714052 ],\n",
       "       [-0.27718398,  0.2752211 ],\n",
       "       [ 0.03581184,  0.04638898],\n",
       "       [ 0.44142455, -0.46810365],\n",
       "       [-0.5944241 ,  0.15561002]], dtype=float32)"
      ]
     },
     "execution_count": 39,
     "metadata": {},
     "output_type": "execute_result"
    }
   ],
   "source": [
    "weights"
   ]
  },
  {
   "cell_type": "code",
   "execution_count": 40,
   "metadata": {},
   "outputs": [
    {
     "data": {
      "text/plain": [
       "(10, 2)"
      ]
     },
     "execution_count": 40,
     "metadata": {},
     "output_type": "execute_result"
    }
   ],
   "source": [
    "weights.shape"
   ]
  },
  {
   "cell_type": "code",
   "execution_count": 41,
   "metadata": {},
   "outputs": [
    {
     "data": {
      "text/plain": [
       "array([0., 0.], dtype=float32)"
      ]
     },
     "execution_count": 41,
     "metadata": {},
     "output_type": "execute_result"
    }
   ],
   "source": [
    "biases"
   ]
  },
  {
   "cell_type": "code",
   "execution_count": 42,
   "metadata": {},
   "outputs": [
    {
     "data": {
      "text/plain": [
       "(2,)"
      ]
     },
     "execution_count": 42,
     "metadata": {},
     "output_type": "execute_result"
    }
   ],
   "source": [
    "biases.shape"
   ]
  },
  {
   "cell_type": "markdown",
   "metadata": {},
   "source": [
    "Now let's train the model and track the changes in the loss and accuracy on the training and validation data:"
   ]
  },
  {
   "cell_type": "code",
   "execution_count": 43,
   "metadata": {},
   "outputs": [],
   "source": [
    "nonlinear_model.compile(optimizer=tf.keras.optimizers.SGD(learning_rate=1),\n",
    "                        loss='sparse_categorical_crossentropy',\n",
    "                       metrics = ['accuracy'])"
   ]
  },
  {
   "cell_type": "code",
   "execution_count": 44,
   "metadata": {},
   "outputs": [
    {
     "name": "stdout",
     "output_type": "stream",
     "text": [
      "Epoch 1/50\n",
      "2/2 [==============================] - 0s 135ms/step - loss: 0.9597 - accuracy: 0.5000 - val_loss: 0.6446 - val_accuracy: 0.7500\n",
      "Epoch 2/50\n",
      "2/2 [==============================] - 0s 10ms/step - loss: 0.6660 - accuracy: 0.5000 - val_loss: 0.6183 - val_accuracy: 0.7500\n",
      "Epoch 3/50\n",
      "2/2 [==============================] - 0s 11ms/step - loss: 0.6582 - accuracy: 0.5000 - val_loss: 0.6353 - val_accuracy: 0.7500\n",
      "Epoch 4/50\n",
      "2/2 [==============================] - 0s 10ms/step - loss: 0.9738 - accuracy: 0.2500 - val_loss: 0.5898 - val_accuracy: 0.7500\n",
      "Epoch 5/50\n",
      "2/2 [==============================] - 0s 10ms/step - loss: 0.6235 - accuracy: 0.7500 - val_loss: 0.5702 - val_accuracy: 0.7500\n",
      "Epoch 6/50\n",
      "2/2 [==============================] - 0s 10ms/step - loss: 0.8142 - accuracy: 0.5000 - val_loss: 0.6492 - val_accuracy: 0.5000\n",
      "Epoch 7/50\n",
      "2/2 [==============================] - 0s 10ms/step - loss: 0.8611 - accuracy: 0.5000 - val_loss: 0.7748 - val_accuracy: 0.5000\n",
      "Epoch 8/50\n",
      "2/2 [==============================] - 0s 26ms/step - loss: 0.7440 - accuracy: 0.5000 - val_loss: 0.6972 - val_accuracy: 0.5000\n",
      "Epoch 9/50\n",
      "2/2 [==============================] - 0s 11ms/step - loss: 0.6962 - accuracy: 0.5000 - val_loss: 0.6910 - val_accuracy: 0.5000\n",
      "Epoch 10/50\n",
      "2/2 [==============================] - 0s 13ms/step - loss: 0.6909 - accuracy: 0.5000 - val_loss: 0.6841 - val_accuracy: 0.5000\n",
      "Epoch 11/50\n",
      "2/2 [==============================] - 0s 11ms/step - loss: 0.6880 - accuracy: 0.2500 - val_loss: 0.6873 - val_accuracy: 0.7500\n",
      "Epoch 12/50\n",
      "2/2 [==============================] - 0s 12ms/step - loss: 0.9937 - accuracy: 0.5000 - val_loss: 0.7183 - val_accuracy: 0.5000\n",
      "Epoch 13/50\n",
      "2/2 [==============================] - 0s 13ms/step - loss: 1.0239 - accuracy: 0.5000 - val_loss: 0.7156 - val_accuracy: 0.5000\n",
      "Epoch 14/50\n",
      "2/2 [==============================] - 0s 11ms/step - loss: 0.9889 - accuracy: 0.5000 - val_loss: 0.7060 - val_accuracy: 0.5000\n",
      "Epoch 15/50\n",
      "2/2 [==============================] - 0s 20ms/step - loss: 0.7010 - accuracy: 0.5000 - val_loss: 0.6931 - val_accuracy: 0.5000\n",
      "Epoch 16/50\n",
      "2/2 [==============================] - 0s 23ms/step - loss: 0.6936 - accuracy: 0.5000 - val_loss: 0.6920 - val_accuracy: 0.5000\n",
      "Epoch 17/50\n",
      "2/2 [==============================] - 0s 11ms/step - loss: 0.6920 - accuracy: 0.5000 - val_loss: 0.6908 - val_accuracy: 0.5000\n",
      "Epoch 18/50\n",
      "2/2 [==============================] - 0s 13ms/step - loss: 0.6908 - accuracy: 0.5000 - val_loss: 0.6888 - val_accuracy: 0.5000\n",
      "Epoch 19/50\n",
      "2/2 [==============================] - 0s 20ms/step - loss: 1.0041 - accuracy: 0.2500 - val_loss: 0.7218 - val_accuracy: 0.5000\n",
      "Epoch 20/50\n",
      "2/2 [==============================] - 0s 12ms/step - loss: 0.7112 - accuracy: 0.5000 - val_loss: 0.6950 - val_accuracy: 0.5000\n",
      "Epoch 21/50\n",
      "2/2 [==============================] - 0s 15ms/step - loss: 0.6943 - accuracy: 0.5000 - val_loss: 0.6933 - val_accuracy: 0.5000\n",
      "Epoch 22/50\n",
      "2/2 [==============================] - 0s 13ms/step - loss: 1.0012 - accuracy: 0.5000 - val_loss: 0.7186 - val_accuracy: 0.5000\n",
      "Epoch 23/50\n",
      "2/2 [==============================] - 0s 14ms/step - loss: 0.7092 - accuracy: 0.5000 - val_loss: 0.6948 - val_accuracy: 0.5000\n",
      "Epoch 24/50\n",
      "2/2 [==============================] - 0s 22ms/step - loss: 0.6942 - accuracy: 0.5000 - val_loss: 0.6933 - val_accuracy: 0.5000\n",
      "Epoch 25/50\n",
      "2/2 [==============================] - 0s 21ms/step - loss: 1.0052 - accuracy: 0.0000e+00 - val_loss: 0.7206 - val_accuracy: 0.5000\n",
      "Epoch 26/50\n",
      "2/2 [==============================] - 0s 26ms/step - loss: 0.7105 - accuracy: 0.5000 - val_loss: 0.6950 - val_accuracy: 0.5000\n",
      "Epoch 27/50\n",
      "2/2 [==============================] - 0s 21ms/step - loss: 1.0124 - accuracy: 0.0000e+00 - val_loss: 0.7239 - val_accuracy: 0.5000\n",
      "Epoch 28/50\n",
      "2/2 [==============================] - 0s 18ms/step - loss: 0.7125 - accuracy: 0.5000 - val_loss: 0.6952 - val_accuracy: 0.5000\n",
      "Epoch 29/50\n",
      "2/2 [==============================] - 0s 14ms/step - loss: 0.6944 - accuracy: 0.5000 - val_loss: 0.6933 - val_accuracy: 0.5000\n",
      "Epoch 30/50\n",
      "2/2 [==============================] - 0s 25ms/step - loss: 0.6932 - accuracy: 0.5000 - val_loss: 0.6932 - val_accuracy: 0.5000\n",
      "Epoch 31/50\n",
      "2/2 [==============================] - 0s 37ms/step - loss: 0.6932 - accuracy: 0.5000 - val_loss: 0.6931 - val_accuracy: 0.5000\n",
      "Epoch 32/50\n",
      "2/2 [==============================] - 0s 15ms/step - loss: 0.6931 - accuracy: 0.5000 - val_loss: 0.6931 - val_accuracy: 0.5000\n",
      "Epoch 33/50\n",
      "2/2 [==============================] - 0s 15ms/step - loss: 0.6931 - accuracy: 0.5000 - val_loss: 0.6931 - val_accuracy: 0.5000\n",
      "Epoch 34/50\n",
      "2/2 [==============================] - 0s 12ms/step - loss: 1.0032 - accuracy: 0.5000 - val_loss: 0.7196 - val_accuracy: 0.5000\n",
      "Epoch 35/50\n",
      "2/2 [==============================] - 0s 12ms/step - loss: 1.0488 - accuracy: 0.0000e+00 - val_loss: 0.7375 - val_accuracy: 0.5000\n",
      "Epoch 36/50\n",
      "2/2 [==============================] - 0s 13ms/step - loss: 1.0674 - accuracy: 0.0000e+00 - val_loss: 0.7437 - val_accuracy: 0.5000\n",
      "Epoch 37/50\n",
      "2/2 [==============================] - 0s 11ms/step - loss: 0.9943 - accuracy: 0.5000 - val_loss: 0.7010 - val_accuracy: 0.5000\n",
      "Epoch 38/50\n",
      "2/2 [==============================] - 0s 12ms/step - loss: 0.9913 - accuracy: 0.5000 - val_loss: 0.7115 - val_accuracy: 0.5000\n",
      "Epoch 39/50\n",
      "2/2 [==============================] - 0s 13ms/step - loss: 0.9892 - accuracy: 0.5000 - val_loss: 0.7076 - val_accuracy: 0.5000\n",
      "Epoch 40/50\n",
      "2/2 [==============================] - 0s 12ms/step - loss: 1.0342 - accuracy: 0.0000e+00 - val_loss: 0.7324 - val_accuracy: 0.5000\n",
      "Epoch 41/50\n",
      "2/2 [==============================] - 0s 16ms/step - loss: 0.7180 - accuracy: 0.5000 - val_loss: 0.6958 - val_accuracy: 0.5000\n",
      "Epoch 42/50\n",
      "2/2 [==============================] - 0s 14ms/step - loss: 1.0145 - accuracy: 0.0000e+00 - val_loss: 0.7248 - val_accuracy: 0.5000\n",
      "Epoch 43/50\n",
      "2/2 [==============================] - 0s 14ms/step - loss: 0.9901 - accuracy: 0.5000 - val_loss: 0.7043 - val_accuracy: 0.5000\n",
      "Epoch 44/50\n",
      "2/2 [==============================] - 0s 11ms/step - loss: 0.7001 - accuracy: 0.5000 - val_loss: 0.6939 - val_accuracy: 0.5000\n",
      "Epoch 45/50\n",
      "2/2 [==============================] - 0s 20ms/step - loss: 1.0087 - accuracy: 0.0000e+00 - val_loss: 0.7223 - val_accuracy: 0.5000\n",
      "Epoch 46/50\n",
      "2/2 [==============================] - 0s 13ms/step - loss: 0.7115 - accuracy: 0.5000 - val_loss: 0.6951 - val_accuracy: 0.5000\n",
      "Epoch 47/50\n",
      "2/2 [==============================] - 0s 13ms/step - loss: 0.6944 - accuracy: 0.5000 - val_loss: 0.6933 - val_accuracy: 0.5000\n",
      "Epoch 48/50\n",
      "2/2 [==============================] - 0s 17ms/step - loss: 1.0012 - accuracy: 0.5000 - val_loss: 0.7185 - val_accuracy: 0.5000\n",
      "Epoch 49/50\n",
      "2/2 [==============================] - 0s 17ms/step - loss: 0.9894 - accuracy: 0.5000 - val_loss: 0.7057 - val_accuracy: 0.5000\n",
      "Epoch 50/50\n",
      "2/2 [==============================] - 0s 17ms/step - loss: 0.7010 - accuracy: 0.5000 - val_loss: 0.6940 - val_accuracy: 0.5000\n"
     ]
    }
   ],
   "source": [
    "history = nonlinear_model.fit(xor_input, xor_output, batch_size=2, epochs=50,\n",
    "                    validation_data=(xor_input, xor_output))\n"
   ]
  },
  {
   "cell_type": "code",
   "execution_count": 45,
   "metadata": {},
   "outputs": [
    {
     "data": {
      "text/plain": [
       "{'verbose': 1, 'epochs': 50, 'steps': 2}"
      ]
     },
     "execution_count": 45,
     "metadata": {},
     "output_type": "execute_result"
    }
   ],
   "source": [
    "history.params"
   ]
  },
  {
   "cell_type": "code",
   "execution_count": 46,
   "metadata": {},
   "outputs": [
    {
     "name": "stdout",
     "output_type": "stream",
     "text": [
      "[0, 1, 2, 3, 4, 5, 6, 7, 8, 9, 10, 11, 12, 13, 14, 15, 16, 17, 18, 19, 20, 21, 22, 23, 24, 25, 26, 27, 28, 29, 30, 31, 32, 33, 34, 35, 36, 37, 38, 39, 40, 41, 42, 43, 44, 45, 46, 47, 48, 49]\n"
     ]
    }
   ],
   "source": [
    "print(history.epoch)"
   ]
  },
  {
   "cell_type": "code",
   "execution_count": 47,
   "metadata": {},
   "outputs": [
    {
     "data": {
      "text/plain": [
       "dict_keys(['loss', 'accuracy', 'val_loss', 'val_accuracy'])"
      ]
     },
     "execution_count": 47,
     "metadata": {},
     "output_type": "execute_result"
    }
   ],
   "source": [
    "history.history.keys()"
   ]
  },
  {
   "cell_type": "markdown",
   "metadata": {},
   "source": [
    "Finally, let's plot the changes across all epochs:"
   ]
  },
  {
   "cell_type": "code",
   "execution_count": 48,
   "metadata": {},
   "outputs": [
    {
     "data": {
      "image/png": "[encoded data removed]",
      "text/plain": [
       "<Figure size 576x360 with 1 Axes>"
      ]
     },
     "metadata": {
      "needs_background": "light"
     },
     "output_type": "display_data"
    }
   ],
   "source": [
    "import pandas as pd\n",
    "\n",
    "pd.DataFrame(history.history).plot(figsize=(8, 5))\n",
    "plt.grid(True)\n",
    "plt.gca().set_ylim(0, 1)\n",
    "plt.show()"
   ]
  },
  {
   "cell_type": "markdown",
   "metadata": {},
   "source": [
    "# Case of regression\n",
    "\n",
    "Finally, you can address not only classification but also regression tasks with `TensorFlow`. Let's look at a short example here.\n",
    "\n",
    "In Practical 1 you have been using a custom version of the California housing dataset (refer to the Practical 1 to see what differences were introduced in the original data). The original version is [accessible via `sklearn`](https://scikit-learn.org/stable/modules/generated/sklearn.datasets.fetch_california_housing.html), and the code below shows how to access a dataset from `sklearn` (in fact, `sklearn` provides access to a number of useful ML datasets, so take a look at the [documentation](https://scikit-learn.org/stable/datasets/index.html)):"
   ]
  },
  {
   "cell_type": "code",
   "execution_count": 49,
   "metadata": {},
   "outputs": [],
   "source": [
    "np.random.seed(42)\n",
    "tf.random.set_seed(42)\n",
    "from sklearn.datasets import fetch_california_housing\n",
    "\n",
    "housing = fetch_california_housing()"
   ]
  },
  {
   "cell_type": "markdown",
   "metadata": {},
   "source": [
    "Now let't split the dataset into training, validation, and test sets. Note that you can access the data from the dataset with `housing.data`, and the labels with `housing.target`:"
   ]
  },
  {
   "cell_type": "code",
   "execution_count": 50,
   "metadata": {},
   "outputs": [],
   "source": [
    "from sklearn.model_selection import train_test_split\n",
    "\n",
    "X_train_full, X_test, y_train_full, y_test = train_test_split(housing.data, housing.target, random_state=42)\n",
    "X_train, X_valid, y_train, y_valid = train_test_split(X_train_full, y_train_full, random_state=42)"
   ]
  },
  {
   "cell_type": "markdown",
   "metadata": {},
   "source": [
    "And scale the data using standardisation:"
   ]
  },
  {
   "cell_type": "code",
   "execution_count": 51,
   "metadata": {},
   "outputs": [],
   "source": [
    "from sklearn.preprocessing import StandardScaler\n",
    "\n",
    "scaler = StandardScaler()\n",
    "X_train = scaler.fit_transform(X_train)\n",
    "X_valid = scaler.transform(X_valid)\n",
    "X_test = scaler.transform(X_test)"
   ]
  },
  {
   "cell_type": "markdown",
   "metadata": {},
   "source": [
    "The code below shows to you how to implement a regression model using `TensorFlow`. It is quite similar to the code for classification with minor difference: the loss function that you use here is mean squared error, and the output is a single predicted value thus the dimensionality of the output layer."
   ]
  },
  {
   "cell_type": "code",
   "execution_count": 52,
   "metadata": {},
   "outputs": [
    {
     "name": "stdout",
     "output_type": "stream",
     "text": [
      "Epoch 1/20\n",
      "363/363 [==============================] - 1s 2ms/step - loss: 1.6419 - val_loss: 0.8560\n",
      "Epoch 2/20\n",
      "363/363 [==============================] - 0s 1ms/step - loss: 0.7047 - val_loss: 0.6531\n",
      "Epoch 3/20\n",
      "363/363 [==============================] - 0s 1ms/step - loss: 0.6345 - val_loss: 0.6099\n",
      "Epoch 4/20\n",
      "363/363 [==============================] - 1s 2ms/step - loss: 0.5977 - val_loss: 0.5658\n",
      "Epoch 5/20\n",
      "363/363 [==============================] - 1s 1ms/step - loss: 0.5706 - val_loss: 0.5355\n",
      "Epoch 6/20\n",
      "363/363 [==============================] - 0s 1ms/step - loss: 0.5472 - val_loss: 0.5173\n",
      "Epoch 7/20\n",
      "363/363 [==============================] - 1s 1ms/step - loss: 0.5288 - val_loss: 0.5081\n",
      "Epoch 8/20\n",
      "363/363 [==============================] - 0s 1ms/step - loss: 0.5130 - val_loss: 0.4799\n",
      "Epoch 9/20\n",
      "363/363 [==============================] - 0s 1ms/step - loss: 0.4992 - val_loss: 0.4690\n",
      "Epoch 10/20\n",
      "363/363 [==============================] - 0s 1ms/step - loss: 0.4875 - val_loss: 0.4656\n",
      "Epoch 11/20\n",
      "363/363 [==============================] - 0s 1ms/step - loss: 0.4777 - val_loss: 0.4482\n",
      "Epoch 12/20\n",
      "363/363 [==============================] - 0s 1ms/step - loss: 0.4688 - val_loss: 0.4479\n",
      "Epoch 13/20\n",
      "363/363 [==============================] - 0s 1ms/step - loss: 0.4615 - val_loss: 0.4296\n",
      "Epoch 14/20\n",
      "363/363 [==============================] - 0s 1ms/step - loss: 0.4547 - val_loss: 0.4233\n",
      "Epoch 15/20\n",
      "363/363 [==============================] - 0s 1ms/step - loss: 0.4488 - val_loss: 0.4176\n",
      "Epoch 16/20\n",
      "363/363 [==============================] - 0s 1ms/step - loss: 0.4435 - val_loss: 0.4123\n",
      "Epoch 17/20\n",
      "363/363 [==============================] - 0s 1ms/step - loss: 0.4389 - val_loss: 0.4071\n",
      "Epoch 18/20\n",
      "363/363 [==============================] - 0s 1ms/step - loss: 0.4347 - val_loss: 0.4037\n",
      "Epoch 19/20\n",
      "363/363 [==============================] - 0s 1ms/step - loss: 0.4306 - val_loss: 0.4000\n",
      "Epoch 20/20\n",
      "363/363 [==============================] - 0s 1ms/step - loss: 0.4273 - val_loss: 0.3969\n",
      "162/162 [==============================] - 0s 875us/step - loss: 0.4212\n"
     ]
    }
   ],
   "source": [
    "reg_model = tf.keras.models.Sequential([\n",
    "    tf.keras.layers.Dense(30, activation=\"relu\", input_shape=X_train.shape[1:]),\n",
    "    tf.keras.layers.Dense(1)\n",
    "])\n",
    "\n",
    "reg_model.compile(loss=\"mean_squared_error\", optimizer=tf.keras.optimizers.SGD(lr=1e-3))\n",
    "history = reg_model.fit(X_train, y_train, epochs=20, validation_data=(X_valid, y_valid))\n",
    "mse_test = reg_model.evaluate(X_test, y_test)"
   ]
  },
  {
   "cell_type": "markdown",
   "metadata": {},
   "source": [
    "Now let's plot the results:"
   ]
  },
  {
   "cell_type": "code",
   "execution_count": 53,
   "metadata": {},
   "outputs": [
    {
     "data": {
      "image/png": "[encoded data removed]",
      "text/plain": [
       "<Figure size 432x288 with 1 Axes>"
      ]
     },
     "metadata": {
      "needs_background": "light"
     },
     "output_type": "display_data"
    }
   ],
   "source": [
    "plt.plot(pd.DataFrame(history.history))\n",
    "plt.grid(True)\n",
    "plt.gca().set_ylim(0, 1)\n",
    "plt.show()"
   ]
  },
  {
   "cell_type": "markdown",
   "metadata": {},
   "source": [
    "Finally, you can also explore model's predictions on some selected datapoints and compare them to the true values for these datapoints:"
   ]
  },
  {
   "cell_type": "code",
   "execution_count": 54,
   "metadata": {},
   "outputs": [
    {
     "data": {
      "text/plain": [
       "array([[0.3885664],\n",
       "       [1.6792021],\n",
       "       [3.1022797]], dtype=float32)"
      ]
     },
     "execution_count": 54,
     "metadata": {},
     "output_type": "execute_result"
    }
   ],
   "source": [
    "X_new = X_test[:3]\n",
    "y_pred = reg_model.predict(X_new)\n",
    "\n",
    "y_pred"
   ]
  },
  {
   "cell_type": "code",
   "execution_count": 55,
   "metadata": {},
   "outputs": [
    {
     "data": {
      "text/plain": [
       "array([0.477  , 0.458  , 5.00001])"
      ]
     },
     "execution_count": 55,
     "metadata": {},
     "output_type": "execute_result"
    }
   ],
   "source": [
    "y_test[:3]"
   ]
  },
  {
   "cell_type": "markdown",
   "metadata": {},
   "source": [
    "# Assignment: Classification of House Locations\n",
    "\n",
    "In the first practical, you used the California House Prices Dataset in order to predict the prices of the houses based on various properties about the houses. In this assignment, we will experiment with `TensorFlow` and train a model to predict the \"ocean proximity\" of a house.\n",
    "\n",
    "First, let's read in the dataset:"
   ]
  },
  {
   "cell_type": "code",
   "execution_count": 56,
   "metadata": {},
   "outputs": [
    {
     "data": {
      "text/html": [
       "<div>\n",
       "<style scoped>\n",
       "    .dataframe tbody tr th:only-of-type {\n",
       "        vertical-align: middle;\n",
       "    }\n",
       "\n",
       "    .dataframe tbody tr th {\n",
       "        vertical-align: top;\n",
       "    }\n",
       "\n",
       "    .dataframe thead th {\n",
       "        text-align: right;\n",
       "    }\n",
       "</style>\n",
       "<table border=\"1\" class=\"dataframe\">\n",
       "  <thead>\n",
       "    <tr style=\"text-align: right;\">\n",
       "      <th></th>\n",
       "      <th>longitude</th>\n",
       "      <th>latitude</th>\n",
       "      <th>housing_median_age</th>\n",
       "      <th>total_rooms</th>\n",
       "      <th>total_bedrooms</th>\n",
       "      <th>population</th>\n",
       "      <th>households</th>\n",
       "      <th>median_income</th>\n",
       "      <th>median_house_value</th>\n",
       "      <th>ocean_proximity</th>\n",
       "    </tr>\n",
       "  </thead>\n",
       "  <tbody>\n",
       "    <tr>\n",
       "      <th>0</th>\n",
       "      <td>-122.23</td>\n",
       "      <td>37.88</td>\n",
       "      <td>41.0</td>\n",
       "      <td>880.0</td>\n",
       "      <td>129.0</td>\n",
       "      <td>322.0</td>\n",
       "      <td>126.0</td>\n",
       "      <td>8.3252</td>\n",
       "      <td>452600.0</td>\n",
       "      <td>NEAR BAY</td>\n",
       "    </tr>\n",
       "    <tr>\n",
       "      <th>1</th>\n",
       "      <td>-122.22</td>\n",
       "      <td>37.86</td>\n",
       "      <td>21.0</td>\n",
       "      <td>7099.0</td>\n",
       "      <td>1106.0</td>\n",
       "      <td>2401.0</td>\n",
       "      <td>1138.0</td>\n",
       "      <td>8.3014</td>\n",
       "      <td>358500.0</td>\n",
       "      <td>NEAR BAY</td>\n",
       "    </tr>\n",
       "    <tr>\n",
       "      <th>2</th>\n",
       "      <td>-122.24</td>\n",
       "      <td>37.85</td>\n",
       "      <td>52.0</td>\n",
       "      <td>1467.0</td>\n",
       "      <td>190.0</td>\n",
       "      <td>496.0</td>\n",
       "      <td>177.0</td>\n",
       "      <td>7.2574</td>\n",
       "      <td>352100.0</td>\n",
       "      <td>NEAR BAY</td>\n",
       "    </tr>\n",
       "    <tr>\n",
       "      <th>3</th>\n",
       "      <td>-122.25</td>\n",
       "      <td>37.85</td>\n",
       "      <td>52.0</td>\n",
       "      <td>1274.0</td>\n",
       "      <td>235.0</td>\n",
       "      <td>558.0</td>\n",
       "      <td>219.0</td>\n",
       "      <td>5.6431</td>\n",
       "      <td>341300.0</td>\n",
       "      <td>NEAR BAY</td>\n",
       "    </tr>\n",
       "    <tr>\n",
       "      <th>4</th>\n",
       "      <td>-122.25</td>\n",
       "      <td>37.85</td>\n",
       "      <td>52.0</td>\n",
       "      <td>1627.0</td>\n",
       "      <td>280.0</td>\n",
       "      <td>565.0</td>\n",
       "      <td>259.0</td>\n",
       "      <td>3.8462</td>\n",
       "      <td>342200.0</td>\n",
       "      <td>NEAR BAY</td>\n",
       "    </tr>\n",
       "  </tbody>\n",
       "</table>\n",
       "</div>"
      ],
      "text/plain": [
       "   longitude  latitude  housing_median_age  total_rooms  total_bedrooms  \\\n",
       "0    -122.23     37.88                41.0        880.0           129.0   \n",
       "1    -122.22     37.86                21.0       7099.0          1106.0   \n",
       "2    -122.24     37.85                52.0       1467.0           190.0   \n",
       "3    -122.25     37.85                52.0       1274.0           235.0   \n",
       "4    -122.25     37.85                52.0       1627.0           280.0   \n",
       "\n",
       "   population  households  median_income  median_house_value ocean_proximity  \n",
       "0       322.0       126.0         8.3252            452600.0        NEAR BAY  \n",
       "1      2401.0      1138.0         8.3014            358500.0        NEAR BAY  \n",
       "2       496.0       177.0         7.2574            352100.0        NEAR BAY  \n",
       "3       558.0       219.0         5.6431            341300.0        NEAR BAY  \n",
       "4       565.0       259.0         3.8462            342200.0        NEAR BAY  "
      ]
     },
     "execution_count": 56,
     "metadata": {},
     "output_type": "execute_result"
    }
   ],
   "source": [
    "import pandas as pd\n",
    "data = pd.read_csv('housing/housing.csv')\n",
    "data.head()"
   ]
  },
  {
   "cell_type": "markdown",
   "metadata": {},
   "source": [
    "Next, we split the ocean proximity column from the other features and convert the values to numerical IDs. Remember, the `ocean_proximity` column already contains discrete classes, so it is well-suited for the classification task. However, these are strings and in order to optimise the softmax function in `TensorFlow`, we need numerical IDs instead of strings. We can use the `pandas` map function to do the conversion:"
   ]
  },
  {
   "cell_type": "code",
   "execution_count": 57,
   "metadata": {},
   "outputs": [],
   "source": [
    "X = data.copy().drop([\"ocean_proximity\"], axis=1)\n",
    "Y = data.copy()[\"ocean_proximity\"]\n",
    "Y = data.copy()[\"ocean_proximity\"].map({\"<1H OCEAN\":0, \"INLAND\":1, \"ISLAND\": 2, \"NEAR BAY\": 3, \"NEAR OCEAN\": 4}).values"
   ]
  },
  {
   "cell_type": "markdown",
   "metadata": {},
   "source": [
    "Now, let's split off some data for development and testing:\n"
   ]
  },
  {
   "cell_type": "code",
   "execution_count": 58,
   "metadata": {},
   "outputs": [],
   "source": [
    "from sklearn.model_selection import train_test_split\n",
    "\n",
    "X_train, X_test, y_train, y_test = train_test_split(X, Y, test_size=0.2, train_size=0.8, random_state=42)\n",
    "X_train, X_dev, y_train, y_dev = train_test_split(X_train, y_train, test_size=0.2, train_size=0.8, random_state=42)"
   ]
  },
  {
   "cell_type": "markdown",
   "metadata": {},
   "source": [
    "And finally, let's preprocess the input features before giving them to the network. We need to fill in missing values with the imputer, and standardise the values to a similar range using the scaler:"
   ]
  },
  {
   "cell_type": "code",
   "execution_count": 59,
   "metadata": {},
   "outputs": [],
   "source": [
    "from sklearn.impute import SimpleImputer \n",
    "from sklearn import preprocessing\n",
    "\n",
    "imputer = SimpleImputer(strategy=\"median\")\n",
    "imputer.fit(X_train)\n",
    "\n",
    "X_train = imputer.transform(X_train)\n",
    "X_dev = imputer.transform(X_dev)\n",
    "X_test = imputer.transform(X_test)\n",
    "\n",
    "scaler = preprocessing.StandardScaler().fit(X_train)\n",
    "\n",
    "X_train = scaler.transform(X_train)\n",
    "X_dev = scaler.transform(X_dev)\n",
    "X_test = scaler.transform(X_test)"
   ]
  },
  {
   "cell_type": "markdown",
   "metadata": {},
   "source": [
    "We now have a dataset that we can work with.\n",
    "\n",
    "Input features:"
   ]
  },
  {
   "cell_type": "code",
   "execution_count": 60,
   "metadata": {},
   "outputs": [
    {
     "name": "stdout",
     "output_type": "stream",
     "text": [
      "(13209, 9)\n",
      "(3303, 9)\n",
      "(4128, 9)\n",
      "[[-0.69155432  1.10281811 -0.12449485 -0.44361185 -0.60289408 -0.48710064\n",
      "  -0.64120663  0.44340968 -0.25873131]\n",
      " [ 0.8544348  -0.72493883 -1.07770852  1.75575918  1.99734983  1.69902706\n",
      "   2.04218568  0.00321001 -0.28999612]\n",
      " [ 0.86440892 -0.88428174 -0.20392932 -0.15088981 -0.02963101 -0.13535041\n",
      "  -0.16516379 -0.52181236 -0.01729749]]\n"
     ]
    }
   ],
   "source": [
    "print(X_train.shape)\n",
    "print(X_dev.shape)\n",
    "print(X_test.shape)\n",
    "print(X_train[:3])"
   ]
  },
  {
   "cell_type": "markdown",
   "metadata": {},
   "source": [
    "And the correstponding gold-standard labels:"
   ]
  },
  {
   "cell_type": "code",
   "execution_count": 61,
   "metadata": {},
   "outputs": [
    {
     "name": "stdout",
     "output_type": "stream",
     "text": [
      "(13209,)\n",
      "(3303,)\n",
      "(4128,)\n",
      "[1 0 0 4 1 1 3 0 0 0]\n"
     ]
    }
   ],
   "source": [
    "print(y_train.shape)\n",
    "print(y_dev.shape)\n",
    "print(y_test.shape)\n",
    "print(y_train[:10])"
   ]
  },
  {
   "cell_type": "markdown",
   "metadata": {},
   "source": [
    "Based on the code examples above, construct a `TensorFlow` model, then train, tune and test it on this dataset. Experiment with different model settings and hyperparameters. Calculate and evaluate classification accuracy - the percentage of datapoints where the predicted class matches the gold-standard class.\n",
    "\n",
    "During the practical session, give examples of what you tried and what your findings were.\n",
    "\n",
    "Some suggestions and tips:\n",
    "\n",
    "- The XOR classification code can be a good place to start.\n",
    "- The output layer needs to have size 5, because the dataset has 5 possible classes.\n",
    "- Try testing on the development set as you are training, to make sure you don't overfit.\n",
    "- Evaluate on the dev set as much as you want, but evaluate on the test set only after you have chosen a good set of hyperparameters.\n",
    "- You could try different learning rates, hidden layer sizes, learning strategies, etc.\n",
    "- Adaptive learning rates can (and sometimes should) be used together with a regular hand-picked learning rate, and different adaptive learning rates can prefer very different regular learning rates.\n",
    "\n",
    "There are a number of additional (optional) steps that you can try: you can visualise your network architecture, changes in loss and metrics, print out and visualise confusion matrices, implement \"traditional\" machine learning algorithms (e.g., from Practicals 2 and 3) and compare the results, etc. "
   ]
  },
  {
   "cell_type": "markdown",
   "metadata": {},
   "source": [
    "-----------------------------------\n",
    "### Using the cross entropy to calculate loss\n",
    "\n",
    "By minimising cross entropy, we can find the maximum likelihood model, which assigns high values for the correct label."
   ]
  },
  {
   "cell_type": "code",
   "execution_count": 62,
   "metadata": {},
   "outputs": [
    {
     "name": "stdout",
     "output_type": "stream",
     "text": [
      "after 10 epochs:\n",
      "[[0.1044118  0.6079772  0.02064831 0.15254098 0.11442178]\n",
      " [0.48580405 0.2641912  0.07754324 0.0544505  0.11801098]\n",
      " [0.639202   0.16429128 0.02475809 0.03754044 0.13420819]\n",
      " ...\n",
      " [0.76535463 0.1035298  0.0171157  0.01840601 0.09559391]\n",
      " [0.54655004 0.26238582 0.02963757 0.02817043 0.13325617]\n",
      " [0.68106234 0.13868678 0.01332291 0.02669211 0.14023583]]\n",
      "after 20 epochs:\n",
      "[[0.10099241 0.71108824 0.00843383 0.10520472 0.07428078]\n",
      " [0.52666235 0.2694589  0.04899354 0.04045461 0.11443052]\n",
      " [0.67960787 0.14334583 0.00978613 0.0126493  0.15461084]\n",
      " ...\n",
      " [0.78144413 0.08806934 0.00484014 0.00459618 0.12105022]\n",
      " [0.44140443 0.39819625 0.01091644 0.00945851 0.14002436]\n",
      " [0.699505   0.12774205 0.00567849 0.00909451 0.15797992]]\n",
      "after 30 epochs:\n",
      "[[0.07494255 0.81107414 0.00500292 0.06077779 0.04820262]\n",
      " [0.47046652 0.37048608 0.01652545 0.01388537 0.12863657]\n",
      " [0.7077287  0.10422228 0.00505724 0.00634081 0.17665094]\n",
      " ...\n",
      " [0.79308933 0.05673219 0.00196891 0.00171399 0.14649563]\n",
      " [0.43840134 0.39679092 0.00552222 0.00449597 0.15478957]\n",
      " [0.7440673  0.07972326 0.00352965 0.00523348 0.16744636]]\n",
      "after 40 epochs:\n",
      "[[0.04426435 0.89793754 0.00248034 0.03146562 0.0238521 ]\n",
      " [0.47230908 0.36928582 0.0101309  0.00861678 0.13965738]\n",
      " [0.7157145  0.08219588 0.00340627 0.00428026 0.19440304]\n",
      " ...\n",
      " [0.78872955 0.03737943 0.00122284 0.00102972 0.17163841]\n",
      " [0.4471685  0.382615   0.00370102 0.00296767 0.16354781]\n",
      " [0.7581932  0.06359963 0.00239429 0.00353497 0.17227788]]\n",
      "after 50 epochs:\n",
      "[[2.91933883e-02 9.40078676e-01 1.30261749e-03 1.78007074e-02\n",
      "  1.16245905e-02]\n",
      " [4.91421729e-01 3.54560167e-01 7.79051008e-03 6.89902203e-03\n",
      "  1.39328524e-01]\n",
      " [7.18097031e-01 7.23071471e-02 2.45364406e-03 3.18303122e-03\n",
      "  2.03959122e-01]\n",
      " ...\n",
      " [7.82975972e-01 2.40070429e-02 8.66526098e-04 7.28308165e-04\n",
      "  1.91422179e-01]\n",
      " [4.70165581e-01 3.59496117e-01 2.63983943e-03 2.20909435e-03\n",
      "  1.65489286e-01]\n",
      " [7.72405267e-01 5.31515777e-02 1.63033069e-03 2.46349303e-03\n",
      "  1.70349315e-01]]\n"
     ]
    }
   ],
   "source": [
    "tf.keras.backend.clear_session\n",
    "\n",
    "nonlinear_model = tf.keras.Sequential([\n",
    "    tf.keras.layers.Dense(9, input_shape=(9,), activation='relu'),\n",
    "    tf.keras.layers.Dense(5, activation='softmax')\n",
    "])\n",
    "\n",
    "nonlinear_model.compile(optimizer=tf.keras.optimizers.SGD(learning_rate=1),\n",
    "                        loss='sparse_categorical_crossentropy')\n",
    "\n",
    "for epoch in range(50):\n",
    "    nonlinear_model.train_on_batch(X_train, y_train)\n",
    "    if (epoch + 1) % 10 == 0:\n",
    "        print('after {} epochs:'.format(epoch+1), nonlinear_model(X_train).numpy(), sep='\\n')"
   ]
  },
  {
   "cell_type": "markdown",
   "metadata": {},
   "source": [
    "### Convert these probabilities into class predictions and also report its accuracy.\n",
    "\n",
    "Accuracy is increasing in as epoch number increase. This shows that we have not reach the minima yet, and didn't jumped over it as well. "
   ]
  },
  {
   "cell_type": "code",
   "execution_count": 63,
   "metadata": {},
   "outputs": [
    {
     "name": "stdout",
     "output_type": "stream",
     "text": [
      "WARNING:tensorflow:5 out of the last 54 calls to <function Model.make_predict_function.<locals>.predict_function at 0x7fd6f418f0d0> triggered tf.function retracing. Tracing is expensive and the excessive number of tracings could be due to (1) creating @tf.function repeatedly in a loop, (2) passing tensors with different shapes, (3) passing Python objects instead of tensors. For (1), please define your @tf.function outside of the loop. For (2), @tf.function has experimental_relax_shapes=True option that relaxes argument shapes that can avoid unnecessary retracing. For (3), please refer to https://www.tensorflow.org/tutorials/customization/performance#python_or_tensor_args and https://www.tensorflow.org/api_docs/python/tf/function for  more details.\n",
      "\n",
      "After 10 epochs:\n",
      "413/413 - 0s - loss: 1.5044 - accuracy: 0.4402\n",
      "\n",
      "Accuracy: 0.4402301609516144\n",
      "\n",
      "\n",
      "\n",
      "After 20 epochs:\n",
      "413/413 - 0s - loss: 1.3758 - accuracy: 0.5706\n",
      "\n",
      "Accuracy: 0.5705958008766174\n",
      "\n",
      "\n",
      "\n",
      "After 30 epochs:\n",
      "413/413 - 0s - loss: 1.2960 - accuracy: 0.6173\n",
      "\n",
      "Accuracy: 0.6173064112663269\n",
      "\n",
      "\n"
     ]
    }
   ],
   "source": [
    "tf.keras.backend.clear_session\n",
    "\n",
    "nonlinear_model = tf.keras.Sequential([\n",
    "    tf.keras.layers.Dense(9, input_shape=(9,), activation='relu'),\n",
    "    tf.keras.layers.Dense(5, activation='softmax')\n",
    "])\n",
    "\n",
    "nonlinear_model.compile(optimizer=tf.keras.optimizers.SGD(learning_rate=1),\n",
    "              loss=tf.keras.losses.SparseCategoricalCrossentropy(from_logits=True),\n",
    "              metrics=['accuracy'])\n",
    "\n",
    "for epoch in range(30):\n",
    "    nonlinear_model.train_on_batch(X_train, y_train)\n",
    "    predictions = nonlinear_model.predict(X_train)\n",
    "    result = tf.argmax(predictions, axis=1)\n",
    "    \n",
    "    if (epoch + 1) % 10 == 0:\n",
    "        print('\\nAfter {} epochs:'.format(epoch+1))\n",
    "        test_loss, test_acc = nonlinear_model.evaluate(X_train, y_train, verbose=2)\n",
    "        print('\\nAccuracy:', test_acc)\n",
    "        print('\\n')\n",
    "        "
   ]
  },
  {
   "cell_type": "markdown",
   "metadata": {},
   "source": [
    "### Using minibatching\n",
    "- better than stochastic approach, which determines the gradient based on 1 data point only.\n",
    "- more efficient than using all the data points to determine the gradient."
   ]
  },
  {
   "cell_type": "code",
   "execution_count": 64,
   "metadata": {
    "scrolled": true
   },
   "outputs": [
    {
     "name": "stdout",
     "output_type": "stream",
     "text": [
      "Epoch 1/20\n",
      "27/27 [==============================] - 0s 1ms/step - loss: 0.9414\n",
      "Epoch 2/20\n",
      "27/27 [==============================] - 0s 1ms/step - loss: 0.6632\n",
      "Epoch 3/20\n",
      "27/27 [==============================] - 0s 1ms/step - loss: 0.5877\n",
      "Epoch 4/20\n",
      "27/27 [==============================] - 0s 1ms/step - loss: 0.5475\n",
      "Epoch 5/20\n",
      "27/27 [==============================] - 0s 1ms/step - loss: 0.5047\n",
      "Epoch 6/20\n",
      "27/27 [==============================] - 0s 2ms/step - loss: 0.4933\n",
      "Epoch 7/20\n",
      "27/27 [==============================] - 0s 1ms/step - loss: 0.4749\n",
      "Epoch 8/20\n",
      "27/27 [==============================] - 0s 2ms/step - loss: 0.4567\n",
      "Epoch 9/20\n",
      "27/27 [==============================] - 0s 1ms/step - loss: 0.4697\n",
      "Epoch 10/20\n",
      "27/27 [==============================] - 0s 2ms/step - loss: 0.4219\n",
      "Epoch 11/20\n",
      "27/27 [==============================] - 0s 1ms/step - loss: 0.4299\n",
      "Epoch 12/20\n",
      "27/27 [==============================] - 0s 2ms/step - loss: 0.4354\n",
      "Epoch 13/20\n",
      "27/27 [==============================] - 0s 1ms/step - loss: 0.4089\n",
      "Epoch 14/20\n",
      "27/27 [==============================] - 0s 1ms/step - loss: 0.3971\n",
      "Epoch 15/20\n",
      "27/27 [==============================] - 0s 2ms/step - loss: 0.4212\n",
      "Epoch 16/20\n",
      "27/27 [==============================] - 0s 2ms/step - loss: 0.3861\n",
      "Epoch 17/20\n",
      "27/27 [==============================] - 0s 1ms/step - loss: 0.3711\n",
      "Epoch 18/20\n",
      "27/27 [==============================] - 0s 2ms/step - loss: 0.4121\n",
      "Epoch 19/20\n",
      "27/27 [==============================] - 0s 1ms/step - loss: 0.3858\n",
      "Epoch 20/20\n",
      "27/27 [==============================] - 0s 2ms/step - loss: 0.3890\n",
      "413/413 [==============================] - 0s 853us/step - loss: 0.3512\n",
      "final loss: 0.3511732518672943\n",
      "final predictions:\n",
      "[[1.28830754e-04 9.99847651e-01 2.42823262e-07 2.32115181e-05\n",
      "  1.58341318e-09]\n",
      " [7.78633714e-01 2.19196916e-01 4.63099597e-04 1.28280502e-04\n",
      "  1.57806312e-03]\n",
      " [9.65092599e-01 5.56598557e-03 1.19952470e-04 3.14545359e-05\n",
      "  2.91899815e-02]\n",
      " ...\n",
      " [3.34896624e-01 1.05896097e-05 4.84761995e-06 2.65780557e-07\n",
      "  6.65087759e-01]\n",
      " [9.78887737e-01 1.57441720e-02 9.73122296e-05 2.81735774e-05\n",
      "  5.24258986e-03]\n",
      " [9.38689590e-01 1.17902084e-04 1.84216824e-05 9.28402551e-06\n",
      "  6.11647032e-02]]\n"
     ]
    }
   ],
   "source": [
    "tf.keras.backend.clear_session\n",
    "\n",
    "nonlinear_model = tf.keras.Sequential([\n",
    "    tf.keras.layers.Dense(9, input_shape=(9,), activation='relu'),\n",
    "    tf.keras.layers.Dense(5, activation='softmax')\n",
    "])\n",
    "\n",
    "nonlinear_model.compile(optimizer=tf.keras.optimizers.SGD(learning_rate=1),\n",
    "                        loss='sparse_categorical_crossentropy')\n",
    "\n",
    "nonlinear_model.fit(X_train, y_train, batch_size=500, epochs=20)\n",
    "\n",
    "print('final loss:', nonlinear_model.evaluate(X_train, y_train))\n",
    "print('final predictions:', nonlinear_model.predict(X_train), sep='\\n')"
   ]
  },
  {
   "cell_type": "markdown",
   "metadata": {},
   "source": [
    "-----------\n",
    "### Trying different models"
   ]
  },
  {
   "cell_type": "markdown",
   "metadata": {},
   "source": [
    "##### Model 1: 1 hidden layer + relu activation function + large learning rate\n",
    "- loss didn't stablize -> learning rate is too large\n",
    "- Although random seed is fixed, randomness still exists because the order of GPU threads executions is still random. Therefore, the final result will based on the average of differnt random seed:\n",
    "    - random seed (0): loss = 0.2996\n",
    "    - random seed (1): loss = 0.4097\n",
    "    - random seed (2): loss = 1.3094\n",
    "    - final loss: 0.6729"
   ]
  },
  {
   "cell_type": "code",
   "execution_count": 65,
   "metadata": {},
   "outputs": [
    {
     "name": "stdout",
     "output_type": "stream",
     "text": [
      "Epoch 1/40\n",
      "67/67 [==============================] - 0s 1ms/step - loss: 0.7940\n",
      "Epoch 2/40\n",
      "67/67 [==============================] - 0s 1ms/step - loss: 0.5915\n",
      "Epoch 3/40\n",
      "67/67 [==============================] - 0s 2ms/step - loss: 0.5341\n",
      "Epoch 4/40\n",
      "67/67 [==============================] - 0s 1ms/step - loss: 0.5389\n",
      "Epoch 5/40\n",
      "67/67 [==============================] - 0s 1ms/step - loss: 0.4449\n",
      "Epoch 6/40\n",
      "67/67 [==============================] - 0s 2ms/step - loss: 0.4235\n",
      "Epoch 7/40\n",
      "67/67 [==============================] - 0s 1ms/step - loss: 0.4089\n",
      "Epoch 8/40\n",
      "67/67 [==============================] - 0s 1ms/step - loss: 0.3846\n",
      "Epoch 9/40\n",
      "67/67 [==============================] - 0s 1ms/step - loss: 0.4080\n",
      "Epoch 10/40\n",
      "67/67 [==============================] - 0s 2ms/step - loss: 0.3440\n",
      "Epoch 11/40\n",
      "67/67 [==============================] - 0s 1ms/step - loss: 0.5378\n",
      "Epoch 12/40\n",
      "67/67 [==============================] - 0s 1ms/step - loss: 0.3552\n",
      "Epoch 13/40\n",
      "67/67 [==============================] - 0s 1ms/step - loss: 0.4095\n",
      "Epoch 14/40\n",
      "67/67 [==============================] - 0s 2ms/step - loss: 0.3314\n",
      "Epoch 15/40\n",
      "67/67 [==============================] - 0s 1ms/step - loss: 0.3267\n",
      "Epoch 16/40\n",
      "67/67 [==============================] - 0s 2ms/step - loss: 0.3037\n",
      "Epoch 17/40\n",
      "67/67 [==============================] - 0s 1ms/step - loss: 0.3030\n",
      "Epoch 18/40\n",
      "67/67 [==============================] - 0s 1ms/step - loss: 0.3026\n",
      "Epoch 19/40\n",
      "67/67 [==============================] - 0s 2ms/step - loss: 0.3090\n",
      "Epoch 20/40\n",
      "67/67 [==============================] - 0s 1ms/step - loss: 0.2940\n",
      "Epoch 21/40\n",
      "67/67 [==============================] - 0s 1ms/step - loss: 0.2802\n",
      "Epoch 22/40\n",
      "67/67 [==============================] - 0s 1ms/step - loss: 0.2718\n",
      "Epoch 23/40\n",
      "67/67 [==============================] - 0s 1ms/step - loss: 0.2706\n",
      "Epoch 24/40\n",
      "67/67 [==============================] - 0s 1ms/step - loss: 0.3142\n",
      "Epoch 25/40\n",
      "67/67 [==============================] - 0s 2ms/step - loss: 0.3880\n",
      "Epoch 26/40\n",
      "67/67 [==============================] - 0s 860us/step - loss: 0.2647\n",
      "Epoch 27/40\n",
      "67/67 [==============================] - 0s 2ms/step - loss: 0.2656\n",
      "Epoch 28/40\n",
      "67/67 [==============================] - 0s 1ms/step - loss: 0.2877\n",
      "Epoch 29/40\n",
      "67/67 [==============================] - 0s 1ms/step - loss: 0.3022\n",
      "Epoch 30/40\n",
      "67/67 [==============================] - 0s 2ms/step - loss: 0.2529\n",
      "Epoch 31/40\n",
      "67/67 [==============================] - 0s 2ms/step - loss: 0.2445\n",
      "Epoch 32/40\n",
      "67/67 [==============================] - 0s 1ms/step - loss: 0.2904\n",
      "Epoch 33/40\n",
      "67/67 [==============================] - 0s 1ms/step - loss: 0.2687\n",
      "Epoch 34/40\n",
      "67/67 [==============================] - 0s 1ms/step - loss: 0.2437\n",
      "Epoch 35/40\n",
      "67/67 [==============================] - 0s 1ms/step - loss: 0.2346\n",
      "Epoch 36/40\n",
      "67/67 [==============================] - 0s 1ms/step - loss: 0.2688\n",
      "Epoch 37/40\n",
      "67/67 [==============================] - 0s 2ms/step - loss: 0.2472\n",
      "Epoch 38/40\n",
      "67/67 [==============================] - 0s 2ms/step - loss: 0.3214\n",
      "Epoch 39/40\n",
      "67/67 [==============================] - 0s 1ms/step - loss: 0.2300\n",
      "Epoch 40/40\n",
      "67/67 [==============================] - 0s 1ms/step - loss: 0.2431\n",
      "413/413 [==============================] - 1s 2ms/step - loss: 0.2997A: 0s - los\n",
      "final loss: 0.2996937036514282\n",
      "final predictions:\n",
      "[[1.0851545e-07 9.9999988e-01 2.5784840e-13 1.0190724e-10 4.3341205e-14]\n",
      " [2.5521456e-03 9.9741274e-01 1.5631497e-07 3.4667723e-05 2.9995920e-07]\n",
      " [9.9343008e-01 3.5176112e-03 7.1262744e-05 1.1063742e-03 1.8746561e-03]\n",
      " ...\n",
      " [9.4531137e-01 2.3307442e-03 4.9697678e-04 8.3567749e-04 5.1025249e-02]\n",
      " [9.8315823e-01 1.0376637e-02 1.8441056e-04 1.4296847e-03 4.8509920e-03]\n",
      " [9.7960335e-01 1.3877295e-03 5.4760596e-05 1.1696396e-04 1.8837081e-02]]\n"
     ]
    }
   ],
   "source": [
    "tf.keras.backend.clear_session\n",
    "tf.random.set_seed(0)\n",
    "nonlinear_model = tf.keras.Sequential([\n",
    "    tf.keras.layers.Dense(10, input_shape=(9,), activation='relu'),\n",
    "    tf.keras.layers.Dense(20, input_shape=(9,), activation='relu'),\n",
    "    tf.keras.layers.Dense(5, activation='softmax')\n",
    "])\n",
    "\n",
    "nonlinear_model.compile(optimizer=tf.keras.optimizers.SGD(learning_rate=0.75),\n",
    "                        loss='sparse_categorical_crossentropy')\n",
    "\n",
    "nonlinear_model.fit(X_train, y_train, batch_size=200, epochs=40)\n",
    "\n",
    "print('final loss:', nonlinear_model.evaluate(X_train, y_train))\n",
    "print('final predictions:', nonlinear_model.predict(X_train), sep='\\n')"
   ]
  },
  {
   "cell_type": "markdown",
   "metadata": {},
   "source": [
    "##### Model 2: 1 hidden layer + sigmoid activation + medium learning rate\n",
    "- with reduced learning rate, didn't jump over the minima anymore. \n",
    "- However, when using sigmoid or tanh as activation function, the loss of the last epoch always jumped back up to very high value 0.5/0.6"
   ]
  },
  {
   "cell_type": "code",
   "execution_count": 66,
   "metadata": {},
   "outputs": [
    {
     "name": "stdout",
     "output_type": "stream",
     "text": [
      "Epoch 1/60\n",
      "67/67 [==============================] - 0s 1ms/step - loss: 1.2060 - accuracy: 0.5028\n",
      "Epoch 2/60\n",
      "67/67 [==============================] - 0s 2ms/step - loss: 0.9820 - accuracy: 0.6393\n",
      "Epoch 3/60\n",
      "67/67 [==============================] - 0s 1ms/step - loss: 0.8114 - accuracy: 0.6968\n",
      "Epoch 4/60\n",
      "67/67 [==============================] - 0s 1ms/step - loss: 0.7129 - accuracy: 0.7537\n",
      "Epoch 5/60\n",
      "67/67 [==============================] - ETA: 0s - loss: 0.6592 - accuracy: 0.77 - 0s 1ms/step - loss: 0.6625 - accuracy: 0.7697\n",
      "Epoch 6/60\n",
      "67/67 [==============================] - 0s 1ms/step - loss: 0.6310 - accuracy: 0.7789\n",
      "Epoch 7/60\n",
      "67/67 [==============================] - 0s 1ms/step - loss: 0.6048 - accuracy: 0.7845\n",
      "Epoch 8/60\n",
      "67/67 [==============================] - 0s 2ms/step - loss: 0.5820 - accuracy: 0.7873\n",
      "Epoch 9/60\n",
      "67/67 [==============================] - 0s 2ms/step - loss: 0.5784 - accuracy: 0.7858\n",
      "Epoch 10/60\n",
      "67/67 [==============================] - 0s 1ms/step - loss: 0.5472 - accuracy: 0.7930\n",
      "Epoch 11/60\n",
      "67/67 [==============================] - 0s 1ms/step - loss: 0.5302 - accuracy: 0.7952\n",
      "Epoch 12/60\n",
      "67/67 [==============================] - 0s 1ms/step - loss: 0.5098 - accuracy: 0.7998\n",
      "Epoch 13/60\n",
      "67/67 [==============================] - 0s 1ms/step - loss: 0.4958 - accuracy: 0.7988\n",
      "Epoch 14/60\n",
      "67/67 [==============================] - 0s 1ms/step - loss: 0.4799 - accuracy: 0.8013\n",
      "Epoch 15/60\n",
      "67/67 [==============================] - 0s 2ms/step - loss: 0.4605 - accuracy: 0.8050\n",
      "Epoch 16/60\n",
      "67/67 [==============================] - 0s 1ms/step - loss: 0.4463 - accuracy: 0.8068\n",
      "Epoch 17/60\n",
      "67/67 [==============================] - 0s 1ms/step - loss: 0.4311 - accuracy: 0.8159\n",
      "Epoch 18/60\n",
      "67/67 [==============================] - 0s 1ms/step - loss: 0.4134 - accuracy: 0.8309\n",
      "Epoch 19/60\n",
      "67/67 [==============================] - 0s 1ms/step - loss: 0.4038 - accuracy: 0.8406\n",
      "Epoch 20/60\n",
      "67/67 [==============================] - 0s 1ms/step - loss: 0.3899 - accuracy: 0.8436\n",
      "Epoch 21/60\n",
      "67/67 [==============================] - 0s 1ms/step - loss: 0.3840 - accuracy: 0.8440\n",
      "Epoch 22/60\n",
      "67/67 [==============================] - 0s 1ms/step - loss: 0.3710 - accuracy: 0.8481\n",
      "Epoch 23/60\n",
      "67/67 [==============================] - 0s 1ms/step - loss: 0.3662 - accuracy: 0.8457\n",
      "Epoch 24/60\n",
      "67/67 [==============================] - 0s 1ms/step - loss: 0.3649 - accuracy: 0.8470\n",
      "Epoch 25/60\n",
      "67/67 [==============================] - 0s 1ms/step - loss: 0.3629 - accuracy: 0.8468\n",
      "Epoch 26/60\n",
      "67/67 [==============================] - 0s 1ms/step - loss: 0.3522 - accuracy: 0.8494\n",
      "Epoch 27/60\n",
      "67/67 [==============================] - 0s 1ms/step - loss: 0.3456 - accuracy: 0.8536\n",
      "Epoch 28/60\n",
      "67/67 [==============================] - 0s 1ms/step - loss: 0.3455 - accuracy: 0.8537\n",
      "Epoch 29/60\n",
      "67/67 [==============================] - 0s 1ms/step - loss: 0.3453 - accuracy: 0.8549\n",
      "Epoch 30/60\n",
      "67/67 [==============================] - 0s 1ms/step - loss: 0.3332 - accuracy: 0.8583\n",
      "Epoch 31/60\n",
      "67/67 [==============================] - 0s 1ms/step - loss: 0.3312 - accuracy: 0.8579\n",
      "Epoch 32/60\n",
      "67/67 [==============================] - 0s 1ms/step - loss: 0.3308 - accuracy: 0.8606\n",
      "Epoch 33/60\n",
      "67/67 [==============================] - 0s 1ms/step - loss: 0.3318 - accuracy: 0.8595\n",
      "Epoch 34/60\n",
      "67/67 [==============================] - 0s 1ms/step - loss: 0.3254 - accuracy: 0.8618\n",
      "Epoch 35/60\n",
      "67/67 [==============================] - 0s 1ms/step - loss: 0.3162 - accuracy: 0.8634\n",
      "Epoch 36/60\n",
      "67/67 [==============================] - 0s 1ms/step - loss: 0.3140 - accuracy: 0.8685\n",
      "Epoch 37/60\n",
      "67/67 [==============================] - 0s 1ms/step - loss: 0.3169 - accuracy: 0.8669\n",
      "Epoch 38/60\n",
      "67/67 [==============================] - 0s 2ms/step - loss: 0.3303 - accuracy: 0.8624\n",
      "Epoch 39/60\n",
      "67/67 [==============================] - 0s 2ms/step - loss: 0.3064 - accuracy: 0.8695\n",
      "Epoch 40/60\n",
      "67/67 [==============================] - 0s 1ms/step - loss: 0.3155 - accuracy: 0.8637\n",
      "Epoch 41/60\n",
      "67/67 [==============================] - 0s 1ms/step - loss: 0.3135 - accuracy: 0.8686\n",
      "Epoch 42/60\n",
      "67/67 [==============================] - 0s 1ms/step - loss: 0.3187 - accuracy: 0.8670\n",
      "Epoch 43/60\n",
      "67/67 [==============================] - 0s 1ms/step - loss: 0.3048 - accuracy: 0.8722\n",
      "Epoch 44/60\n",
      "67/67 [==============================] - 0s 2ms/step - loss: 0.3156 - accuracy: 0.8671\n",
      "Epoch 45/60\n",
      "67/67 [==============================] - 0s 1ms/step - loss: 0.3073 - accuracy: 0.8690\n",
      "Epoch 46/60\n",
      "67/67 [==============================] - 0s 1ms/step - loss: 0.3051 - accuracy: 0.8697\n",
      "Epoch 47/60\n",
      "67/67 [==============================] - 0s 2ms/step - loss: 0.3149 - accuracy: 0.8682\n",
      "Epoch 48/60\n",
      "67/67 [==============================] - 0s 1ms/step - loss: 0.3052 - accuracy: 0.8713\n",
      "Epoch 49/60\n",
      "67/67 [==============================] - 0s 1ms/step - loss: 0.3065 - accuracy: 0.8710\n",
      "Epoch 50/60\n",
      "67/67 [==============================] - 0s 1ms/step - loss: 0.3076 - accuracy: 0.8701\n",
      "Epoch 51/60\n",
      "67/67 [==============================] - 0s 1ms/step - loss: 0.3033 - accuracy: 0.8709\n",
      "Epoch 52/60\n",
      "67/67 [==============================] - 0s 1ms/step - loss: 0.2977 - accuracy: 0.8733\n",
      "Epoch 53/60\n",
      "67/67 [==============================] - 0s 1ms/step - loss: 0.3046 - accuracy: 0.8712\n",
      "Epoch 54/60\n",
      "67/67 [==============================] - 0s 1ms/step - loss: 0.2962 - accuracy: 0.8755\n",
      "Epoch 55/60\n",
      "67/67 [==============================] - 0s 1ms/step - loss: 0.2945 - accuracy: 0.8764\n",
      "Epoch 56/60\n",
      "67/67 [==============================] - 0s 2ms/step - loss: 0.2928 - accuracy: 0.8761\n",
      "Epoch 57/60\n",
      "67/67 [==============================] - 0s 1ms/step - loss: 0.2946 - accuracy: 0.8746\n",
      "Epoch 58/60\n",
      "67/67 [==============================] - 0s 1ms/step - loss: 0.2909 - accuracy: 0.8777\n",
      "Epoch 59/60\n",
      "67/67 [==============================] - 0s 2ms/step - loss: 0.2948 - accuracy: 0.8743\n",
      "Epoch 60/60\n",
      "67/67 [==============================] - 0s 1ms/step - loss: 0.2907 - accuracy: 0.8780\n",
      "413/413 [==============================] - 0s 965us/step - loss: 0.4756 - accuracy: 0.8111\n",
      "final loss: [0.47559696435928345, 0.8111136555671692]\n",
      "final predictions:\n",
      "[[1.76642006e-05 9.99901891e-01 4.59843328e-08 8.04046140e-05\n",
      "  2.09448171e-12]\n",
      " [3.13976267e-03 9.96857285e-01 3.75936793e-07 2.64263167e-06\n",
      "  2.30270733e-10]\n",
      " [9.84216392e-01 1.44387111e-02 8.50214856e-05 8.10880010e-05\n",
      "  1.17879105e-03]\n",
      " ...\n",
      " [6.50275350e-01 1.05579384e-04 8.22131551e-05 1.76041685e-05\n",
      "  3.49519253e-01]\n",
      " [9.91004586e-01 6.63143490e-03 7.84797303e-05 5.33300154e-05\n",
      "  2.23236019e-03]\n",
      " [8.83802533e-01 6.13371376e-05 5.12674269e-05 3.75201089e-05\n",
      "  1.16047360e-01]]\n"
     ]
    }
   ],
   "source": [
    "tf.keras.backend.clear_session\n",
    "\n",
    "tf.random.set_seed(0)\n",
    "\n",
    "nonlinear_model = tf.keras.Sequential([\n",
    "    tf.keras.layers.Dense(10, input_shape=(9,), activation='sigmoid'),\n",
    "    tf.keras.layers.Dense(20, input_shape=(9,), activation='sigmoid'),\n",
    "    tf.keras.layers.Dense(5, activation='softmax')\n",
    "])\n",
    "\n",
    "nonlinear_model.compile(optimizer=tf.keras.optimizers.SGD(learning_rate=0.5),\n",
    "                        loss='sparse_categorical_crossentropy',\n",
    "                        metrics=['accuracy'])\n",
    "\n",
    "nonlinear_model.fit(X_train, y_train, batch_size=200, epochs=60)\n",
    "\n",
    "print('final loss:', nonlinear_model.evaluate(X_train, y_train))\n",
    "print('final predictions:', nonlinear_model.predict(X_train), sep='\\n')"
   ]
  },
  {
   "cell_type": "markdown",
   "metadata": {},
   "source": [
    "##### Model 3: 3 hidden layers and more nodes + relu activation + low learning rate\n",
    "- final loss = 0.17 with random seed 2 (the best performance)\n",
    "- with reduced learning rate, didn't jump over the minima anymore\n",
    "- Since we observed the loss is decreasing (and a slower learning rate has been adopted), the number of epochs has been increased. With 100 epochs, we can observed that the loss has stablised at around 0.17 \n"
   ]
  },
  {
   "cell_type": "code",
   "execution_count": 67,
   "metadata": {},
   "outputs": [
    {
     "name": "stdout",
     "output_type": "stream",
     "text": [
      "Epoch 1/95\n",
      "27/27 [==============================] - 0s 2ms/step - loss: 1.2113\n",
      "Epoch 2/95\n",
      "27/27 [==============================] - 0s 3ms/step - loss: 0.8668\n",
      "Epoch 3/95\n",
      "27/27 [==============================] - 0s 3ms/step - loss: 0.7127\n",
      "Epoch 4/95\n",
      "27/27 [==============================] - 0s 4ms/step - loss: 0.6312\n",
      "Epoch 5/95\n",
      "27/27 [==============================] - 0s 2ms/step - loss: 0.5997\n",
      "Epoch 6/95\n",
      "27/27 [==============================] - 0s 2ms/step - loss: 0.5665\n",
      "Epoch 7/95\n",
      "27/27 [==============================] - 0s 2ms/step - loss: 0.5102\n",
      "Epoch 8/95\n",
      "27/27 [==============================] - 0s 2ms/step - loss: 0.5069\n",
      "Epoch 9/95\n",
      "27/27 [==============================] - 0s 2ms/step - loss: 0.4838\n",
      "Epoch 10/95\n",
      "27/27 [==============================] - 0s 2ms/step - loss: 0.4775\n",
      "Epoch 11/95\n",
      "27/27 [==============================] - 0s 2ms/step - loss: 0.4420\n",
      "Epoch 12/95\n",
      "27/27 [==============================] - 0s 3ms/step - loss: 0.3938\n",
      "Epoch 13/95\n",
      "27/27 [==============================] - 0s 2ms/step - loss: 0.3988\n",
      "Epoch 14/95\n",
      "27/27 [==============================] - 0s 3ms/step - loss: 0.3954\n",
      "Epoch 15/95\n",
      "27/27 [==============================] - 0s 2ms/step - loss: 0.3614\n",
      "Epoch 16/95\n",
      "27/27 [==============================] - 0s 2ms/step - loss: 0.3710\n",
      "Epoch 17/95\n",
      "27/27 [==============================] - 0s 2ms/step - loss: 0.3481\n",
      "Epoch 18/95\n",
      "27/27 [==============================] - 0s 3ms/step - loss: 0.3405\n",
      "Epoch 19/95\n",
      "27/27 [==============================] - 0s 2ms/step - loss: 0.3294\n",
      "Epoch 20/95\n",
      "27/27 [==============================] - 0s 2ms/step - loss: 0.3205\n",
      "Epoch 21/95\n",
      "27/27 [==============================] - 0s 2ms/step - loss: 0.3165\n",
      "Epoch 22/95\n",
      "27/27 [==============================] - 0s 2ms/step - loss: 0.3306\n",
      "Epoch 23/95\n",
      "27/27 [==============================] - 0s 2ms/step - loss: 0.3251\n",
      "Epoch 24/95\n",
      "27/27 [==============================] - 0s 2ms/step - loss: 0.3118\n",
      "Epoch 25/95\n",
      "27/27 [==============================] - 0s 2ms/step - loss: 0.2854\n",
      "Epoch 26/95\n",
      "27/27 [==============================] - 0s 2ms/step - loss: 0.2912\n",
      "Epoch 27/95\n",
      "27/27 [==============================] - 0s 2ms/step - loss: 0.3043\n",
      "Epoch 28/95\n",
      "27/27 [==============================] - 0s 2ms/step - loss: 0.2874\n",
      "Epoch 29/95\n",
      "27/27 [==============================] - 0s 2ms/step - loss: 0.2809\n",
      "Epoch 30/95\n",
      "27/27 [==============================] - 0s 2ms/step - loss: 0.2678\n",
      "Epoch 31/95\n",
      "27/27 [==============================] - 0s 2ms/step - loss: 0.2908\n",
      "Epoch 32/95\n",
      "27/27 [==============================] - 0s 2ms/step - loss: 0.2956\n",
      "Epoch 33/95\n",
      "27/27 [==============================] - 0s 2ms/step - loss: 0.2799\n",
      "Epoch 34/95\n",
      "27/27 [==============================] - 0s 2ms/step - loss: 0.2676\n",
      "Epoch 35/95\n",
      "27/27 [==============================] - 0s 3ms/step - loss: 0.3017\n",
      "Epoch 36/95\n",
      "27/27 [==============================] - 0s 2ms/step - loss: 0.2631\n",
      "Epoch 37/95\n",
      "27/27 [==============================] - 0s 3ms/step - loss: 0.2594\n",
      "Epoch 38/95\n",
      "27/27 [==============================] - 0s 2ms/step - loss: 0.2579\n",
      "Epoch 39/95\n",
      "27/27 [==============================] - 0s 3ms/step - loss: 0.2639\n",
      "Epoch 40/95\n",
      "27/27 [==============================] - 0s 2ms/step - loss: 0.2438\n",
      "Epoch 41/95\n",
      "27/27 [==============================] - 0s 2ms/step - loss: 0.2575\n",
      "Epoch 42/95\n",
      "27/27 [==============================] - 0s 2ms/step - loss: 0.2428\n",
      "Epoch 43/95\n",
      "27/27 [==============================] - 0s 2ms/step - loss: 0.2672\n",
      "Epoch 44/95\n",
      "27/27 [==============================] - 0s 2ms/step - loss: 0.2353\n",
      "Epoch 45/95\n",
      "27/27 [==============================] - 0s 3ms/step - loss: 0.2470\n",
      "Epoch 46/95\n",
      "27/27 [==============================] - 0s 3ms/step - loss: 0.2466\n",
      "Epoch 47/95\n",
      "27/27 [==============================] - 0s 2ms/step - loss: 0.2319\n",
      "Epoch 48/95\n",
      "27/27 [==============================] - 0s 2ms/step - loss: 0.2336\n",
      "Epoch 49/95\n",
      "27/27 [==============================] - 0s 2ms/step - loss: 0.2385\n",
      "Epoch 50/95\n",
      "27/27 [==============================] - 0s 2ms/step - loss: 0.2518\n",
      "Epoch 51/95\n",
      "27/27 [==============================] - 0s 2ms/step - loss: 0.2288\n",
      "Epoch 52/95\n",
      "27/27 [==============================] - 0s 2ms/step - loss: 0.2533\n",
      "Epoch 53/95\n",
      "27/27 [==============================] - 0s 2ms/step - loss: 0.2266\n",
      "Epoch 54/95\n",
      "27/27 [==============================] - 0s 2ms/step - loss: 0.2207\n",
      "Epoch 55/95\n",
      "27/27 [==============================] - 0s 2ms/step - loss: 0.2448\n",
      "Epoch 56/95\n",
      "27/27 [==============================] - 0s 2ms/step - loss: 0.2281\n",
      "Epoch 57/95\n",
      "27/27 [==============================] - 0s 3ms/step - loss: 0.2336\n",
      "Epoch 58/95\n",
      "27/27 [==============================] - 0s 2ms/step - loss: 0.2085\n",
      "Epoch 59/95\n",
      "27/27 [==============================] - 0s 2ms/step - loss: 0.2335\n",
      "Epoch 60/95\n",
      "27/27 [==============================] - 0s 2ms/step - loss: 0.2194\n",
      "Epoch 61/95\n",
      "27/27 [==============================] - 0s 2ms/step - loss: 0.2307\n",
      "Epoch 62/95\n",
      "27/27 [==============================] - 0s 2ms/step - loss: 0.2413\n",
      "Epoch 63/95\n",
      "27/27 [==============================] - 0s 2ms/step - loss: 0.2006\n",
      "Epoch 64/95\n",
      "27/27 [==============================] - 0s 2ms/step - loss: 0.2284\n",
      "Epoch 65/95\n",
      "27/27 [==============================] - 0s 2ms/step - loss: 0.2317\n",
      "Epoch 66/95\n",
      "27/27 [==============================] - 0s 2ms/step - loss: 0.1975\n",
      "Epoch 67/95\n",
      "27/27 [==============================] - 0s 2ms/step - loss: 0.2232\n",
      "Epoch 68/95\n",
      "27/27 [==============================] - 0s 2ms/step - loss: 0.1839\n",
      "Epoch 69/95\n",
      "27/27 [==============================] - 0s 2ms/step - loss: 0.2214\n",
      "Epoch 70/95\n",
      "27/27 [==============================] - 0s 2ms/step - loss: 0.1941\n",
      "Epoch 71/95\n",
      "27/27 [==============================] - 0s 2ms/step - loss: 0.2145\n",
      "Epoch 72/95\n",
      "27/27 [==============================] - 0s 2ms/step - loss: 0.1873\n",
      "Epoch 73/95\n",
      "27/27 [==============================] - 0s 2ms/step - loss: 0.2260\n",
      "Epoch 74/95\n",
      "27/27 [==============================] - 0s 2ms/step - loss: 0.1882\n",
      "Epoch 75/95\n",
      "27/27 [==============================] - 0s 2ms/step - loss: 0.2060\n",
      "Epoch 76/95\n",
      "27/27 [==============================] - 0s 2ms/step - loss: 0.2029\n",
      "Epoch 77/95\n",
      "27/27 [==============================] - 0s 2ms/step - loss: 0.2049\n",
      "Epoch 78/95\n",
      "27/27 [==============================] - 0s 2ms/step - loss: 0.1844\n",
      "Epoch 79/95\n",
      "27/27 [==============================] - 0s 2ms/step - loss: 0.1986\n",
      "Epoch 80/95\n",
      "27/27 [==============================] - 0s 2ms/step - loss: 0.2045\n",
      "Epoch 81/95\n",
      "27/27 [==============================] - 0s 2ms/step - loss: 0.2117\n",
      "Epoch 82/95\n",
      "27/27 [==============================] - 0s 2ms/step - loss: 0.1959\n",
      "Epoch 83/95\n",
      "27/27 [==============================] - 0s 2ms/step - loss: 0.1849\n",
      "Epoch 84/95\n",
      "27/27 [==============================] - 0s 2ms/step - loss: 0.2056\n",
      "Epoch 85/95\n",
      "27/27 [==============================] - 0s 2ms/step - loss: 0.1783\n",
      "Epoch 86/95\n",
      "27/27 [==============================] - 0s 2ms/step - loss: 0.2028\n",
      "Epoch 87/95\n",
      "27/27 [==============================] - 0s 2ms/step - loss: 0.1855\n",
      "Epoch 88/95\n",
      "27/27 [==============================] - 0s 2ms/step - loss: 0.1848\n",
      "Epoch 89/95\n",
      "27/27 [==============================] - 0s 2ms/step - loss: 0.2019\n",
      "Epoch 90/95\n",
      "27/27 [==============================] - 0s 2ms/step - loss: 0.1902\n",
      "Epoch 91/95\n",
      "27/27 [==============================] - 0s 2ms/step - loss: 0.1717\n",
      "Epoch 92/95\n",
      "27/27 [==============================] - 0s 2ms/step - loss: 0.2083\n",
      "Epoch 93/95\n",
      "27/27 [==============================] - 0s 2ms/step - loss: 0.1815\n",
      "Epoch 94/95\n",
      "27/27 [==============================] - 0s 2ms/step - loss: 0.1864\n",
      "Epoch 95/95\n",
      "27/27 [==============================] - 0s 3ms/step - loss: 0.1934\n",
      "413/413 [==============================] - 0s 1ms/step - loss: 0.1786\n",
      "final loss: 0.1786077618598938\n",
      "final predictions:\n",
      "[[1.0303806e-11 1.0000000e+00 5.3018200e-20 6.1619292e-15 2.5757645e-18]\n",
      " [4.3722141e-01 5.6269628e-01 2.3432017e-06 2.6243855e-05 5.3715175e-05]\n",
      " [9.9624759e-01 1.4754900e-03 6.0978306e-05 4.3662143e-04 1.7793634e-03]\n",
      " ...\n",
      " [7.1759814e-01 2.2578666e-03 5.7801820e-04 3.0658260e-04 2.7925941e-01]\n",
      " [9.9712092e-01 2.3204624e-03 2.2266644e-05 1.1826566e-04 4.1804725e-04]\n",
      " [9.8772240e-01 1.2767711e-04 3.6085181e-05 3.3446398e-05 1.2080414e-02]]\n"
     ]
    }
   ],
   "source": [
    "tf.keras.backend.clear_session\n",
    "\n",
    "tf.random.set_seed(2)\n",
    "\n",
    "nonlinear_model = tf.keras.Sequential([\n",
    "    tf.keras.layers.Dense(18, input_shape=(9,), activation='relu'),\n",
    "    tf.keras.layers.Dense(36, input_shape=(9,), activation='relu'),\n",
    "    tf.keras.layers.Dense(36, input_shape=(9,), activation='relu'),\n",
    "    tf.keras.layers.Dense(36, input_shape=(9,), activation='relu'),\n",
    "    tf.keras.layers.Dense(5, activation='softmax')\n",
    "])\n",
    "\n",
    "nonlinear_model.compile(optimizer=tf.keras.optimizers.SGD(learning_rate=0.25),\n",
    "                        loss='sparse_categorical_crossentropy')\n",
    "\n",
    "nonlinear_model.fit(X_train, y_train, batch_size=500, epochs=95)\n",
    "\n",
    "print('final loss:', nonlinear_model.evaluate(X_train, y_train))\n",
    "y_train_pred = nonlinear_model.predict(X_train)\n",
    "print('final predictions:', y_train_pred, sep='\\n')"
   ]
  },
  {
   "cell_type": "markdown",
   "metadata": {},
   "source": [
    "Using the development dataset. If performance on X_dev is too poor, adjust hyper parameters (width depth, learning rate etc) above, "
   ]
  },
  {
   "cell_type": "code",
   "execution_count": 68,
   "metadata": {},
   "outputs": [
    {
     "name": "stdout",
     "output_type": "stream",
     "text": [
      "104/104 [==============================] - 0s 1ms/step - loss: 0.1972\n"
     ]
    },
    {
     "data": {
      "text/plain": [
       "0.19715756177902222"
      ]
     },
     "execution_count": 68,
     "metadata": {},
     "output_type": "execute_result"
    }
   ],
   "source": [
    "nonlinear_model.evaluate(X_dev, y_dev)"
   ]
  },
  {
   "cell_type": "markdown",
   "metadata": {},
   "source": [
    "Acheived 0.8056 accuracy in development dataset. Satisfied with the performance. Hence, can evaluate on test set, to check the realistic performance. \n",
    "\n",
    "Performance on testing dataset"
   ]
  },
  {
   "cell_type": "code",
   "execution_count": 69,
   "metadata": {},
   "outputs": [
    {
     "name": "stdout",
     "output_type": "stream",
     "text": [
      "129/129 [==============================] - 1s 4ms/step - loss: 0.2130\n"
     ]
    },
    {
     "data": {
      "text/plain": [
       "0.2130109816789627"
      ]
     },
     "execution_count": 69,
     "metadata": {},
     "output_type": "execute_result"
    }
   ],
   "source": [
    "nonlinear_model.evaluate(X_test, y_test)"
   ]
  },
  {
   "cell_type": "markdown",
   "metadata": {},
   "source": [
    "Achieve 80.91% on test set. Accuracy performance on test set similar to dev set, which is good to have. However ... "
   ]
  },
  {
   "cell_type": "markdown",
   "metadata": {},
   "source": [
    "### Testing on Confusion Matrix"
   ]
  },
  {
   "cell_type": "code",
   "execution_count": 88,
   "metadata": {},
   "outputs": [
    {
     "name": "stdout",
     "output_type": "stream",
     "text": [
      "[[5706  104    0   12   26]\n",
      " [  85 4127    0    4    1]\n",
      " [   0    0    0    0    2]\n",
      " [  70   56    0 1365    0]\n",
      " [ 518    0    0  211  922]]\n",
      "\n",
      "\n",
      "[[1744   38    0    5    8]\n",
      " [  42 1281    0    1    0]\n",
      " [   0    0    0    0    1]\n",
      " [  21   21    0  394    0]\n",
      " [ 176    0    0   93  303]]\n"
     ]
    }
   ],
   "source": [
    "y_pred = nonlinear_model.predict(X_train)\n",
    "y_pred = tf.argmax(y_pred, axis=1)\n",
    "conf_mx = tf.math.confusion_matrix(y_train, y_pred).numpy()\n",
    "print(conf_mx)\n",
    "print(\"\\n\")\n",
    "\n",
    "y_pred = nonlinear_model.predict(X_test)\n",
    "y_pred = tf.argmax(y_pred, axis=1)\n",
    "conf_mx = tf.math.confusion_matrix(y_test, y_pred).numpy()\n",
    "print(conf_mx)"
   ]
  },
  {
   "cell_type": "markdown",
   "metadata": {},
   "source": [
    "Accuracy may not be the right evaluation metric to use with this dataset because of imbalanced data. As shown in the confusion matrix, there is no data about the third classes (\"ISLAND\"). For severely imbalanced classes, we can get high overall accuracy without much effort, but this does not mean we obtained good insights of the distributions. The overall accuracy might be high, but for the minority class like 'ISLAND', we will have very low recall."
   ]
  },
  {
   "cell_type": "markdown",
   "metadata": {},
   "source": [
    "-------------------\n",
    "### Visualise trained models"
   ]
  },
  {
   "cell_type": "code",
   "execution_count": 72,
   "metadata": {},
   "outputs": [],
   "source": [
    "%reload_ext tensorboard\n",
    "import datetime"
   ]
  },
  {
   "cell_type": "markdown",
   "metadata": {},
   "source": [
    "clear any logs from previous runs by running `rm -rf ./logs/`"
   ]
  },
  {
   "cell_type": "code",
   "execution_count": 77,
   "metadata": {},
   "outputs": [
    {
     "name": "stdout",
     "output_type": "stream",
     "text": [
      "Epoch 1/95\n",
      " 2/27 [=>............................] - ETA: 0s - loss: 1.6561WARNING:tensorflow:Callbacks method `on_train_batch_end` is slow compared to the batch time (batch time: 0.0041s vs `on_train_batch_end` time: 0.0623s). Check your callbacks.\n",
      "27/27 [==============================] - 0s 13ms/step - loss: 1.2113 - val_loss: 0.9691\n",
      "Epoch 2/95\n",
      "27/27 [==============================] - 0s 5ms/step - loss: 0.8668 - val_loss: 0.7620\n",
      "Epoch 3/95\n",
      "27/27 [==============================] - 0s 5ms/step - loss: 0.7127 - val_loss: 0.6574\n",
      "Epoch 4/95\n",
      "27/27 [==============================] - 0s 4ms/step - loss: 0.6312 - val_loss: 0.8348\n",
      "Epoch 5/95\n",
      "27/27 [==============================] - 0s 5ms/step - loss: 0.5997 - val_loss: 0.6910\n",
      "Epoch 6/95\n",
      "27/27 [==============================] - 0s 5ms/step - loss: 0.5665 - val_loss: 0.5011\n",
      "Epoch 7/95\n",
      "27/27 [==============================] - 0s 3ms/step - loss: 0.5102 - val_loss: 0.8057\n",
      "Epoch 8/95\n",
      "27/27 [==============================] - 0s 4ms/step - loss: 0.5069 - val_loss: 0.4313\n",
      "Epoch 9/95\n",
      "27/27 [==============================] - 0s 7ms/step - loss: 0.4838 - val_loss: 0.4213\n",
      "Epoch 10/95\n",
      "27/27 [==============================] - 0s 10ms/step - loss: 0.4775 - val_loss: 0.5947\n",
      "Epoch 11/95\n",
      "27/27 [==============================] - 0s 4ms/step - loss: 0.4420 - val_loss: 0.4038\n",
      "Epoch 12/95\n",
      "27/27 [==============================] - 0s 4ms/step - loss: 0.3938 - val_loss: 0.6057\n",
      "Epoch 13/95\n",
      "27/27 [==============================] - 0s 4ms/step - loss: 0.3988 - val_loss: 0.3329\n",
      "Epoch 14/95\n",
      "27/27 [==============================] - 0s 5ms/step - loss: 0.3954 - val_loss: 0.4135\n",
      "Epoch 15/95\n",
      "27/27 [==============================] - 0s 4ms/step - loss: 0.3614 - val_loss: 0.6556\n",
      "Epoch 16/95\n",
      "27/27 [==============================] - 0s 5ms/step - loss: 0.3710 - val_loss: 0.4014\n",
      "Epoch 17/95\n",
      "27/27 [==============================] - 0s 4ms/step - loss: 0.3481 - val_loss: 0.3140\n",
      "Epoch 18/95\n",
      "27/27 [==============================] - 0s 4ms/step - loss: 0.3405 - val_loss: 0.3856\n",
      "Epoch 19/95\n",
      "27/27 [==============================] - 0s 3ms/step - loss: 0.3294 - val_loss: 0.3899\n",
      "Epoch 20/95\n",
      "27/27 [==============================] - 0s 5ms/step - loss: 0.3205 - val_loss: 0.4243\n",
      "Epoch 21/95\n",
      "27/27 [==============================] - 0s 4ms/step - loss: 0.3165 - val_loss: 0.3169\n",
      "Epoch 22/95\n",
      "27/27 [==============================] - 0s 5ms/step - loss: 0.3306 - val_loss: 0.3076\n",
      "Epoch 23/95\n",
      "27/27 [==============================] - 0s 5ms/step - loss: 0.3251 - val_loss: 0.2605\n",
      "Epoch 24/95\n",
      "27/27 [==============================] - 0s 4ms/step - loss: 0.3118 - val_loss: 0.2776\n",
      "Epoch 25/95\n",
      "27/27 [==============================] - 0s 4ms/step - loss: 0.2854 - val_loss: 0.2839\n",
      "Epoch 26/95\n",
      "27/27 [==============================] - 0s 4ms/step - loss: 0.2912 - val_loss: 0.5306\n",
      "Epoch 27/95\n",
      "27/27 [==============================] - 0s 4ms/step - loss: 0.3043 - val_loss: 0.3010\n",
      "Epoch 28/95\n",
      "27/27 [==============================] - 0s 5ms/step - loss: 0.2874 - val_loss: 0.2475\n",
      "Epoch 29/95\n",
      "27/27 [==============================] - 0s 5ms/step - loss: 0.2809 - val_loss: 0.3394\n",
      "Epoch 30/95\n",
      "27/27 [==============================] - 0s 4ms/step - loss: 0.2678 - val_loss: 0.4232\n",
      "Epoch 31/95\n",
      "27/27 [==============================] - 0s 4ms/step - loss: 0.2908 - val_loss: 0.2912\n",
      "Epoch 32/95\n",
      "27/27 [==============================] - 0s 5ms/step - loss: 0.2956 - val_loss: 0.3943\n",
      "Epoch 33/95\n",
      "27/27 [==============================] - 0s 4ms/step - loss: 0.2799 - val_loss: 0.2511\n",
      "Epoch 34/95\n",
      "27/27 [==============================] - 0s 4ms/step - loss: 0.2676 - val_loss: 0.3451\n",
      "Epoch 35/95\n",
      "27/27 [==============================] - 0s 4ms/step - loss: 0.3017 - val_loss: 0.2704\n",
      "Epoch 36/95\n",
      "27/27 [==============================] - 0s 4ms/step - loss: 0.2631 - val_loss: 0.2313\n",
      "Epoch 37/95\n",
      "27/27 [==============================] - 0s 5ms/step - loss: 0.2594 - val_loss: 0.2281\n",
      "Epoch 38/95\n",
      "27/27 [==============================] - 0s 4ms/step - loss: 0.2579 - val_loss: 0.2222\n",
      "Epoch 39/95\n",
      "27/27 [==============================] - 0s 3ms/step - loss: 0.2639 - val_loss: 0.4264\n",
      "Epoch 40/95\n",
      "27/27 [==============================] - 0s 4ms/step - loss: 0.2438 - val_loss: 0.2059\n",
      "Epoch 41/95\n",
      "27/27 [==============================] - 0s 4ms/step - loss: 0.2575 - val_loss: 0.2698\n",
      "Epoch 42/95\n",
      "27/27 [==============================] - 0s 5ms/step - loss: 0.2428 - val_loss: 0.3015\n",
      "Epoch 43/95\n",
      "27/27 [==============================] - 0s 4ms/step - loss: 0.2672 - val_loss: 0.2763\n",
      "Epoch 44/95\n",
      "27/27 [==============================] - 0s 6ms/step - loss: 0.2353 - val_loss: 0.2199\n",
      "Epoch 45/95\n",
      "27/27 [==============================] - 0s 4ms/step - loss: 0.2470 - val_loss: 0.2643\n",
      "Epoch 46/95\n",
      "27/27 [==============================] - 0s 6ms/step - loss: 0.2466 - val_loss: 0.2223\n",
      "Epoch 47/95\n",
      "27/27 [==============================] - 0s 4ms/step - loss: 0.2319 - val_loss: 0.2544\n",
      "Epoch 48/95\n",
      "27/27 [==============================] - 0s 3ms/step - loss: 0.2336 - val_loss: 0.2923\n",
      "Epoch 49/95\n",
      "27/27 [==============================] - 0s 4ms/step - loss: 0.2385 - val_loss: 0.3761\n",
      "Epoch 50/95\n",
      "27/27 [==============================] - 0s 3ms/step - loss: 0.2518 - val_loss: 0.2832\n",
      "Epoch 51/95\n",
      "27/27 [==============================] - 0s 4ms/step - loss: 0.2288 - val_loss: 0.2687\n",
      "Epoch 52/95\n",
      "27/27 [==============================] - 0s 4ms/step - loss: 0.2533 - val_loss: 0.2597\n",
      "Epoch 53/95\n",
      "27/27 [==============================] - 0s 3ms/step - loss: 0.2266 - val_loss: 0.2792\n",
      "Epoch 54/95\n",
      "27/27 [==============================] - 0s 4ms/step - loss: 0.2207 - val_loss: 0.2218\n",
      "Epoch 55/95\n",
      "27/27 [==============================] - 0s 4ms/step - loss: 0.2448 - val_loss: 0.1958\n",
      "Epoch 56/95\n",
      "27/27 [==============================] - 0s 4ms/step - loss: 0.2281 - val_loss: 0.2203\n",
      "Epoch 57/95\n",
      "27/27 [==============================] - 0s 7ms/step - loss: 0.2336 - val_loss: 0.2475\n",
      "Epoch 58/95\n",
      "27/27 [==============================] - 0s 6ms/step - loss: 0.2085 - val_loss: 0.2962\n",
      "Epoch 59/95\n",
      "27/27 [==============================] - 0s 5ms/step - loss: 0.2335 - val_loss: 0.1792\n",
      "Epoch 60/95\n",
      "27/27 [==============================] - 0s 4ms/step - loss: 0.2194 - val_loss: 0.2190\n",
      "Epoch 61/95\n",
      "27/27 [==============================] - 0s 4ms/step - loss: 0.2307 - val_loss: 0.4055\n",
      "Epoch 62/95\n",
      "27/27 [==============================] - 0s 3ms/step - loss: 0.2413 - val_loss: 0.1811\n",
      "Epoch 63/95\n",
      "27/27 [==============================] - 0s 3ms/step - loss: 0.2006 - val_loss: 0.2180\n",
      "Epoch 64/95\n",
      "27/27 [==============================] - 0s 4ms/step - loss: 0.2284 - val_loss: 0.1987\n",
      "Epoch 65/95\n",
      "27/27 [==============================] - 0s 4ms/step - loss: 0.2317 - val_loss: 0.2375\n",
      "Epoch 66/95\n",
      "27/27 [==============================] - 0s 5ms/step - loss: 0.1975 - val_loss: 0.1661\n",
      "Epoch 67/95\n",
      "27/27 [==============================] - 0s 3ms/step - loss: 0.2232 - val_loss: 0.2244\n",
      "Epoch 68/95\n",
      "27/27 [==============================] - 0s 4ms/step - loss: 0.1839 - val_loss: 0.1848\n",
      "Epoch 69/95\n",
      "27/27 [==============================] - 0s 4ms/step - loss: 0.2214 - val_loss: 0.2465\n",
      "Epoch 70/95\n",
      "27/27 [==============================] - 0s 5ms/step - loss: 0.1941 - val_loss: 0.1705\n",
      "Epoch 71/95\n",
      "27/27 [==============================] - 0s 5ms/step - loss: 0.2145 - val_loss: 0.1729\n",
      "Epoch 72/95\n",
      "27/27 [==============================] - 0s 5ms/step - loss: 0.1873 - val_loss: 0.2969\n",
      "Epoch 73/95\n",
      "27/27 [==============================] - 0s 5ms/step - loss: 0.2260 - val_loss: 0.1996\n",
      "Epoch 74/95\n",
      "27/27 [==============================] - 0s 5ms/step - loss: 0.1882 - val_loss: 0.1728\n",
      "Epoch 75/95\n",
      "27/27 [==============================] - 0s 5ms/step - loss: 0.2060 - val_loss: 0.1693\n",
      "Epoch 76/95\n",
      "27/27 [==============================] - 0s 5ms/step - loss: 0.2029 - val_loss: 0.2028\n",
      "Epoch 77/95\n",
      "27/27 [==============================] - 0s 5ms/step - loss: 0.2049 - val_loss: 0.3378\n",
      "Epoch 78/95\n",
      "27/27 [==============================] - 0s 5ms/step - loss: 0.1844 - val_loss: 0.3563\n",
      "Epoch 79/95\n",
      "27/27 [==============================] - 0s 5ms/step - loss: 0.1986 - val_loss: 0.1888\n",
      "Epoch 80/95\n",
      "27/27 [==============================] - 0s 4ms/step - loss: 0.2045 - val_loss: 0.1719\n",
      "Epoch 81/95\n",
      "27/27 [==============================] - 0s 4ms/step - loss: 0.2117 - val_loss: 0.1699\n",
      "Epoch 82/95\n",
      "27/27 [==============================] - 0s 4ms/step - loss: 0.1959 - val_loss: 0.2156\n",
      "Epoch 83/95\n",
      "27/27 [==============================] - 0s 4ms/step - loss: 0.1849 - val_loss: 0.2328\n",
      "Epoch 84/95\n",
      "27/27 [==============================] - 0s 6ms/step - loss: 0.2056 - val_loss: 0.2355\n",
      "Epoch 85/95\n",
      "27/27 [==============================] - 0s 5ms/step - loss: 0.1783 - val_loss: 0.2487\n",
      "Epoch 86/95\n",
      "27/27 [==============================] - 0s 5ms/step - loss: 0.2028 - val_loss: 0.3178\n",
      "Epoch 87/95\n",
      "27/27 [==============================] - 0s 5ms/step - loss: 0.1855 - val_loss: 0.1447\n",
      "Epoch 88/95\n",
      "27/27 [==============================] - 0s 5ms/step - loss: 0.1848 - val_loss: 0.1717\n",
      "Epoch 89/95\n",
      "27/27 [==============================] - 0s 4ms/step - loss: 0.2019 - val_loss: 0.1551\n",
      "Epoch 90/95\n",
      "27/27 [==============================] - 0s 4ms/step - loss: 0.1902 - val_loss: 0.1512\n",
      "Epoch 91/95\n",
      "27/27 [==============================] - 0s 8ms/step - loss: 0.1717 - val_loss: 0.1690\n",
      "Epoch 92/95\n",
      "27/27 [==============================] - 0s 8ms/step - loss: 0.2083 - val_loss: 0.1686\n",
      "Epoch 93/95\n",
      "27/27 [==============================] - 0s 4ms/step - loss: 0.1815 - val_loss: 0.1876\n",
      "Epoch 94/95\n",
      "27/27 [==============================] - 0s 3ms/step - loss: 0.1864 - val_loss: 0.2291\n",
      "Epoch 95/95\n",
      "27/27 [==============================] - 0s 4ms/step - loss: 0.1934 - val_loss: 0.1786\n",
      "413/413 [==============================] - 0s 957us/step - loss: 0.1786\n",
      "final loss: 0.1786077618598938\n",
      "final predictions:\n",
      "[[1.0303806e-11 1.0000000e+00 5.3018200e-20 6.1619292e-15 2.5757645e-18]\n",
      " [4.3722141e-01 5.6269628e-01 2.3432017e-06 2.6243855e-05 5.3715175e-05]\n",
      " [9.9624759e-01 1.4754900e-03 6.0978306e-05 4.3662143e-04 1.7793634e-03]\n",
      " ...\n",
      " [7.1759814e-01 2.2578666e-03 5.7801820e-04 3.0658260e-04 2.7925941e-01]\n",
      " [9.9712092e-01 2.3204624e-03 2.2266644e-05 1.1826566e-04 4.1804725e-04]\n",
      " [9.8772240e-01 1.2767711e-04 3.6085181e-05 3.3446398e-05 1.2080414e-02]]\n"
     ]
    }
   ],
   "source": [
    "tf.keras.backend.clear_session\n",
    "tf.random.set_seed(2)\n",
    "nonlinear_model = tf.keras.Sequential([\n",
    "    tf.keras.layers.Dense(18, input_shape=(9,), activation='relu'),\n",
    "    tf.keras.layers.Dense(36, input_shape=(9,), activation='relu'),\n",
    "    tf.keras.layers.Dense(36, input_shape=(9,), activation='relu'),\n",
    "    tf.keras.layers.Dense(36, input_shape=(9,), activation='relu'),\n",
    "    tf.keras.layers.Dense(5, activation='softmax')\n",
    "])\n",
    "\n",
    "nonlinear_model.compile(optimizer=tf.keras.optimizers.SGD(learning_rate=0.25),\n",
    "                        loss='sparse_categorical_crossentropy')\n",
    "\n",
    "log_dir = \"logs/fit/\" + datetime.datetime.now().strftime(\"%Y%m%d-%H%M%S\")\n",
    "tensorboard_callback = tf.keras.callbacks.TensorBoard(log_dir=log_dir, histogram_freq=1)\n",
    "\n",
    "nonlinear_model.fit(X_train, y_train, \n",
    "                    batch_size=500, \n",
    "                    epochs=95,\n",
    "                    validation_data = (X_train, y_train),\n",
    "                    callbacks=[tensorboard_callback])\n",
    "\n",
    "print('final loss:', nonlinear_model.evaluate(X_train, y_train))\n",
    "print('final predictions:', nonlinear_model.predict(X_train), sep='\\n')\n"
   ]
  },
  {
   "cell_type": "code",
   "execution_count": 78,
   "metadata": {},
   "outputs": [
    {
     "data": {
      "text/plain": [
       "Reusing TensorBoard on port 6006 (pid 815), started 0:14:27 ago. (Use '!kill 815' to kill it.)"
      ]
     },
     "metadata": {},
     "output_type": "display_data"
    },
    {
     "data": {
      "text/html": [
       "\n",
       "      <iframe id=\"tensorboard-frame-af57295590621996\" width=\"100%\" height=\"800\" frameborder=\"0\">\n",
       "      </iframe>\n",
       "      <script>\n",
       "        (function() {\n",
       "          const frame = document.getElementById(\"tensorboard-frame-af57295590621996\");\n",
       "          const url = new URL(\"/\", window.location);\n",
       "          const port = 6006;\n",
       "          if (port) {\n",
       "            url.port = port;\n",
       "          }\n",
       "          frame.src = url;\n",
       "        })();\n",
       "      </script>\n",
       "    "
      ],
      "text/plain": [
       "<IPython.core.display.HTML object>"
      ]
     },
     "metadata": {},
     "output_type": "display_data"
    }
   ],
   "source": [
    "%tensorboard --logdir logs/fit"
   ]
  },
  {
   "cell_type": "markdown",
   "metadata": {},
   "source": [
    "### Keeping track of the history\n",
    "\n",
    "understand more about the model."
   ]
  },
  {
   "cell_type": "code",
   "execution_count": 79,
   "metadata": {},
   "outputs": [
    {
     "data": {
      "text/plain": [
       "[<tensorflow.python.keras.layers.core.Dense at 0x7fccb5a46e50>,\n",
       " <tensorflow.python.keras.layers.core.Dense at 0x7fcc97d80610>,\n",
       " <tensorflow.python.keras.layers.core.Dense at 0x7fcc9b075460>,\n",
       " <tensorflow.python.keras.layers.core.Dense at 0x7fcc97ec1f10>,\n",
       " <tensorflow.python.keras.layers.core.Dense at 0x7fcc97f7fd00>]"
      ]
     },
     "execution_count": 79,
     "metadata": {},
     "output_type": "execute_result"
    }
   ],
   "source": [
    "tf.random.set_seed(2)\n",
    "nonlinear_model = tf.keras.Sequential([\n",
    "    tf.keras.layers.Dense(18, input_shape=(9,), activation='relu'),\n",
    "    tf.keras.layers.Dense(36, input_shape=(9,), activation='relu'),\n",
    "    tf.keras.layers.Dense(36, input_shape=(9,), activation='relu'),\n",
    "    tf.keras.layers.Dense(36, input_shape=(9,), activation='relu'),\n",
    "    tf.keras.layers.Dense(5, activation='softmax')\n",
    "])\n",
    "\n",
    "nonlinear_model.layers"
   ]
  },
  {
   "cell_type": "code",
   "execution_count": 80,
   "metadata": {},
   "outputs": [
    {
     "name": "stdout",
     "output_type": "stream",
     "text": [
      "Model: \"sequential_28\"\n",
      "_________________________________________________________________\n",
      "Layer (type)                 Output Shape              Param #   \n",
      "=================================================================\n",
      "dense_68 (Dense)             (None, 18)                180       \n",
      "_________________________________________________________________\n",
      "dense_69 (Dense)             (None, 36)                684       \n",
      "_________________________________________________________________\n",
      "dense_70 (Dense)             (None, 36)                1332      \n",
      "_________________________________________________________________\n",
      "dense_71 (Dense)             (None, 36)                1332      \n",
      "_________________________________________________________________\n",
      "dense_72 (Dense)             (None, 5)                 185       \n",
      "=================================================================\n",
      "Total params: 3,713\n",
      "Trainable params: 3,713\n",
      "Non-trainable params: 0\n",
      "_________________________________________________________________\n"
     ]
    }
   ],
   "source": [
    "nonlinear_model.summary()"
   ]
  }
 ],
 "metadata": {
  "kernelspec": {
   "display_name": "Python 3",
   "language": "python",
   "name": "python3"
  },
  "language_info": {
   "codemirror_mode": {
    "name": "ipython",
    "version": 3
   },
   "file_extension": ".py",
   "mimetype": "text/x-python",
   "name": "python",
   "nbconvert_exporter": "python",
   "pygments_lexer": "ipython3",
   "version": "3.8.5"
  }
 },
 "nbformat": 4,
 "nbformat_minor": 4
}

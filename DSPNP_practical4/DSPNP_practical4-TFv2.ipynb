{
 "cells": [
  {
   "cell_type": "markdown",
   "metadata": {},
   "source": [
    "# Practical Session 4: Getting Started with Deep Learning Models in TensorFlow\n",
    "\n",
    "*This notebook is based on past years' notebooks by Marek Rei and Guy Emerson*"
   ]
  },
  {
   "cell_type": "markdown",
   "metadata": {},
   "source": [
    "This practical will cover a few different network architectures and we will look at different components that are often used in neural networks in practice. It will also allow you to learn more about [`TensorFlow`](https://www.tensorflow.org), a popular open-source machine learning and deep learning library. I'd also recommend checking the `TensorFlow` documentation to learn more about the rich functionality of this toolkit.\n",
    "\n",
    "\n",
    "## Learning objectives\n",
    "\n",
    "In this practical you will learn about:\n",
    "- The basics of running `TensorFlow` \n",
    "- How to implement a feedforward neural network in Python\n",
    "- How to visualise your network architecture using `TensorBoard` and track changes \n",
    "- How to apply deep learning to both classification and regression tasks.\n",
    "\n",
    "**Additional references**: Aurelien Geron, *Hands-on Machine Learning with Scikit-Learn, Keras and TensorFlow*.\n",
    "\n",
    "Before we start, let's import the usual libraries as we did in previous practicals:"
   ]
  },
  {
   "cell_type": "code",
   "execution_count": 1,
   "metadata": {},
   "outputs": [],
   "source": [
    "%matplotlib inline \n",
    "\n",
    "import numpy as np \n",
    "np.random.seed(42)\n",
    "\n",
    "import matplotlib\n",
    "from matplotlib import pyplot as plt"
   ]
  },
  {
   "cell_type": "markdown",
   "metadata": {},
   "source": [
    "Now let's import `TensorFlow` into our notebook. Note: `TensorFlow` v2 was released last year, and it mostly relies on `Keras` interpretative module fit on top of it. As a result, it is much more interpretable and user-friendly than v1, however if you want to better understand the inner workings of `TensorFlow` you are welcome to check the accompanying notebook [`DSPNP_practical4-TFv1.ipynb`](./DSPNP_practical4-TFv1.ipynb): even if you are using `TensorFlow2`, you can still switch to using v1 API, which is available as a submodule. "
   ]
  },
  {
   "cell_type": "code",
   "execution_count": 2,
   "metadata": {},
   "outputs": [],
   "source": [
    "import tensorflow as tf\n",
    "#tf.compat.v1"
   ]
  },
  {
   "cell_type": "code",
   "execution_count": 3,
   "metadata": {},
   "outputs": [
    {
     "data": {
      "text/plain": [
       "'2.3.1'"
      ]
     },
     "execution_count": 3,
     "metadata": {},
     "output_type": "execute_result"
    }
   ],
   "source": [
    "tf.__version__"
   ]
  },
  {
   "cell_type": "markdown",
   "metadata": {},
   "source": [
    "# Minimal TensorFlow Example\n",
    "\n",
    "In this example, we create a simple network that takes an input vector, multiplies it by a weight matrix, adds a weight vector, and returns the result.\n",
    "\n",
    "`tf.Variable` defines model parameters, which can be trained (as we will see shortly). Here, we initialise the matrix variable as a 3x3 matrix, with every entry as 1 (`tf.ones`). Meanwhile, we initialise the 3x1 vector variable with every entry as 0 (`tf.zeros`). `tf.linalg.matvec` multiplies a matrix and a vector."
   ]
  },
  {
   "cell_type": "code",
   "execution_count": 4,
   "metadata": {},
   "outputs": [
    {
     "name": "stdout",
     "output_type": "stream",
     "text": [
      "tf.Tensor([12. 12. 12.], shape=(3,), dtype=float32)\n"
     ]
    }
   ],
   "source": [
    "weight_matrix = tf.Variable(tf.ones(shape=(3,3)))\n",
    "weight_vector = tf.Variable(tf.zeros(shape=(3,)))\n",
    "\n",
    "def affine_transformation(input_vector):\n",
    "    return tf.linalg.matvec(weight_matrix, input_vector) + weight_vector\n",
    "\n",
    "result = affine_transformation([2.,3.,7.])\n",
    "print(result)"
   ]
  },
  {
   "cell_type": "markdown",
   "metadata": {},
   "source": [
    "The following [reset function](https://www.tensorflow.org/api_docs/python/tf/keras/backend/clear_session) is often useful. It is necessary to reset the `TensorFlow` network from time to time: as we have many different small networks in one notebook and we don't want them interfering with each other, as a pre-emptive measure we will occasionally reset the computation graph. "
   ]
  },
  {
   "cell_type": "code",
   "execution_count": 5,
   "metadata": {},
   "outputs": [
    {
     "data": {
      "text/plain": [
       "<function tensorflow.python.keras.backend.clear_session()>"
      ]
     },
     "execution_count": 5,
     "metadata": {},
     "output_type": "execute_result"
    }
   ],
   "source": [
    "tf.keras.backend.clear_session"
   ]
  },
  {
   "cell_type": "markdown",
   "metadata": {},
   "source": [
    "# Training the Parameters\n",
    "\n",
    "This example shows how to optimise the parameters in your model.\n",
    "\n",
    "We first define a network that takes an input vector, multiplies it with a matrix (as defined above), and sums the elements of the resulting vector (using `tf.math.reduce_sum`). We then define a loss function as the square error. Given a specific input and output, we can calculate the loss of applying the network to the input.\n",
    "\n",
    "Next, we define an optimiser – here, we are using *stochastic gradient descent* (*SGD*) with the learning rate $0.001$. We then use this optimiser to train this network for $10$ epochs, over this single training point. This optimises the output towards the target value $20$. Printing out the results, we can see that the output gradually moves towards the target."
   ]
  },
  {
   "cell_type": "code",
   "execution_count": 6,
   "metadata": {},
   "outputs": [
    {
     "name": "stdout",
     "output_type": "stream",
     "text": [
      "tf.Tensor(-24.48, shape=(), dtype=float32)\n",
      "tf.Tensor(143.6544, shape=(), dtype=float32)\n",
      "tf.Tensor(-323.75922, shape=(), dtype=float32)\n",
      "tf.Tensor(975.6506, shape=(), dtype=float32)\n",
      "tf.Tensor(-2636.7085, shape=(), dtype=float32)\n",
      "tf.Tensor(7405.6504, shape=(), dtype=float32)\n",
      "tf.Tensor(-20512.11, shape=(), dtype=float32)\n",
      "tf.Tensor(57099.266, shape=(), dtype=float32)\n",
      "tf.Tensor(-158660.36, shape=(), dtype=float32)\n",
      "tf.Tensor(441151.38, shape=(), dtype=float32)\n"
     ]
    }
   ],
   "source": [
    "alpha = 1e-2\n",
    "number_of_epochs = 10\n",
    "\n",
    "tf.keras.backend.clear_session\n",
    "\n",
    "weight_matrix = tf.Variable(tf.ones(shape=(3,3)))\n",
    "weight_vector = tf.Variable(tf.zeros(shape=(3,)))\n",
    "\n",
    "def network(input_vector):\n",
    "    return tf.math.reduce_sum(affine_transformation(input_vector))\n",
    "\n",
    "def loss_fn(predicted, gold):\n",
    "    return tf.square(predicted - gold)\n",
    "\n",
    "input = [2.,3.,7.]\n",
    "gold_output = 20\n",
    "\n",
    "def loss():\n",
    "    return loss_fn(network(input), gold_output)\n",
    "\n",
    "opt = tf.keras.optimizers.SGD(learning_rate=alpha)\n",
    "\n",
    "for epoch in range(number_of_epochs):\n",
    "    opt.minimize(loss, var_list=[weight_matrix, weight_vector])\n",
    "    print(network(input))"
   ]
  },
  {
   "cell_type": "markdown",
   "metadata": {},
   "source": [
    "**Optional**: Try changing the learning rate and the number of epochs. What results are you getting?\n",
    "\n",
    "**Answer**: \n",
    "- Learning rate too small: loss is decreasing, but didn't reach the optium loss\n",
    "- Learning rate too big: unstable result, loss get bigger and bigger\n",
    "- Num of epochs increase: loss stablised\n",
    "- Num of epochs decrease: loss didn't stablise yet"
   ]
  },
  {
   "cell_type": "markdown",
   "metadata": {},
   "source": [
    "# Network Layers\n",
    "\n",
    "For most cases, we don't actually need to create the trainable variables manually. Instead, the feedfoward layer is available as a pre-defined module.\n",
    "\n",
    "We can define a network as a sequence of operations, using [`tf.keras.Sequential`](https://www.tensorflow.org/api_docs/python/tf/keras/Sequential). The first operation here is a dense feedforward layer (`tf.keras.layers.Dense`), which acts like the `affine_transfomation` function we defined earlier. The second operation sums the elements of the vector – this isn't a standard operation, so we use `tf.keras.layers.Lambda` to allow a user-defined function.\n",
    "\n",
    "By default, the parameters in a layer (like [`tf.keras.layers.Dense`](https://www.tensorflow.org/api_docs/python/tf/keras/layers/Dense)) are initialised randomly."
   ]
  },
  {
   "cell_type": "code",
   "execution_count": 7,
   "metadata": {},
   "outputs": [],
   "source": [
    "model = tf.keras.Sequential([\n",
    "    tf.keras.layers.Dense(3, input_shape=(3,)),\n",
    "    tf.keras.layers.Lambda(lambda x: tf.math.reduce_sum(x, axis=1))\n",
    "])"
   ]
  },
  {
   "cell_type": "markdown",
   "metadata": {},
   "source": [
    "Note that such a model expects the input data to be given as a *minibatch* – this means that the input tensor should have an extra index, which ranges over datapoints. In our case, instead of passing a 3-dimensional input vector, we have to pass an Nx3 matrix, where N is the number of datapoints. Here, we can apply the model to a single datapoint (a 1x3 matrix):"
   ]
  },
  {
   "cell_type": "code",
   "execution_count": 8,
   "metadata": {},
   "outputs": [
    {
     "data": {
      "text/plain": [
       "array([-8.468903], dtype=float32)"
      ]
     },
     "execution_count": 8,
     "metadata": {},
     "output_type": "execute_result"
    }
   ],
   "source": [
    "model.predict(tf.constant([[2.,3.,7.]]))"
   ]
  },
  {
   "cell_type": "markdown",
   "metadata": {},
   "source": [
    "Now that we have a model defined in terms of layers, let's replace the manually created variables of the previous section."
   ]
  },
  {
   "cell_type": "code",
   "execution_count": 9,
   "metadata": {},
   "outputs": [
    {
     "name": "stdout",
     "output_type": "stream",
     "text": [
      "tf.Tensor([15.490984], shape=(1,), dtype=float32)\n",
      "tf.Tensor([17.195393], shape=(1,), dtype=float32)\n",
      "tf.Tensor([18.255533], shape=(1,), dtype=float32)\n",
      "tf.Tensor([18.914944], shape=(1,), dtype=float32)\n",
      "tf.Tensor([19.325092], shape=(1,), dtype=float32)\n",
      "tf.Tensor([19.580208], shape=(1,), dtype=float32)\n",
      "tf.Tensor([19.73889], shape=(1,), dtype=float32)\n",
      "tf.Tensor([19.837593], shape=(1,), dtype=float32)\n",
      "tf.Tensor([19.89898], shape=(1,), dtype=float32)\n",
      "tf.Tensor([19.937164], shape=(1,), dtype=float32)\n"
     ]
    }
   ],
   "source": [
    "tf.keras.backend.clear_session\n",
    "\n",
    "model = tf.keras.Sequential([\n",
    "    tf.keras.layers.Dense(3, input_shape=(3,)),\n",
    "    tf.keras.layers.Lambda(lambda x: tf.math.reduce_sum(x, axis=1))\n",
    "])\n",
    "\n",
    "def loss_fn(predicted, gold):\n",
    "    return tf.square(predicted - gold)\n",
    "\n",
    "input = tf.constant([[2.,3.,7.]])\n",
    "gold_output = 20\n",
    "\n",
    "def loss():\n",
    "    return loss_fn(model(input), gold_output)\n",
    "\n",
    "opt = tf.keras.optimizers.SGD(learning_rate=1e-3)\n",
    "\n",
    "for epoch in range(10):\n",
    "    opt.minimize(loss, var_list=model.trainable_variables)\n",
    "    print(model(input))"
   ]
  },
  {
   "cell_type": "markdown",
   "metadata": {},
   "source": [
    "In fact, for standard optimizers and loss functions, the `TensorFlow` API makes it even easier for us:"
   ]
  },
  {
   "cell_type": "code",
   "execution_count": 10,
   "metadata": {},
   "outputs": [
    {
     "name": "stdout",
     "output_type": "stream",
     "text": [
      "tf.Tensor(14.611286, shape=(), dtype=float32)\n",
      "tf.Tensor(16.64822, shape=(), dtype=float32)\n",
      "tf.Tensor(17.915195, shape=(), dtype=float32)\n",
      "tf.Tensor(18.70325, shape=(), dtype=float32)\n",
      "tf.Tensor(19.19342, shape=(), dtype=float32)\n",
      "tf.Tensor(19.498308, shape=(), dtype=float32)\n",
      "tf.Tensor(19.687948, shape=(), dtype=float32)\n",
      "tf.Tensor(19.805904, shape=(), dtype=float32)\n",
      "tf.Tensor(19.879272, shape=(), dtype=float32)\n",
      "tf.Tensor(19.924906, shape=(), dtype=float32)\n"
     ]
    }
   ],
   "source": [
    "tf.keras.backend.clear_session\n",
    "\n",
    "model = tf.keras.Sequential([\n",
    "    tf.keras.layers.Dense(3, input_shape=(3,)),\n",
    "    tf.keras.layers.Lambda(lambda x: tf.math.reduce_sum(x))\n",
    "])\n",
    "\n",
    "model.compile(optimizer=tf.keras.optimizers.SGD(learning_rate=1e-3), # alternatively, optimizer=`sgd`\n",
    "              loss='mean_squared_error')\n",
    "\n",
    "input = tf.constant([[2.,3.,7.]])\n",
    "gold_output = tf.constant([[20.]])\n",
    "\n",
    "for epoch in range(10):\n",
    "    model.train_on_batch(input, gold_output)\n",
    "    print(model(input))"
   ]
  },
  {
   "cell_type": "markdown",
   "metadata": {},
   "source": [
    "# Activation Functions\n",
    "\n",
    "As you saw in the previous lectures, activation functions are what gives neural networks their power to model non-linear patterns in the data. After applying an affine transformation, we then apply a non-linear activation function to each element. There are a number of different activation functions to choose from.\n",
    "\n",
    "The [sigmoid function](https://en.wikipedia.org/wiki/Logistic_function), also known as the logistic function, is the most classic non-linear activation. It transforms the value to a range between 0 and 1."
   ]
  },
  {
   "cell_type": "code",
   "execution_count": 11,
   "metadata": {},
   "outputs": [],
   "source": [
    "hidden = tf.keras.layers.Dense(100, activation='sigmoid')"
   ]
  },
  {
   "cell_type": "markdown",
   "metadata": {},
   "source": [
    "In modern networks, the [tanh function](https://en.wikipedia.org/wiki/Hyperbolic_function) is used more often. It has more flexibility, as it transforms the input value to a range between -1 and 1, and can therefore output negative values as well."
   ]
  },
  {
   "cell_type": "code",
   "execution_count": 12,
   "metadata": {},
   "outputs": [],
   "source": [
    "hidden = tf.keras.layers.Dense(100, activation='tanh')"
   ]
  },
  {
   "cell_type": "markdown",
   "metadata": {},
   "source": [
    "Another popular one is the [Rectified Linear Unit](https://en.wikipedia.org/wiki/Rectifier_(neural_networks)) function, or the ReLU. This function acts as a linear function above zero, but restricts everything below zero to 0. By doing this it also introduces non-linearity."
   ]
  },
  {
   "cell_type": "code",
   "execution_count": 13,
   "metadata": {},
   "outputs": [],
   "source": [
    "hidden = tf.keras.layers.Dense(100, activation='relu')"
   ]
  },
  {
   "cell_type": "markdown",
   "metadata": {},
   "source": [
    "The partial linear property of the ReLU can help it converge faster on some tasks, although in practice tanh may be a more robust option.\n",
    "\n",
    "Finally, for classification tasks [softmax](https://en.wikipedia.org/wiki/Softmax_function) is an important activation function. Unlike the activation functions mentioned above, it isn't applied to each element separately. It converts a vector of scores into a probability distribution: after applying the softmax, all values are between 0 and 1, and together they sum to 1. Higher scores are assigned to higher probabilities, via the formula:\n",
    "\n",
    "<center>\n",
    "$P(i) \\propto \\exp(x_i)$\n",
    "</center>\n",
    "\n",
    "Or, more explicitly:\n",
    "\n",
    "<center>\n",
    "$P(i) = \\frac{\\exp(x_i)}{\\sum_j \\exp(x_j)}$\n",
    "</center>\n",
    "\n",
    "Notice how the value of the denominator depends on all other values.\n",
    "\n",
    "The softmax is often used in the output layer of a network performing classification, in order to predict a probability distribution over all the possible classes. For example, the following model takes a 20-dimensional input, maps it to a 50-dimensional hidden layer, then maps it to a distribution over 10 output classes."
   ]
  },
  {
   "cell_type": "code",
   "execution_count": 14,
   "metadata": {},
   "outputs": [],
   "source": [
    "model = tf.keras.Sequential([\n",
    "    tf.keras.layers.Dense(50, input_shape=(20,), activation='relu'),\n",
    "    tf.keras.layers.Dense(10, activation='softmax')\n",
    "])"
   ]
  },
  {
   "cell_type": "markdown",
   "metadata": {},
   "source": [
    "# Operations and Useful Functions\n",
    "\n",
    "`TensorFlow` has corresponding versions of all the main operations you might want to use. This means you can add them into your computation graph and into your neural network. The most common operations are available in `tf`, and further operations are available in `tf.math`.\n"
   ]
  },
  {
   "cell_type": "code",
   "execution_count": 15,
   "metadata": {},
   "outputs": [
    {
     "data": {
      "text/plain": [
       "<function tensorflow.python.ops.math_ops.exp(x, name=None)>"
      ]
     },
     "execution_count": 15,
     "metadata": {},
     "output_type": "execute_result"
    }
   ],
   "source": [
    "tf.abs # absolute value\n",
    "tf.negative # computes the negative value\n",
    "tf.sign # returns 1, 0 or -1 depending on the sign of the input\n",
    "tf.math.reciprocal # reciprocal 1/x\n",
    "tf.square # return input squared\n",
    "tf.round # return rounded value\n",
    "tf.sqrt # square root\n",
    "tf.math.rsqrt # reciprocal of square root\n",
    "tf.pow # power\n",
    "tf.exp # exponential"
   ]
  },
  {
   "cell_type": "markdown",
   "metadata": {},
   "source": [
    "These operations can be applied to scalar values, but also to vectors, matrices and higher-order tensors. In the latter case, they will be applied element-wise. For example:"
   ]
  },
  {
   "cell_type": "code",
   "execution_count": 16,
   "metadata": {},
   "outputs": [
    {
     "name": "stdout",
     "output_type": "stream",
     "text": [
      "tf.Tensor([-3.2  2.7], shape=(2,), dtype=float32)\n",
      "tf.Tensor([2.25      4.4099994], shape=(2,), dtype=float32)\n"
     ]
    }
   ],
   "source": [
    "print(tf.negative([3.2,-2.7]))\n",
    "print(tf.square([1.5,-2.1]))"
   ]
  },
  {
   "cell_type": "markdown",
   "metadata": {},
   "source": [
    "Some useful operations are performed over a whole vector/matrix tensor and return a single value (e.g., you saw `tf.reduce_sum` earlier):"
   ]
  },
  {
   "cell_type": "code",
   "execution_count": 17,
   "metadata": {},
   "outputs": [
    {
     "data": {
      "text/plain": [
       "<function tensorflow.python.ops.math_ops.argmin_v2(input, axis=None, output_type=tf.int64, name=None)>"
      ]
     },
     "execution_count": 17,
     "metadata": {},
     "output_type": "execute_result"
    }
   ],
   "source": [
    "tf.reduce_sum # Add elements together\n",
    "tf.reduce_mean # Average over elements\n",
    "tf.reduce_min # Minimum value\n",
    "tf.reduce_max # Maximum value\n",
    "tf.argmax # Index of the largest value\n",
    "tf.argmin # Index of the smallest value"
   ]
  },
  {
   "cell_type": "markdown",
   "metadata": {},
   "source": [
    "# Adaptive Learning Rates\n",
    "\n",
    "Above, we used stochastic gradient descent (SGD) to train our model. This uses a fixed learning rate to update the parameters. Several optimisation algorithms are based on SGD, but adaptively adjust the learning rate (usually for each parameter separately).\n",
    "\n",
    "Different adaptive learning rate strategies are also implemented in `TensorFlow` as functions. For example:"
   ]
  },
  {
   "cell_type": "code",
   "execution_count": 18,
   "metadata": {},
   "outputs": [
    {
     "data": {
      "text/plain": [
       "tensorflow.python.keras.optimizer_v2.rmsprop.RMSprop"
      ]
     },
     "execution_count": 18,
     "metadata": {},
     "output_type": "execute_result"
    }
   ],
   "source": [
    "tf.keras.optimizers.SGD\n",
    "tf.keras.optimizers.Adadelta\n",
    "tf.keras.optimizers.Adam\n",
    "tf.keras.optimizers.RMSprop"
   ]
  },
  {
   "cell_type": "markdown",
   "metadata": {},
   "source": [
    "If you are interested in the differences between these strategies, [this blog post](http://ruder.io/optimizing-gradient-descent/) provides more details."
   ]
  },
  {
   "cell_type": "markdown",
   "metadata": {},
   "source": [
    "# Training an XOR Function\n",
    "\n",
    "[XOR](https://en.wikipedia.org/wiki/XOR_gate) is the function that takes two binary values and returns 1 only if one of them is 1 and the other 0, while returning 0 if both of them have the same value. It can be a difficult function to learn and cannot be modelled with a linear model. But let's try anyway.\n",
    "\n",
    "Our dataset consists of all the possible different states that XOR can take:"
   ]
  },
  {
   "cell_type": "code",
   "execution_count": 19,
   "metadata": {},
   "outputs": [],
   "source": [
    "xor_input = tf.constant([[0.0, 0.0], [0.0, 1.0], [1.0, 0.0], [1.0, 1.0]])\n",
    "xor_output = tf.constant([0.0, 1.0, 1.0, 0.0])"
   ]
  },
  {
   "cell_type": "markdown",
   "metadata": {},
   "source": [
    "Now we construct a linear network and optimize it on this dataset, printing out the predictions at each epoch:"
   ]
  },
  {
   "cell_type": "code",
   "execution_count": 20,
   "metadata": {},
   "outputs": [
    {
     "name": "stdout",
     "output_type": "stream",
     "text": [
      "after 10 epochs: [0.70786256 0.15821856 0.85682964 0.30718565]\n",
      "after 20 epochs: [0.66343284 0.31596386 0.73424816 0.38677916]\n",
      "after 30 epochs: [0.6190743  0.39345348 0.64389575 0.41827488]\n",
      "after 40 epochs: [0.58656746 0.43861026 0.58855927 0.44060206]\n",
      "after 50 epochs: [0.56293076 0.46498567 0.5547657  0.45682058]\n",
      "after 60 epochs: [0.5457478  0.48030183 0.5340565  0.46861047]\n",
      "after 70 epochs: [0.5332567  0.48912656 0.52131146 0.47718132]\n",
      "after 80 epochs: [0.5241761  0.4941588  0.51342905 0.48341176]\n",
      "after 90 epochs: [0.51757497 0.49698913 0.5085269  0.4879411 ]\n",
      "after 100 epochs: [0.5127762  0.49855086 0.505459   0.49123368]\n"
     ]
    }
   ],
   "source": [
    "tf.keras.backend.clear_session\n",
    "\n",
    "linear_model = tf.keras.Sequential([\n",
    "    tf.keras.layers.Dense(1, input_shape=(2,))\n",
    "])\n",
    "\n",
    "linear_model.compile(optimizer=tf.keras.optimizers.SGD(learning_rate=0.1),\n",
    "                     loss='mean_squared_error')\n",
    "\n",
    "for epoch in range(100):\n",
    "    linear_model.train_on_batch(xor_input, xor_output)\n",
    "    if (epoch + 1) % 10 == 0:\n",
    "        print('after {} epochs:'.format(epoch+1), linear_model(xor_input).numpy().reshape((4,)))"
   ]
  },
  {
   "cell_type": "markdown",
   "metadata": {},
   "source": [
    "As you can see, it's not doing very well. Ideally, the predictions should be [0, 1, 1, 0], but in this case they are hovering around 0.5 for every input case.\n",
    "\n",
    "In order to improve this architecture, let's add some non-linear layers into our model:"
   ]
  },
  {
   "cell_type": "code",
   "execution_count": 21,
   "metadata": {},
   "outputs": [
    {
     "name": "stdout",
     "output_type": "stream",
     "text": [
      "after 10 epochs: [0.50666904 0.39293927 0.6042477  0.45700896]\n",
      "after 20 epochs: [0.47382298 0.44804326 0.5983495  0.48210055]\n",
      "after 30 epochs: [0.42952913 0.48804465 0.6061108  0.49898857]\n",
      "after 40 epochs: [0.3735227  0.52241594 0.62556493 0.5059096 ]\n",
      "after 50 epochs: [0.31824115 0.5559406  0.65275836 0.49487737]\n",
      "after 60 epochs: [0.27278322 0.59244883 0.6822847  0.46224955]\n",
      "after 70 epochs: [0.23734653 0.6355034  0.7114747  0.4133536 ]\n",
      "after 80 epochs: [0.2079368  0.682039   0.74015296 0.3587183 ]\n",
      "after 90 epochs: [0.18204376 0.7253681  0.7678329  0.30804962]\n",
      "after 100 epochs: [0.15950307 0.76181984 0.7930443  0.26582605]\n"
     ]
    }
   ],
   "source": [
    "tf.keras.backend.clear_session\n",
    "\n",
    "nonlinear_model = tf.keras.Sequential([\n",
    "    tf.keras.layers.Dense(5, input_shape=(2,), activation='tanh'), # note that these settings can be changed\n",
    "    tf.keras.layers.Dense(1, activation='sigmoid')\n",
    "])\n",
    "\n",
    "nonlinear_model.compile(optimizer=tf.keras.optimizers.SGD(learning_rate=1),\n",
    "                        loss='mean_squared_error')\n",
    "\n",
    "for epoch in range(100):\n",
    "    nonlinear_model.train_on_batch(xor_input, xor_output)\n",
    "    if (epoch + 1) % 10 == 0:\n",
    "        print('after {} epochs:'.format(epoch+1), nonlinear_model(xor_input).numpy().reshape((4,)))"
   ]
  },
  {
   "cell_type": "markdown",
   "metadata": {},
   "source": [
    "This is much better. The values are much closer to [0, 1, 1, 0] than before, and they will continue improving if we train for longer. (Remember that the model is initialised randomly – if you run it a few times, you will see that the results vary with each run. Check the [documentation](https://www.tensorflow.org/tutorials/keras/save_and_load) on how you can save and restore a particular model).\n",
    "\n",
    "We also had to increase the learning rate for this network. It would still be learning with a smaller learning rate, but it would be converging very slowly. As we discussed in the lectures, learning rate is a hyperparameter that can vary quite a bit depending on the network architecture and dataset.\n",
    "\n",
    "**Optional**: Try changing various settings in the current network, e.g. *width* (number of neurons per layer), *depth* (number of layers), *activation functions* applied to each layer, and number of *epochs*. What changes do you observe?"
   ]
  },
  {
   "cell_type": "markdown",
   "metadata": {},
   "source": [
    "# XOR Classification\n",
    "\n",
    "We can also do classification with `TensorFlow`. For this, we often use the softmax activation function described above, which predicts the probability for each of the possible classes.\n",
    "\n",
    "We also have to change the loss function, as squared error is not suitable for classification. A suitable loss function is [cross entropy](https://en.wikipedia.org/wiki/Cross_entropy). Since the correct output has probability 1 for the correct class, and probability 0 for the rest, minimising cross entropy is the same as minimising the negative log probability of the correct class for each datapoint. In other words, by minimising cross entropy, we are trying to find the maximum likelihood model, which assigns high values for the correct label.\n",
    "\n",
    "We can change the XOR example above to perform classification instead. In this case, we are constructing a binary classifier – choosing between the classes of 0 and 1. The output here prints the predicted probabilities of the two classes."
   ]
  },
  {
   "cell_type": "code",
   "execution_count": 22,
   "metadata": {},
   "outputs": [
    {
     "name": "stdout",
     "output_type": "stream",
     "text": [
      "after 10 epochs:\n",
      "[[0.5493108  0.45068917]\n",
      " [0.5616074  0.4383925 ]\n",
      " [0.5883486  0.4116514 ]\n",
      " [0.74939406 0.2506059 ]]\n",
      "after 20 epochs:\n",
      "[[0.54275256 0.4572474 ]\n",
      " [0.5053012  0.4946988 ]\n",
      " [0.47797644 0.5220236 ]\n",
      " [0.8805903  0.11940967]]\n",
      "after 30 epochs:\n",
      "[[0.61284107 0.38715887]\n",
      " [0.69233257 0.30766743]\n",
      " [0.70448256 0.29551744]\n",
      " [0.9959682  0.00403183]]\n",
      "after 40 epochs:\n",
      "[[0.5896281  0.41037193]\n",
      " [0.2475429  0.75245714]\n",
      " [0.20068872 0.7993113 ]\n",
      " [0.9610912  0.03890879]]\n",
      "after 50 epochs:\n",
      "[[0.59552515 0.40447482]\n",
      " [0.5339093  0.4660907 ]\n",
      " [0.48457462 0.5154254 ]\n",
      " [0.46012038 0.53987956]]\n"
     ]
    }
   ],
   "source": [
    "tf.keras.backend.clear_session\n",
    "\n",
    "nonlinear_model = tf.keras.Sequential([\n",
    "    tf.keras.layers.Dense(10, input_shape=(2,), activation='relu'),\n",
    "    tf.keras.layers.Dense(2, activation='softmax')\n",
    "])\n",
    "\n",
    "nonlinear_model.compile(optimizer=tf.keras.optimizers.SGD(learning_rate=1),\n",
    "                        loss='sparse_categorical_crossentropy')\n",
    "\n",
    "for epoch in range(50):\n",
    "    nonlinear_model.train_on_batch(xor_input, xor_output)\n",
    "    if (epoch + 1) % 10 == 0:\n",
    "        print('after {} epochs:'.format(epoch+1), nonlinear_model(xor_input).numpy(), sep='\\n')"
   ]
  },
  {
   "cell_type": "markdown",
   "metadata": {},
   "source": [
    "Let's convert these probabilities into class predictions and also report some of the more familiar [evaluation metrics](https://www.tensorflow.org/api_docs/python/tf/keras/metrics), e.g. *accuracy*:"
   ]
  },
  {
   "cell_type": "code",
   "execution_count": 23,
   "metadata": {},
   "outputs": [
    {
     "name": "stdout",
     "output_type": "stream",
     "text": [
      "\n",
      "After 10 epochs: 0 1 1 0\n",
      "1/1 - 0s - loss: 0.5571 - accuracy: 1.0000\n",
      "\n",
      "Accuracy: 1.0\n",
      "\n",
      "After 20 epochs: 0 1 1 0\n",
      "1/1 - 0s - loss: 0.4787 - accuracy: 1.0000\n",
      "\n",
      "Accuracy: 1.0\n",
      "\n",
      "After 30 epochs: 0 1 1 0\n",
      "1/1 - 0s - loss: 0.4276 - accuracy: 1.0000\n",
      "\n",
      "Accuracy: 1.0\n",
      "\n",
      "After 40 epochs: 0 1 1 0\n",
      "1/1 - 0s - loss: 0.3935 - accuracy: 1.0000\n",
      "\n",
      "Accuracy: 1.0\n",
      "\n",
      "After 50 epochs: 0 1 1 0\n",
      "1/1 - 0s - loss: 0.3694 - accuracy: 1.0000\n",
      "\n",
      "Accuracy: 1.0\n"
     ]
    }
   ],
   "source": [
    "tf.keras.backend.clear_session\n",
    "\n",
    "nonlinear_model = tf.keras.Sequential([\n",
    "    tf.keras.layers.Dense(10, input_shape=(2,), activation='relu'),\n",
    "    tf.keras.layers.Dense(2, activation='softmax')\n",
    "])\n",
    "\n",
    "nonlinear_model.compile(optimizer=tf.keras.optimizers.SGD(learning_rate=1),\n",
    "              loss=tf.keras.losses.SparseCategoricalCrossentropy(from_logits=True),\n",
    "              metrics=['accuracy'])  \n",
    "\n",
    "for epoch in range(50):\n",
    "    nonlinear_model.train_on_batch(xor_input, xor_output)\n",
    "    predictions = nonlinear_model.predict(xor_input)\n",
    "    result = tf.argmax(predictions, axis=1)\n",
    "    \n",
    "    if (epoch + 1) % 10 == 0:\n",
    "        print('\\nAfter {} epochs:'.format(epoch+1), \" \".join([str(x) for x in result.numpy()]))\n",
    "        test_loss, test_acc = nonlinear_model.evaluate(xor_input, xor_output, verbose=2)\n",
    "        print('\\nAccuracy:', test_acc)\n"
   ]
  },
  {
   "cell_type": "markdown",
   "metadata": {},
   "source": [
    "You should be able to see in this printout that the model starts off with incorrect predictions, but fairly soon learns to return the correct sequence of [0, 1, 1, 0].\n",
    "\n",
    "Finally, here is how you can print out the confusion matrix. Since we are looking into a simple case here and the predictions from above are quite accurate, there is not much to be learned from the confusion matrix at this point (but note that this functionality may come in handy later in your practical):"
   ]
  },
  {
   "cell_type": "code",
   "execution_count": 24,
   "metadata": {},
   "outputs": [
    {
     "name": "stdout",
     "output_type": "stream",
     "text": [
      "[[2 0]\n",
      " [0 2]]\n"
     ]
    }
   ],
   "source": [
    "conf_mx = tf.math.confusion_matrix(xor_output, result.numpy()).numpy()\n",
    "print(conf_mx)"
   ]
  },
  {
   "cell_type": "markdown",
   "metadata": {},
   "source": [
    "# Minibatching\n",
    "\n",
    "For the XOR data, there are only 4 datapoints. However, with realistic datasets, it is inefficient to train on the whole dataset at once, because this will require a lot of computation in order to make a single update step. \n",
    "\n",
    "Instead, we can train on a batch of data at a time. For example, here is how you can take batches of 2 datapoints for the XOR data:"
   ]
  },
  {
   "cell_type": "code",
   "execution_count": 25,
   "metadata": {},
   "outputs": [
    {
     "name": "stdout",
     "output_type": "stream",
     "text": [
      "after 10 epochs:\n",
      "[[0.6634207  0.33657935]\n",
      " [0.23378341 0.7662166 ]\n",
      " [0.2318027  0.76819724]\n",
      " [0.7899536  0.21004644]]\n",
      "after 20 epochs:\n",
      "[[0.8799071  0.12009296]\n",
      " [0.02677004 0.97323   ]\n",
      " [0.02952856 0.9704715 ]\n",
      " [0.9758897  0.0241103 ]]\n",
      "after 30 epochs:\n",
      "[[0.9366198  0.06338012]\n",
      " [0.01269464 0.9873053 ]\n",
      " [0.01327859 0.9867214 ]\n",
      " [0.98953855 0.01046149]]\n",
      "after 40 epochs:\n",
      "[[0.9567988  0.04320119]\n",
      " [0.00830456 0.99169546]\n",
      " [0.00810144 0.99189854]\n",
      " [0.99349844 0.00650161]]\n",
      "after 50 epochs:\n",
      "[[0.9672462  0.03275383]\n",
      " [0.00607489 0.99392515]\n",
      " [0.0058314  0.99416864]\n",
      " [0.99553466 0.00446528]]\n"
     ]
    }
   ],
   "source": [
    "tf.keras.backend.clear_session\n",
    "\n",
    "nonlinear_model = tf.keras.Sequential([\n",
    "    tf.keras.layers.Dense(10, input_shape=(2,), activation='relu'),\n",
    "    tf.keras.layers.Dense(2, activation='softmax')\n",
    "])\n",
    "\n",
    "nonlinear_model.compile(optimizer=tf.keras.optimizers.SGD(learning_rate=1),\n",
    "                        loss='sparse_categorical_crossentropy')\n",
    "\n",
    "BATCH_SIZE = 2\n",
    "\n",
    "for epoch in range(50):\n",
    "    for i in range(0,len(xor_input),BATCH_SIZE):\n",
    "        input_batch = xor_input[i:i+BATCH_SIZE]\n",
    "        output_batch = xor_output[i:i+BATCH_SIZE]\n",
    "        nonlinear_model.train_on_batch(input_batch, output_batch)\n",
    "    if (epoch + 1) % 10 == 0:\n",
    "        print('after {} epochs:'.format(epoch+1), nonlinear_model(xor_input).numpy(), sep='\\n')"
   ]
  },
  {
   "cell_type": "markdown",
   "metadata": {},
   "source": [
    "Again, this kind of functionality is built into `TensorFlow`. The following code trains the model with the given batch size and number of epochs:"
   ]
  },
  {
   "cell_type": "code",
   "execution_count": 26,
   "metadata": {},
   "outputs": [
    {
     "name": "stdout",
     "output_type": "stream",
     "text": [
      "Epoch 1/50\n",
      "2/2 [==============================] - 0s 926us/step - loss: 1.0400\n",
      "Epoch 2/50\n",
      "2/2 [==============================] - 0s 2ms/step - loss: 0.6622\n",
      "Epoch 3/50\n",
      "2/2 [==============================] - 0s 2ms/step - loss: 0.6301\n",
      "Epoch 4/50\n",
      "2/2 [==============================] - 0s 1ms/step - loss: 0.5638\n",
      "Epoch 5/50\n",
      "2/2 [==============================] - 0s 2ms/step - loss: 0.5702\n",
      "Epoch 6/50\n",
      "2/2 [==============================] - 0s 2ms/step - loss: 0.5499\n",
      "Epoch 7/50\n",
      "2/2 [==============================] - 0s 1ms/step - loss: 0.4067\n",
      "Epoch 8/50\n",
      "2/2 [==============================] - 0s 1ms/step - loss: 0.3509\n",
      "Epoch 9/50\n",
      "2/2 [==============================] - 0s 1ms/step - loss: 0.9692\n",
      "Epoch 10/50\n",
      "2/2 [==============================] - 0s 4ms/step - loss: 0.8711\n",
      "Epoch 11/50\n",
      "2/2 [==============================] - 0s 1ms/step - loss: 0.5143\n",
      "Epoch 12/50\n",
      "2/2 [==============================] - 0s 2ms/step - loss: 0.3038\n",
      "Epoch 13/50\n",
      "2/2 [==============================] - 0s 5ms/step - loss: 0.2773\n",
      "Epoch 14/50\n",
      "2/2 [==============================] - 0s 1ms/step - loss: 0.1758\n",
      "Epoch 15/50\n",
      "2/2 [==============================] - 0s 2ms/step - loss: 0.1202\n",
      "Epoch 16/50\n",
      "2/2 [==============================] - 0s 2ms/step - loss: 0.0968\n",
      "Epoch 17/50\n",
      "2/2 [==============================] - 0s 2ms/step - loss: 0.0806\n",
      "Epoch 18/50\n",
      "2/2 [==============================] - 0s 1ms/step - loss: 0.0721\n",
      "Epoch 19/50\n",
      "2/2 [==============================] - 0s 2ms/step - loss: 0.0653\n",
      "Epoch 20/50\n",
      "2/2 [==============================] - 0s 1ms/step - loss: 0.0533\n",
      "Epoch 21/50\n",
      "2/2 [==============================] - 0s 1ms/step - loss: 0.0550\n",
      "Epoch 22/50\n",
      "2/2 [==============================] - 0s 1ms/step - loss: 0.0455\n",
      "Epoch 23/50\n",
      "2/2 [==============================] - 0s 1ms/step - loss: 0.0397\n",
      "Epoch 24/50\n",
      "2/2 [==============================] - 0s 1ms/step - loss: 0.0371\n",
      "Epoch 25/50\n",
      "2/2 [==============================] - 0s 1ms/step - loss: 0.0356\n",
      "Epoch 26/50\n",
      "2/2 [==============================] - 0s 1ms/step - loss: 0.0313\n",
      "Epoch 27/50\n",
      "2/2 [==============================] - 0s 1ms/step - loss: 0.0292\n",
      "Epoch 28/50\n",
      "2/2 [==============================] - 0s 1ms/step - loss: 0.0283\n",
      "Epoch 29/50\n",
      "2/2 [==============================] - 0s 1ms/step - loss: 0.0259\n",
      "Epoch 30/50\n",
      "2/2 [==============================] - 0s 3ms/step - loss: 0.0243\n",
      "Epoch 31/50\n",
      "2/2 [==============================] - 0s 11ms/step - loss: 0.0227\n",
      "Epoch 32/50\n",
      "2/2 [==============================] - 0s 4ms/step - loss: 0.0220\n",
      "Epoch 33/50\n",
      "2/2 [==============================] - 0s 2ms/step - loss: 0.0210\n",
      "Epoch 34/50\n",
      "2/2 [==============================] - 0s 2ms/step - loss: 0.0202\n",
      "Epoch 35/50\n",
      "2/2 [==============================] - 0s 3ms/step - loss: 0.0190\n",
      "Epoch 36/50\n",
      "2/2 [==============================] - 0s 2ms/step - loss: 0.0188\n",
      "Epoch 37/50\n",
      "2/2 [==============================] - 0s 2ms/step - loss: 0.0176\n",
      "Epoch 38/50\n",
      "2/2 [==============================] - 0s 2ms/step - loss: 0.0170\n",
      "Epoch 39/50\n",
      "2/2 [==============================] - 0s 2ms/step - loss: 0.0162\n",
      "Epoch 40/50\n",
      "2/2 [==============================] - 0s 1ms/step - loss: 0.0152\n",
      "Epoch 41/50\n",
      "2/2 [==============================] - 0s 1ms/step - loss: 0.0151\n",
      "Epoch 42/50\n",
      "2/2 [==============================] - 0s 2ms/step - loss: 0.0143\n",
      "Epoch 43/50\n",
      "2/2 [==============================] - 0s 2ms/step - loss: 0.0138\n",
      "Epoch 44/50\n",
      "2/2 [==============================] - 0s 2ms/step - loss: 0.0132\n",
      "Epoch 45/50\n",
      "2/2 [==============================] - 0s 2ms/step - loss: 0.0131\n",
      "Epoch 46/50\n",
      "2/2 [==============================] - 0s 6ms/step - loss: 0.0128\n",
      "Epoch 47/50\n",
      "2/2 [==============================] - 0s 8ms/step - loss: 0.0122\n",
      "Epoch 48/50\n",
      "2/2 [==============================] - 0s 2ms/step - loss: 0.0119\n",
      "Epoch 49/50\n",
      "2/2 [==============================] - 0s 2ms/step - loss: 0.0114\n",
      "Epoch 50/50\n",
      "2/2 [==============================] - 0s 2ms/step - loss: 0.0113\n",
      "1/1 [==============================] - 0s 1ms/step - loss: 0.0109\n",
      "final loss: 0.010859444737434387\n",
      "final predictions:\n",
      "[[0.9826048  0.01739518]\n",
      " [0.00420853 0.99579144]\n",
      " [0.00411529 0.9958847 ]\n",
      " [0.9826048  0.01739518]]\n"
     ]
    }
   ],
   "source": [
    "tf.keras.backend.clear_session\n",
    "\n",
    "nonlinear_model = tf.keras.Sequential([\n",
    "    tf.keras.layers.Dense(10, input_shape=(2,), activation='relu'),\n",
    "    tf.keras.layers.Dense(2, activation='softmax')\n",
    "])\n",
    "\n",
    "nonlinear_model.compile(optimizer=tf.keras.optimizers.SGD(learning_rate=1),\n",
    "                        loss='sparse_categorical_crossentropy')\n",
    "\n",
    "nonlinear_model.fit(xor_input, xor_output, batch_size=2, epochs=50)\n",
    "\n",
    "print('final loss:', nonlinear_model.evaluate(xor_input, xor_output))\n",
    "print('final predictions:', nonlinear_model.predict(xor_input), sep='\\n')"
   ]
  },
  {
   "cell_type": "markdown",
   "metadata": {},
   "source": [
    "# TensorBoard\n",
    "\n",
    "So far, you have been exploring the results using simple print out messages. However, neural networks can grow very large and complicated, and you may wish to visualise and explore various components along the way. Visualisation in this case is not only a useful method for reporting and sharing your results, but also a good way to inspect your network and debug it. \n",
    "\n",
    "[`TensorBoard`](https://www.tensorflow.org/tensorboard) provides you with all the needed visualisation functionality and allows you to:\n",
    "\n",
    "- track and visualise metrics such as loss and accuracy;\n",
    "- visualise the model graph (ops and layers);\n",
    "- view histograms of weights, biases, or other tensors as they change over time;\n",
    "- project embeddings to a lower dimensional space;\n",
    "- display images, text, and audio data;\n",
    "- profile TensorFlow programs;\n",
    "\n",
    "among other things. Moreover, you can run it in your browser or embed it directly into your notebook as the code below shows:"
   ]
  },
  {
   "cell_type": "code",
   "execution_count": 27,
   "metadata": {},
   "outputs": [],
   "source": [
    "# Load the TensorBoard notebook extension\n",
    "%load_ext tensorboard"
   ]
  },
  {
   "cell_type": "markdown",
   "metadata": {},
   "source": [
    "Since you will likely be introducing changes into your network and rerunning your code, it's important to be able to distinguish between these different runs to track the changes. Every time you run a new model, it will be stored in log files and added to your `TensorBoard`, so a good way to distinguish between various models is to add a time stamp to each of them. Let's add this functionality:"
   ]
  },
  {
   "cell_type": "code",
   "execution_count": 28,
   "metadata": {},
   "outputs": [],
   "source": [
    "import datetime"
   ]
  },
  {
   "cell_type": "markdown",
   "metadata": {},
   "source": [
    "Now, make sure you clean all the previous logs (e.g., if you've run this notebook before). You can clear any logs from previous runs by running `rm -rf ./logs/` from within your notebook folder in your terminal.\n",
    "\n",
    "Once this is done, let's train a network and store its details in the log files."
   ]
  },
  {
   "cell_type": "code",
   "execution_count": 29,
   "metadata": {
    "scrolled": false
   },
   "outputs": [
    {
     "name": "stdout",
     "output_type": "stream",
     "text": [
      "Epoch 1/50\n",
      "1/2 [==============>...............] - ETA: 0s - loss: 0.7355WARNING:tensorflow:From /Users/elim/opt/anaconda3/envs/ML/lib/python3.8/site-packages/tensorflow/python/ops/summary_ops_v2.py:1277: stop (from tensorflow.python.eager.profiler) is deprecated and will be removed after 2020-07-01.\n",
      "Instructions for updating:\n",
      "use `tf.profiler.experimental.stop` instead.\n",
      "WARNING:tensorflow:Callbacks method `on_train_batch_end` is slow compared to the batch time (batch time: 0.0010s vs `on_train_batch_end` time: 0.0141s). Check your callbacks.\n",
      "2/2 [==============================] - 0s 86ms/step - loss: 1.5753 - val_loss: 0.7757\n",
      "Epoch 2/50\n",
      "2/2 [==============================] - 0s 11ms/step - loss: 0.8679 - val_loss: 0.6957\n",
      "Epoch 3/50\n",
      "2/2 [==============================] - 0s 16ms/step - loss: 1.2352 - val_loss: 0.7667\n",
      "Epoch 4/50\n",
      "2/2 [==============================] - 0s 16ms/step - loss: 0.8406 - val_loss: 0.6962\n",
      "Epoch 5/50\n",
      "2/2 [==============================] - 0s 12ms/step - loss: 0.7573 - val_loss: 0.6941\n",
      "Epoch 6/50\n",
      "2/2 [==============================] - 0s 17ms/step - loss: 0.7599 - val_loss: 0.6942\n",
      "Epoch 7/50\n",
      "2/2 [==============================] - 0s 28ms/step - loss: 1.0945 - val_loss: 0.7381\n",
      "Epoch 8/50\n",
      "2/2 [==============================] - 0s 19ms/step - loss: 0.7714 - val_loss: 0.6947\n",
      "Epoch 9/50\n",
      "2/2 [==============================] - 0s 12ms/step - loss: 1.0625 - val_loss: 0.7356\n",
      "Epoch 10/50\n",
      "2/2 [==============================] - 0s 18ms/step - loss: 0.7639 - val_loss: 0.6948\n",
      "Epoch 11/50\n",
      "2/2 [==============================] - 0s 14ms/step - loss: 0.7302 - val_loss: 0.6934\n",
      "Epoch 12/50\n",
      "2/2 [==============================] - 0s 12ms/step - loss: 0.7234 - val_loss: 0.6932\n",
      "Epoch 13/50\n",
      "2/2 [==============================] - 0s 52ms/step - loss: 1.0250 - val_loss: 0.7241\n",
      "Epoch 14/50\n",
      "2/2 [==============================] - 0s 67ms/step - loss: 0.7385 - val_loss: 0.6948\n",
      "Epoch 15/50\n",
      "2/2 [==============================] - 0s 23ms/step - loss: 0.7193 - val_loss: 0.6933\n",
      "Epoch 16/50\n",
      "2/2 [==============================] - 0s 20ms/step - loss: 1.0077 - val_loss: 0.7190\n",
      "Epoch 17/50\n",
      "2/2 [==============================] - 0s 23ms/step - loss: 1.0492 - val_loss: 0.7374\n",
      "Epoch 18/50\n",
      "2/2 [==============================] - 0s 15ms/step - loss: 0.9927 - val_loss: 0.7020\n",
      "Epoch 19/50\n",
      "2/2 [==============================] - 0s 20ms/step - loss: 0.9909 - val_loss: 0.7110\n",
      "Epoch 20/50\n",
      "2/2 [==============================] - 0s 24ms/step - loss: 0.7248 - val_loss: 0.6941\n",
      "Epoch 21/50\n",
      "2/2 [==============================] - 0s 22ms/step - loss: 0.7092 - val_loss: 0.6932\n",
      "Epoch 22/50\n",
      "2/2 [==============================] - 0s 18ms/step - loss: 0.7128 - val_loss: 0.6932\n",
      "Epoch 23/50\n",
      "2/2 [==============================] - 0s 29ms/step - loss: 1.0049 - val_loss: 0.7198\n",
      "Epoch 24/50\n",
      "2/2 [==============================] - 0s 27ms/step - loss: 0.7266 - val_loss: 0.6948\n",
      "Epoch 25/50\n",
      "2/2 [==============================] - 0s 30ms/step - loss: 0.9982 - val_loss: 0.7161\n",
      "Epoch 26/50\n",
      "2/2 [==============================] - 0s 39ms/step - loss: 0.7205 - val_loss: 0.6946\n",
      "Epoch 27/50\n",
      "2/2 [==============================] - 0s 45ms/step - loss: 1.0116 - val_loss: 0.7235\n",
      "Epoch 28/50\n",
      "2/2 [==============================] - 0s 18ms/step - loss: 0.7224 - val_loss: 0.6951\n",
      "Epoch 29/50\n",
      "2/2 [==============================] - 0s 34ms/step - loss: 0.9967 - val_loss: 0.7155\n",
      "Epoch 30/50\n",
      "2/2 [==============================] - 0s 22ms/step - loss: 0.7209 - val_loss: 0.6944\n",
      "Epoch 31/50\n",
      "2/2 [==============================] - 0s 23ms/step - loss: 0.7041 - val_loss: 0.6932\n",
      "Epoch 32/50\n",
      "2/2 [==============================] - 0s 15ms/step - loss: 0.7015 - val_loss: 0.6931\n",
      "Epoch 33/50\n",
      "2/2 [==============================] - 0s 22ms/step - loss: 0.7009 - val_loss: 0.6931\n",
      "Epoch 34/50\n",
      "2/2 [==============================] - 0s 21ms/step - loss: 1.0045 - val_loss: 0.7197\n",
      "Epoch 35/50\n",
      "2/2 [==============================] - 0s 17ms/step - loss: 0.7164 - val_loss: 0.6949\n",
      "Epoch 36/50\n",
      "2/2 [==============================] - 0s 26ms/step - loss: 0.9970 - val_loss: 0.7157\n",
      "Epoch 37/50\n",
      "2/2 [==============================] - 0s 18ms/step - loss: 0.9893 - val_loss: 0.7064\n",
      "Epoch 38/50\n",
      "2/2 [==============================] - 0s 18ms/step - loss: 0.7067 - val_loss: 0.6940\n",
      "Epoch 39/50\n",
      "2/2 [==============================] - 0s 17ms/step - loss: 0.6980 - val_loss: 0.6932\n",
      "Epoch 40/50\n",
      "2/2 [==============================] - 0s 18ms/step - loss: 1.0019 - val_loss: 0.7188\n",
      "Epoch 41/50\n",
      "2/2 [==============================] - 0s 11ms/step - loss: 0.7167 - val_loss: 0.6947\n",
      "Epoch 42/50\n",
      "2/2 [==============================] - 0s 19ms/step - loss: 1.0125 - val_loss: 0.7237\n",
      "Epoch 43/50\n",
      "2/2 [==============================] - 0s 15ms/step - loss: 1.0535 - val_loss: 0.7391\n",
      "Epoch 44/50\n",
      "2/2 [==============================] - 0s 15ms/step - loss: 0.7284 - val_loss: 0.6961\n",
      "Epoch 45/50\n",
      "2/2 [==============================] - 0s 21ms/step - loss: 0.9948 - val_loss: 0.7145\n",
      "Epoch 46/50\n",
      "2/2 [==============================] - 0s 15ms/step - loss: 0.7100 - val_loss: 0.6946\n",
      "Epoch 47/50\n",
      "2/2 [==============================] - 0s 12ms/step - loss: 0.6969 - val_loss: 0.6933\n",
      "Epoch 48/50\n",
      "2/2 [==============================] - 0s 20ms/step - loss: 0.6976 - val_loss: 0.6932\n",
      "Epoch 49/50\n",
      "2/2 [==============================] - 0s 12ms/step - loss: 0.6955 - val_loss: 0.6932\n",
      "Epoch 50/50\n",
      "2/2 [==============================] - 0s 23ms/step - loss: 0.6949 - val_loss: 0.6931\n",
      "1/1 [==============================] - 0s 905us/step - loss: 0.6931\n",
      "final loss: 0.6931499242782593\n",
      "final predictions:\n",
      "[[0.50102794 0.49897197]\n",
      " [0.50102735 0.4989726 ]\n",
      " [0.50133866 0.49866128]\n",
      " [0.50133836 0.49866158]]\n"
     ]
    }
   ],
   "source": [
    "tf.keras.backend.clear_session\n",
    "\n",
    "nonlinear_model = tf.keras.Sequential([\n",
    "    tf.keras.layers.Dense(10, input_shape=(2,), activation='tanh'),\n",
    "    tf.keras.layers.Dense(2, activation='softmax')\n",
    "])\n",
    "\n",
    "nonlinear_model.compile(optimizer=tf.keras.optimizers.SGD(learning_rate=1),\n",
    "                        loss='sparse_categorical_crossentropy')\n",
    "\n",
    "log_dir = \"logs/fit/\" + datetime.datetime.now().strftime(\"%Y%m%d-%H%M%S\")\n",
    "tensorboard_callback = tf.keras.callbacks.TensorBoard(log_dir=log_dir, histogram_freq=1)\n",
    "\n",
    "nonlinear_model.fit(xor_input, xor_output, \n",
    "                    batch_size=2, epochs=50, \n",
    "                    validation_data=(xor_input, xor_output),\n",
    "                    callbacks=[tensorboard_callback])\n",
    "\n",
    "print('final loss:', nonlinear_model.evaluate(xor_input, xor_output))\n",
    "print('final predictions:', nonlinear_model.predict(xor_input), sep='\\n')"
   ]
  },
  {
   "cell_type": "markdown",
   "metadata": {},
   "source": [
    "And now you can explore your model in `TensorBoard`:"
   ]
  },
  {
   "cell_type": "code",
   "execution_count": 30,
   "metadata": {
    "scrolled": true
   },
   "outputs": [
    {
     "data": {
      "text/html": [
       "\n",
       "      <iframe id=\"tensorboard-frame-b644770ea3a1ba65\" width=\"100%\" height=\"800\" frameborder=\"0\">\n",
       "      </iframe>\n",
       "      <script>\n",
       "        (function() {\n",
       "          const frame = document.getElementById(\"tensorboard-frame-b644770ea3a1ba65\");\n",
       "          const url = new URL(\"/\", window.location);\n",
       "          const port = 6006;\n",
       "          if (port) {\n",
       "            url.port = port;\n",
       "          }\n",
       "          frame.src = url;\n",
       "        })();\n",
       "      </script>\n",
       "    "
      ],
      "text/plain": [
       "<IPython.core.display.HTML object>"
      ]
     },
     "metadata": {},
     "output_type": "display_data"
    }
   ],
   "source": [
    "%tensorboard --logdir logs/fit"
   ]
  },
  {
   "cell_type": "markdown",
   "metadata": {},
   "source": [
    "You can explore both the results (e.g., learning curves) under the `Scalars` tab and the network architecture itself under the `Graphs` tab. All visualisations are interactive – note that you can scroll in on the network components in the `Graph` visualisation and double-click on the \"+\" sign in the upper right corner of any component to track operations, weights, etc.\n",
    "\n",
    "A brief overview of the dashboards from [`TensorBoard` documentation](https://www.tensorflow.org/tensorboard/get_started):\n",
    "\n",
    "- The `Scalars` dashboard shows how the loss and metrics change with every epoch. You can use it to also track training speed, learning rate, and other scalar values.\n",
    "- The `Graphs` dashboard helps you visualise your model. In this case, the Keras graph of layers is shown which can help you ensure it is built correctly.\n",
    "- The `Distributions` and `Histograms` dashboards show the distribution of a Tensor over time. This can be useful to visualize weights and biases and verify that they are changing in an expected way.\n",
    "\n",
    "There are additional `TensorBoard` plugins, which are automatically enabled when you log other types of data (note, it is not applicable to this notebook, as you are not working with any other types of data here). For example, the Keras `TensorBoard` callback lets you log images and embeddings as well. You can see what other plugins are available in `TensorBoard` by clicking on the \"inactive\" dropdown towards the top right.\n",
    "\n",
    "\n",
    "# Keeping track of the history\n",
    "\n",
    "There are other ways to get more information and description of your model, which are useful when you introduce more complexity to the model and would like to keep track of the changes. We'll summarise them in this section."
   ]
  },
  {
   "cell_type": "code",
   "execution_count": 31,
   "metadata": {},
   "outputs": [],
   "source": [
    "tf.keras.backend.clear_session\n",
    "\n",
    "nonlinear_model = tf.keras.Sequential([\n",
    "    tf.keras.layers.Dense(10, input_shape=(2,), activation='relu'),\n",
    "    tf.keras.layers.Dense(2, activation='softmax')\n",
    "])"
   ]
  },
  {
   "cell_type": "markdown",
   "metadata": {},
   "source": [
    "For instance, here is how you can return the information on the networks' layers and their types:"
   ]
  },
  {
   "cell_type": "code",
   "execution_count": 32,
   "metadata": {},
   "outputs": [
    {
     "data": {
      "text/plain": [
       "[<tensorflow.python.keras.layers.core.Dense at 0x7fccb3d08eb0>,\n",
       " <tensorflow.python.keras.layers.core.Dense at 0x7fccb3d4e070>]"
      ]
     },
     "execution_count": 32,
     "metadata": {},
     "output_type": "execute_result"
    }
   ],
   "source": [
    "nonlinear_model.layers"
   ]
  },
  {
   "cell_type": "markdown",
   "metadata": {},
   "source": [
    "And here is how you can get a concise summary of the network layers (note that the first dimension in the output shape column is specified as `None` – this is to denote that this dimension is variable as it depends on the batch size):"
   ]
  },
  {
   "cell_type": "code",
   "execution_count": 33,
   "metadata": {},
   "outputs": [
    {
     "name": "stdout",
     "output_type": "stream",
     "text": [
      "Model: \"sequential_11\"\n",
      "_________________________________________________________________\n",
      "Layer (type)                 Output Shape              Param #   \n",
      "=================================================================\n",
      "dense_21 (Dense)             (None, 10)                30        \n",
      "_________________________________________________________________\n",
      "dense_22 (Dense)             (None, 2)                 22        \n",
      "=================================================================\n",
      "Total params: 52\n",
      "Trainable params: 52\n",
      "Non-trainable params: 0\n",
      "_________________________________________________________________\n"
     ]
    }
   ],
   "source": [
    "nonlinear_model.summary()"
   ]
  },
  {
   "cell_type": "markdown",
   "metadata": {},
   "source": [
    "Finally, you can also plot tje model summary like so:"
   ]
  },
  {
   "cell_type": "code",
   "execution_count": 34,
   "metadata": {},
   "outputs": [],
   "source": [
    "#tf.keras.utils.plot_model(nonlinear_model, show_shapes=True)"
   ]
  },
  {
   "cell_type": "markdown",
   "metadata": {},
   "source": [
    "Below are a number of ways to extract (and store) the information on individual layers, as well as on weights and biases in the network:"
   ]
  },
  {
   "cell_type": "code",
   "execution_count": 35,
   "metadata": {},
   "outputs": [
    {
     "data": {
      "text/plain": [
       "'dense_22'"
      ]
     },
     "execution_count": 35,
     "metadata": {},
     "output_type": "execute_result"
    }
   ],
   "source": [
    "hidden1 = nonlinear_model.layers[1]\n",
    "hidden1.name"
   ]
  },
  {
   "cell_type": "code",
   "execution_count": 36,
   "metadata": {},
   "outputs": [
    {
     "data": {
      "text/plain": [
       "True"
      ]
     },
     "execution_count": 36,
     "metadata": {},
     "output_type": "execute_result"
    }
   ],
   "source": [
    "nonlinear_model.get_layer(hidden1.name) is hidden1"
   ]
  },
  {
   "cell_type": "code",
   "execution_count": 37,
   "metadata": {},
   "outputs": [],
   "source": [
    "weights, biases = hidden1.get_weights()"
   ]
  },
  {
   "cell_type": "code",
   "execution_count": 38,
   "metadata": {},
   "outputs": [
    {
     "data": {
      "text/plain": [
       "array([[-0.20016551,  0.05085588],\n",
       "       [-0.17853421,  0.605547  ],\n",
       "       [ 0.19227242,  0.48122865],\n",
       "       [ 0.28164852, -0.6406127 ],\n",
       "       [ 0.3798291 , -0.6182771 ],\n",
       "       [-0.31202644, -0.17647558],\n",
       "       [-0.6883342 , -0.3423698 ],\n",
       "       [ 0.21852416,  0.1842972 ],\n",
       "       [-0.22319168,  0.11213946],\n",
       "       [ 0.12886333,  0.41780168]], dtype=float32)"
      ]
     },
     "execution_count": 38,
     "metadata": {},
     "output_type": "execute_result"
    }
   ],
   "source": [
    "weights"
   ]
  },
  {
   "cell_type": "code",
   "execution_count": 39,
   "metadata": {},
   "outputs": [
    {
     "data": {
      "text/plain": [
       "(10, 2)"
      ]
     },
     "execution_count": 39,
     "metadata": {},
     "output_type": "execute_result"
    }
   ],
   "source": [
    "weights.shape"
   ]
  },
  {
   "cell_type": "code",
   "execution_count": 40,
   "metadata": {},
   "outputs": [
    {
     "data": {
      "text/plain": [
       "array([0., 0.], dtype=float32)"
      ]
     },
     "execution_count": 40,
     "metadata": {},
     "output_type": "execute_result"
    }
   ],
   "source": [
    "biases"
   ]
  },
  {
   "cell_type": "code",
   "execution_count": 41,
   "metadata": {},
   "outputs": [
    {
     "data": {
      "text/plain": [
       "(2,)"
      ]
     },
     "execution_count": 41,
     "metadata": {},
     "output_type": "execute_result"
    }
   ],
   "source": [
    "biases.shape"
   ]
  },
  {
   "cell_type": "markdown",
   "metadata": {},
   "source": [
    "Now let's train the model and track the changes in the loss and accuracy on the training and validation data:"
   ]
  },
  {
   "cell_type": "code",
   "execution_count": 42,
   "metadata": {},
   "outputs": [],
   "source": [
    "nonlinear_model.compile(optimizer=tf.keras.optimizers.SGD(learning_rate=1),\n",
    "                        loss='sparse_categorical_crossentropy',\n",
    "                       metrics = ['accuracy'])"
   ]
  },
  {
   "cell_type": "code",
   "execution_count": 43,
   "metadata": {},
   "outputs": [
    {
     "name": "stdout",
     "output_type": "stream",
     "text": [
      "Epoch 1/50\n",
      "2/2 [==============================] - 0s 88ms/step - loss: 0.7294 - accuracy: 0.2500 - val_loss: 0.6615 - val_accuracy: 0.5000\n",
      "Epoch 2/50\n",
      "2/2 [==============================] - 0s 10ms/step - loss: 0.6709 - accuracy: 0.7500 - val_loss: 0.5974 - val_accuracy: 1.0000\n",
      "Epoch 3/50\n",
      "2/2 [==============================] - 0s 10ms/step - loss: 0.7379 - accuracy: 0.7500 - val_loss: 0.6150 - val_accuracy: 0.7500\n",
      "Epoch 4/50\n",
      "2/2 [==============================] - 0s 9ms/step - loss: 0.6342 - accuracy: 0.7500 - val_loss: 0.5377 - val_accuracy: 1.0000\n",
      "Epoch 5/50\n",
      "2/2 [==============================] - 0s 10ms/step - loss: 0.8522 - accuracy: 0.5000 - val_loss: 0.7612 - val_accuracy: 0.5000\n",
      "Epoch 6/50\n",
      "2/2 [==============================] - 0s 9ms/step - loss: 0.7451 - accuracy: 0.5000 - val_loss: 0.5533 - val_accuracy: 1.0000\n",
      "Epoch 7/50\n",
      "2/2 [==============================] - 0s 9ms/step - loss: 0.7830 - accuracy: 0.5000 - val_loss: 0.5421 - val_accuracy: 0.5000\n",
      "Epoch 8/50\n",
      "2/2 [==============================] - 0s 23ms/step - loss: 0.8275 - accuracy: 0.2500 - val_loss: 0.4367 - val_accuracy: 0.5000\n",
      "Epoch 9/50\n",
      "2/2 [==============================] - 0s 15ms/step - loss: 0.5608 - accuracy: 0.5000 - val_loss: 0.6544 - val_accuracy: 0.7500\n",
      "Epoch 10/50\n",
      "2/2 [==============================] - 0s 10ms/step - loss: 0.6376 - accuracy: 0.7500 - val_loss: 0.5055 - val_accuracy: 0.7500\n",
      "Epoch 11/50\n",
      "2/2 [==============================] - 0s 11ms/step - loss: 0.5610 - accuracy: 0.7500 - val_loss: 0.5429 - val_accuracy: 0.7500\n",
      "Epoch 12/50\n",
      "2/2 [==============================] - 0s 10ms/step - loss: 0.5511 - accuracy: 0.7500 - val_loss: 0.4951 - val_accuracy: 0.7500\n",
      "Epoch 13/50\n",
      "2/2 [==============================] - 0s 12ms/step - loss: 0.6557 - accuracy: 0.7500 - val_loss: 0.4931 - val_accuracy: 0.7500\n",
      "Epoch 14/50\n",
      "2/2 [==============================] - 0s 10ms/step - loss: 0.5053 - accuracy: 0.7500 - val_loss: 0.4682 - val_accuracy: 0.7500\n",
      "Epoch 15/50\n",
      "2/2 [==============================] - 0s 16ms/step - loss: 0.4996 - accuracy: 0.7500 - val_loss: 0.4565 - val_accuracy: 0.7500\n",
      "Epoch 16/50\n",
      "2/2 [==============================] - 0s 14ms/step - loss: 0.5971 - accuracy: 0.5000 - val_loss: 0.8403 - val_accuracy: 0.5000\n",
      "Epoch 17/50\n",
      "2/2 [==============================] - 0s 16ms/step - loss: 0.8013 - accuracy: 0.5000 - val_loss: 0.4725 - val_accuracy: 0.7500\n",
      "Epoch 18/50\n",
      "2/2 [==============================] - 0s 13ms/step - loss: 0.6301 - accuracy: 0.2500 - val_loss: 0.4528 - val_accuracy: 0.7500\n",
      "Epoch 19/50\n",
      "2/2 [==============================] - 0s 15ms/step - loss: 0.6051 - accuracy: 0.7500 - val_loss: 0.4614 - val_accuracy: 0.7500\n",
      "Epoch 20/50\n",
      "2/2 [==============================] - 0s 11ms/step - loss: 0.5515 - accuracy: 0.7500 - val_loss: 0.4306 - val_accuracy: 0.7500\n",
      "Epoch 21/50\n",
      "2/2 [==============================] - 0s 13ms/step - loss: 0.5622 - accuracy: 0.7500 - val_loss: 0.4643 - val_accuracy: 0.7500\n",
      "Epoch 22/50\n",
      "2/2 [==============================] - 0s 17ms/step - loss: 0.4981 - accuracy: 0.7500 - val_loss: 0.4364 - val_accuracy: 0.7500\n",
      "Epoch 23/50\n",
      "2/2 [==============================] - 0s 12ms/step - loss: 0.5593 - accuracy: 0.5000 - val_loss: 0.4080 - val_accuracy: 0.7500\n",
      "Epoch 24/50\n",
      "2/2 [==============================] - 0s 12ms/step - loss: 0.4637 - accuracy: 0.7500 - val_loss: 0.4088 - val_accuracy: 0.7500\n",
      "Epoch 25/50\n",
      "2/2 [==============================] - 0s 11ms/step - loss: 0.4401 - accuracy: 0.7500 - val_loss: 0.4344 - val_accuracy: 0.7500\n",
      "Epoch 26/50\n",
      "2/2 [==============================] - 0s 18ms/step - loss: 0.4756 - accuracy: 0.7500 - val_loss: 0.4016 - val_accuracy: 0.7500\n",
      "Epoch 27/50\n",
      "2/2 [==============================] - 0s 18ms/step - loss: 0.5028 - accuracy: 0.7500 - val_loss: 0.3786 - val_accuracy: 0.7500\n",
      "Epoch 28/50\n",
      "2/2 [==============================] - 0s 14ms/step - loss: 0.4708 - accuracy: 0.5000 - val_loss: 0.3681 - val_accuracy: 0.7500\n",
      "Epoch 29/50\n",
      "2/2 [==============================] - 0s 14ms/step - loss: 0.4508 - accuracy: 0.5000 - val_loss: 0.3785 - val_accuracy: 0.7500\n",
      "Epoch 30/50\n",
      "2/2 [==============================] - 0s 11ms/step - loss: 0.4681 - accuracy: 0.7500 - val_loss: 0.4428 - val_accuracy: 0.7500\n",
      "Epoch 31/50\n",
      "2/2 [==============================] - 0s 10ms/step - loss: 0.5694 - accuracy: 0.7500 - val_loss: 0.3700 - val_accuracy: 0.7500\n",
      "Epoch 32/50\n",
      "2/2 [==============================] - 0s 19ms/step - loss: 0.4569 - accuracy: 0.5000 - val_loss: 0.3635 - val_accuracy: 0.7500\n",
      "Epoch 33/50\n",
      "2/2 [==============================] - 0s 14ms/step - loss: 0.3642 - accuracy: 0.7500 - val_loss: 0.3580 - val_accuracy: 0.7500\n",
      "Epoch 34/50\n",
      "2/2 [==============================] - 0s 11ms/step - loss: 0.4224 - accuracy: 0.7500 - val_loss: 0.3557 - val_accuracy: 0.7500\n",
      "Epoch 35/50\n",
      "2/2 [==============================] - 0s 25ms/step - loss: 0.4226 - accuracy: 0.5000 - val_loss: 0.3564 - val_accuracy: 0.7500\n",
      "Epoch 36/50\n",
      "2/2 [==============================] - 0s 13ms/step - loss: 0.3562 - accuracy: 0.7500 - val_loss: 0.3542 - val_accuracy: 0.7500\n",
      "Epoch 37/50\n",
      "2/2 [==============================] - 0s 12ms/step - loss: 0.3554 - accuracy: 0.7500 - val_loss: 0.3778 - val_accuracy: 0.7500\n",
      "Epoch 38/50\n",
      "2/2 [==============================] - 0s 18ms/step - loss: 0.4732 - accuracy: 0.5000 - val_loss: 0.3697 - val_accuracy: 0.7500\n",
      "Epoch 39/50\n",
      "2/2 [==============================] - 0s 12ms/step - loss: 0.4253 - accuracy: 0.7500 - val_loss: 0.3554 - val_accuracy: 0.7500\n",
      "Epoch 40/50\n",
      "2/2 [==============================] - 0s 17ms/step - loss: 0.4316 - accuracy: 0.7500 - val_loss: 0.3552 - val_accuracy: 0.7500\n",
      "Epoch 41/50\n",
      "2/2 [==============================] - 0s 11ms/step - loss: 0.4314 - accuracy: 0.5000 - val_loss: 0.3554 - val_accuracy: 0.7500\n",
      "Epoch 42/50\n",
      "2/2 [==============================] - 0s 14ms/step - loss: 0.4197 - accuracy: 0.7500 - val_loss: 0.3518 - val_accuracy: 0.7500\n",
      "Epoch 43/50\n",
      "2/2 [==============================] - 0s 11ms/step - loss: 0.4196 - accuracy: 0.5000 - val_loss: 0.3525 - val_accuracy: 0.7500\n",
      "Epoch 44/50\n",
      "2/2 [==============================] - 0s 15ms/step - loss: 0.3527 - accuracy: 0.7500 - val_loss: 0.3513 - val_accuracy: 0.7500\n",
      "Epoch 45/50\n",
      "2/2 [==============================] - 0s 13ms/step - loss: 0.3513 - accuracy: 0.7500 - val_loss: 0.3507 - val_accuracy: 0.7500\n",
      "Epoch 46/50\n",
      "2/2 [==============================] - 0s 10ms/step - loss: 0.4188 - accuracy: 0.7500 - val_loss: 0.3512 - val_accuracy: 0.7500\n",
      "Epoch 47/50\n",
      "2/2 [==============================] - 0s 12ms/step - loss: 0.3511 - accuracy: 0.7500 - val_loss: 0.3503 - val_accuracy: 0.7500\n",
      "Epoch 48/50\n",
      "2/2 [==============================] - 0s 11ms/step - loss: 0.4227 - accuracy: 0.7500 - val_loss: 0.3505 - val_accuracy: 0.7500\n",
      "Epoch 49/50\n",
      "2/2 [==============================] - 0s 11ms/step - loss: 0.4237 - accuracy: 0.5000 - val_loss: 0.3519 - val_accuracy: 0.7500\n",
      "Epoch 50/50\n",
      "2/2 [==============================] - 0s 13ms/step - loss: 0.3519 - accuracy: 0.7500 - val_loss: 0.3500 - val_accuracy: 0.7500\n"
     ]
    }
   ],
   "source": [
    "history = nonlinear_model.fit(xor_input, xor_output, batch_size=2, epochs=50,\n",
    "                    validation_data=(xor_input, xor_output))\n"
   ]
  },
  {
   "cell_type": "code",
   "execution_count": 44,
   "metadata": {},
   "outputs": [
    {
     "data": {
      "text/plain": [
       "{'verbose': 1, 'epochs': 50, 'steps': 2}"
      ]
     },
     "execution_count": 44,
     "metadata": {},
     "output_type": "execute_result"
    }
   ],
   "source": [
    "history.params"
   ]
  },
  {
   "cell_type": "code",
   "execution_count": 45,
   "metadata": {},
   "outputs": [
    {
     "name": "stdout",
     "output_type": "stream",
     "text": [
      "[0, 1, 2, 3, 4, 5, 6, 7, 8, 9, 10, 11, 12, 13, 14, 15, 16, 17, 18, 19, 20, 21, 22, 23, 24, 25, 26, 27, 28, 29, 30, 31, 32, 33, 34, 35, 36, 37, 38, 39, 40, 41, 42, 43, 44, 45, 46, 47, 48, 49]\n"
     ]
    }
   ],
   "source": [
    "print(history.epoch)"
   ]
  },
  {
   "cell_type": "code",
   "execution_count": 46,
   "metadata": {},
   "outputs": [
    {
     "data": {
      "text/plain": [
       "dict_keys(['loss', 'accuracy', 'val_loss', 'val_accuracy'])"
      ]
     },
     "execution_count": 46,
     "metadata": {},
     "output_type": "execute_result"
    }
   ],
   "source": [
    "history.history.keys()"
   ]
  },
  {
   "cell_type": "markdown",
   "metadata": {},
   "source": [
    "Finally, let's plot the changes across all epochs:"
   ]
  },
  {
   "cell_type": "code",
   "execution_count": 47,
   "metadata": {},
   "outputs": [
    {
     "data": {
      "image/png": "[encoded data removed]",
      "text/plain": [
       "<Figure size 576x360 with 1 Axes>"
      ]
     },
     "metadata": {
      "needs_background": "light"
     },
     "output_type": "display_data"
    }
   ],
   "source": [
    "import pandas as pd\n",
    "\n",
    "pd.DataFrame(history.history).plot(figsize=(8, 5))\n",
    "plt.grid(True)\n",
    "plt.gca().set_ylim(0, 1)\n",
    "plt.show()"
   ]
  },
  {
   "cell_type": "markdown",
   "metadata": {},
   "source": [
    "# Case of regression\n",
    "\n",
    "Finally, you can address not only classification but also regression tasks with `TensorFlow`. Let's look at a short example here.\n",
    "\n",
    "In Practical 1 you have been using a custom version of the California housing dataset (refer to the Practical 1 to see what differences were introduced in the original data). The original version is [accessible via `sklearn`](https://scikit-learn.org/stable/modules/generated/sklearn.datasets.fetch_california_housing.html), and the code below shows how to access a dataset from `sklearn` (in fact, `sklearn` provides access to a number of useful ML datasets, so take a look at the [documentation](https://scikit-learn.org/stable/datasets/index.html)):"
   ]
  },
  {
   "cell_type": "code",
   "execution_count": 48,
   "metadata": {},
   "outputs": [],
   "source": [
    "np.random.seed(42)\n",
    "tf.random.set_seed(42)\n",
    "from sklearn.datasets import fetch_california_housing\n",
    "\n",
    "housing = fetch_california_housing()"
   ]
  },
  {
   "cell_type": "markdown",
   "metadata": {},
   "source": [
    "Now let't split the dataset into training, validation, and test sets. Note that you can access the data from the dataset with `housing.data`, and the labels with `housing.target`:"
   ]
  },
  {
   "cell_type": "code",
   "execution_count": 49,
   "metadata": {},
   "outputs": [],
   "source": [
    "from sklearn.model_selection import train_test_split\n",
    "\n",
    "X_train_full, X_test, y_train_full, y_test = train_test_split(housing.data, housing.target, random_state=42)\n",
    "X_train, X_valid, y_train, y_valid = train_test_split(X_train_full, y_train_full, random_state=42)"
   ]
  },
  {
   "cell_type": "markdown",
   "metadata": {},
   "source": [
    "And scale the data using standardisation:"
   ]
  },
  {
   "cell_type": "code",
   "execution_count": 50,
   "metadata": {},
   "outputs": [],
   "source": [
    "from sklearn.preprocessing import StandardScaler\n",
    "\n",
    "scaler = StandardScaler()\n",
    "X_train = scaler.fit_transform(X_train)\n",
    "X_valid = scaler.transform(X_valid)\n",
    "X_test = scaler.transform(X_test)"
   ]
  },
  {
   "cell_type": "markdown",
   "metadata": {},
   "source": [
    "The code below shows to you how to implement a regression model using `TensorFlow`. It is quite similar to the code for classification with minor difference: the loss function that you use here is mean squared error, and the output is a single predicted value thus the dimensionality of the output layer."
   ]
  },
  {
   "cell_type": "code",
   "execution_count": 51,
   "metadata": {},
   "outputs": [
    {
     "name": "stdout",
     "output_type": "stream",
     "text": [
      "Epoch 1/20\n",
      "363/363 [==============================] - 1s 2ms/step - loss: 1.6419 - val_loss: 0.8560\n",
      "Epoch 2/20\n",
      "363/363 [==============================] - 0s 1ms/step - loss: 0.7047 - val_loss: 0.6531\n",
      "Epoch 3/20\n",
      "363/363 [==============================] - 0s 1ms/step - loss: 0.6345 - val_loss: 0.6099\n",
      "Epoch 4/20\n",
      "363/363 [==============================] - 1s 1ms/step - loss: 0.5977 - val_loss: 0.5658\n",
      "Epoch 5/20\n",
      "363/363 [==============================] - 1s 1ms/step - loss: 0.5706 - val_loss: 0.5355\n",
      "Epoch 6/20\n",
      "363/363 [==============================] - 1s 2ms/step - loss: 0.5472 - val_loss: 0.5173\n",
      "Epoch 7/20\n",
      "363/363 [==============================] - 1s 1ms/step - loss: 0.5288 - val_loss: 0.5081\n",
      "Epoch 8/20\n",
      "363/363 [==============================] - 0s 1ms/step - loss: 0.5130 - val_loss: 0.4799\n",
      "Epoch 9/20\n",
      "363/363 [==============================] - 0s 1ms/step - loss: 0.4992 - val_loss: 0.4690\n",
      "Epoch 10/20\n",
      "363/363 [==============================] - 0s 1ms/step - loss: 0.4875 - val_loss: 0.4656\n",
      "Epoch 11/20\n",
      "363/363 [==============================] - 0s 1ms/step - loss: 0.4777 - val_loss: 0.4482\n",
      "Epoch 12/20\n",
      "363/363 [==============================] - 0s 1ms/step - loss: 0.4688 - val_loss: 0.4479\n",
      "Epoch 13/20\n",
      "363/363 [==============================] - 0s 1ms/step - loss: 0.4615 - val_loss: 0.4296\n",
      "Epoch 14/20\n",
      "363/363 [==============================] - 0s 1ms/step - loss: 0.4547 - val_loss: 0.4233\n",
      "Epoch 15/20\n",
      "363/363 [==============================] - 0s 1ms/step - loss: 0.4488 - val_loss: 0.4176\n",
      "Epoch 16/20\n",
      "363/363 [==============================] - 0s 1ms/step - loss: 0.4435 - val_loss: 0.4123\n",
      "Epoch 17/20\n",
      "363/363 [==============================] - 0s 1ms/step - loss: 0.4389 - val_loss: 0.4071\n",
      "Epoch 18/20\n",
      "363/363 [==============================] - 0s 1ms/step - loss: 0.4347 - val_loss: 0.4037\n",
      "Epoch 19/20\n",
      "363/363 [==============================] - 0s 1ms/step - loss: 0.4306 - val_loss: 0.4000\n",
      "Epoch 20/20\n",
      "363/363 [==============================] - 0s 1ms/step - loss: 0.4273 - val_loss: 0.3969\n",
      "162/162 [==============================] - 0s 848us/step - loss: 0.4212\n"
     ]
    }
   ],
   "source": [
    "reg_model = tf.keras.models.Sequential([\n",
    "    tf.keras.layers.Dense(30, activation=\"relu\", input_shape=X_train.shape[1:]),\n",
    "    tf.keras.layers.Dense(1)\n",
    "])\n",
    "\n",
    "reg_model.compile(loss=\"mean_squared_error\", optimizer=tf.keras.optimizers.SGD(lr=1e-3))\n",
    "history = reg_model.fit(X_train, y_train, epochs=20, validation_data=(X_valid, y_valid))\n",
    "mse_test = reg_model.evaluate(X_test, y_test)"
   ]
  },
  {
   "cell_type": "markdown",
   "metadata": {},
   "source": [
    "Now let's plot the results:"
   ]
  },
  {
   "cell_type": "code",
   "execution_count": 52,
   "metadata": {},
   "outputs": [
    {
     "data": {
      "image/png": "[encoded data removed]",
      "text/plain": [
       "<Figure size 432x288 with 1 Axes>"
      ]
     },
     "metadata": {
      "needs_background": "light"
     },
     "output_type": "display_data"
    }
   ],
   "source": [
    "plt.plot(pd.DataFrame(history.history))\n",
    "plt.grid(True)\n",
    "plt.gca().set_ylim(0, 1)\n",
    "plt.show()"
   ]
  },
  {
   "cell_type": "markdown",
   "metadata": {},
   "source": [
    "Finally, you can also explore model's predictions on some selected datapoints and compare them to the true values for these datapoints:"
   ]
  },
  {
   "cell_type": "code",
   "execution_count": 53,
   "metadata": {},
   "outputs": [
    {
     "data": {
      "text/plain": [
       "array([[0.3885664],\n",
       "       [1.6792021],\n",
       "       [3.1022797]], dtype=float32)"
      ]
     },
     "execution_count": 53,
     "metadata": {},
     "output_type": "execute_result"
    }
   ],
   "source": [
    "X_new = X_test[:3]\n",
    "y_pred = reg_model.predict(X_new)\n",
    "\n",
    "y_pred"
   ]
  },
  {
   "cell_type": "code",
   "execution_count": 54,
   "metadata": {},
   "outputs": [
    {
     "data": {
      "text/plain": [
       "array([0.477  , 0.458  , 5.00001])"
      ]
     },
     "execution_count": 54,
     "metadata": {},
     "output_type": "execute_result"
    }
   ],
   "source": [
    "y_test[:3]"
   ]
  },
  {
   "cell_type": "markdown",
   "metadata": {},
   "source": [
    "# Assignment: Classification of House Locations\n",
    "\n",
    "In the first practical, you used the California House Prices Dataset in order to predict the prices of the houses based on various properties about the houses. In this assignment, we will experiment with `TensorFlow` and train a model to predict the \"ocean proximity\" of a house.\n",
    "\n",
    "First, let's read in the dataset:"
   ]
  },
  {
   "cell_type": "code",
   "execution_count": 55,
   "metadata": {},
   "outputs": [
    {
     "data": {
      "text/html": [
       "<div>\n",
       "<style scoped>\n",
       "    .dataframe tbody tr th:only-of-type {\n",
       "        vertical-align: middle;\n",
       "    }\n",
       "\n",
       "    .dataframe tbody tr th {\n",
       "        vertical-align: top;\n",
       "    }\n",
       "\n",
       "    .dataframe thead th {\n",
       "        text-align: right;\n",
       "    }\n",
       "</style>\n",
       "<table border=\"1\" class=\"dataframe\">\n",
       "  <thead>\n",
       "    <tr style=\"text-align: right;\">\n",
       "      <th></th>\n",
       "      <th>longitude</th>\n",
       "      <th>latitude</th>\n",
       "      <th>housing_median_age</th>\n",
       "      <th>total_rooms</th>\n",
       "      <th>total_bedrooms</th>\n",
       "      <th>population</th>\n",
       "      <th>households</th>\n",
       "      <th>median_income</th>\n",
       "      <th>median_house_value</th>\n",
       "      <th>ocean_proximity</th>\n",
       "    </tr>\n",
       "  </thead>\n",
       "  <tbody>\n",
       "    <tr>\n",
       "      <th>0</th>\n",
       "      <td>-122.23</td>\n",
       "      <td>37.88</td>\n",
       "      <td>41.0</td>\n",
       "      <td>880.0</td>\n",
       "      <td>129.0</td>\n",
       "      <td>322.0</td>\n",
       "      <td>126.0</td>\n",
       "      <td>8.3252</td>\n",
       "      <td>452600.0</td>\n",
       "      <td>NEAR BAY</td>\n",
       "    </tr>\n",
       "    <tr>\n",
       "      <th>1</th>\n",
       "      <td>-122.22</td>\n",
       "      <td>37.86</td>\n",
       "      <td>21.0</td>\n",
       "      <td>7099.0</td>\n",
       "      <td>1106.0</td>\n",
       "      <td>2401.0</td>\n",
       "      <td>1138.0</td>\n",
       "      <td>8.3014</td>\n",
       "      <td>358500.0</td>\n",
       "      <td>NEAR BAY</td>\n",
       "    </tr>\n",
       "    <tr>\n",
       "      <th>2</th>\n",
       "      <td>-122.24</td>\n",
       "      <td>37.85</td>\n",
       "      <td>52.0</td>\n",
       "      <td>1467.0</td>\n",
       "      <td>190.0</td>\n",
       "      <td>496.0</td>\n",
       "      <td>177.0</td>\n",
       "      <td>7.2574</td>\n",
       "      <td>352100.0</td>\n",
       "      <td>NEAR BAY</td>\n",
       "    </tr>\n",
       "    <tr>\n",
       "      <th>3</th>\n",
       "      <td>-122.25</td>\n",
       "      <td>37.85</td>\n",
       "      <td>52.0</td>\n",
       "      <td>1274.0</td>\n",
       "      <td>235.0</td>\n",
       "      <td>558.0</td>\n",
       "      <td>219.0</td>\n",
       "      <td>5.6431</td>\n",
       "      <td>341300.0</td>\n",
       "      <td>NEAR BAY</td>\n",
       "    </tr>\n",
       "    <tr>\n",
       "      <th>4</th>\n",
       "      <td>-122.25</td>\n",
       "      <td>37.85</td>\n",
       "      <td>52.0</td>\n",
       "      <td>1627.0</td>\n",
       "      <td>280.0</td>\n",
       "      <td>565.0</td>\n",
       "      <td>259.0</td>\n",
       "      <td>3.8462</td>\n",
       "      <td>342200.0</td>\n",
       "      <td>NEAR BAY</td>\n",
       "    </tr>\n",
       "  </tbody>\n",
       "</table>\n",
       "</div>"
      ],
      "text/plain": [
       "   longitude  latitude  housing_median_age  total_rooms  total_bedrooms  \\\n",
       "0    -122.23     37.88                41.0        880.0           129.0   \n",
       "1    -122.22     37.86                21.0       7099.0          1106.0   \n",
       "2    -122.24     37.85                52.0       1467.0           190.0   \n",
       "3    -122.25     37.85                52.0       1274.0           235.0   \n",
       "4    -122.25     37.85                52.0       1627.0           280.0   \n",
       "\n",
       "   population  households  median_income  median_house_value ocean_proximity  \n",
       "0       322.0       126.0         8.3252            452600.0        NEAR BAY  \n",
       "1      2401.0      1138.0         8.3014            358500.0        NEAR BAY  \n",
       "2       496.0       177.0         7.2574            352100.0        NEAR BAY  \n",
       "3       558.0       219.0         5.6431            341300.0        NEAR BAY  \n",
       "4       565.0       259.0         3.8462            342200.0        NEAR BAY  "
      ]
     },
     "execution_count": 55,
     "metadata": {},
     "output_type": "execute_result"
    }
   ],
   "source": [
    "import pandas as pd\n",
    "data = pd.read_csv('housing/housing.csv')\n",
    "data.head()"
   ]
  },
  {
   "cell_type": "markdown",
   "metadata": {},
   "source": [
    "Next, we split the ocean proximity column from the other features and convert the values to numerical IDs. Remember, the `ocean_proximity` column already contains discrete classes, so it is well-suited for the classification task. However, these are strings and in order to optimise the softmax function in `TensorFlow`, we need numerical IDs instead of strings. We can use the `pandas` map function to do the conversion:"
   ]
  },
  {
   "cell_type": "code",
   "execution_count": 56,
   "metadata": {},
   "outputs": [],
   "source": [
    "X = data.copy().drop([\"ocean_proximity\"], axis=1)\n",
    "Y = data.copy()[\"ocean_proximity\"]\n",
    "Y = data.copy()[\"ocean_proximity\"].map({\"<1H OCEAN\":0, \"INLAND\":1, \"ISLAND\": 2, \"NEAR BAY\": 3, \"NEAR OCEAN\": 4}).values"
   ]
  },
  {
   "cell_type": "markdown",
   "metadata": {},
   "source": [
    "Now, let's split off some data for development and testing:\n"
   ]
  },
  {
   "cell_type": "code",
   "execution_count": 57,
   "metadata": {},
   "outputs": [],
   "source": [
    "from sklearn.model_selection import train_test_split\n",
    "\n",
    "X_train, X_test, y_train, y_test = train_test_split(X, Y, test_size=0.2, train_size=0.8, random_state=42)\n",
    "X_train, X_dev, y_train, y_dev = train_test_split(X_train, y_train, test_size=0.2, train_size=0.8, random_state=42)"
   ]
  },
  {
   "cell_type": "markdown",
   "metadata": {},
   "source": [
    "And finally, let's preprocess the input features before giving them to the network. We need to fill in missing values with the imputer, and standardise the values to a similar range using the scaler:"
   ]
  },
  {
   "cell_type": "code",
   "execution_count": 58,
   "metadata": {},
   "outputs": [],
   "source": [
    "from sklearn.impute import SimpleImputer \n",
    "from sklearn import preprocessing\n",
    "\n",
    "imputer = SimpleImputer(strategy=\"median\")\n",
    "imputer.fit(X_train)\n",
    "\n",
    "X_train = imputer.transform(X_train)\n",
    "X_dev = imputer.transform(X_dev)\n",
    "X_test = imputer.transform(X_test)\n",
    "\n",
    "scaler = preprocessing.StandardScaler().fit(X_train)\n",
    "\n",
    "X_train = scaler.transform(X_train)\n",
    "X_dev = scaler.transform(X_dev)\n",
    "X_test = scaler.transform(X_test)"
   ]
  },
  {
   "cell_type": "markdown",
   "metadata": {},
   "source": [
    "We now have a dataset that we can work with.\n",
    "\n",
    "Input features:"
   ]
  },
  {
   "cell_type": "code",
   "execution_count": 59,
   "metadata": {},
   "outputs": [
    {
     "name": "stdout",
     "output_type": "stream",
     "text": [
      "(13209, 9)\n",
      "(3303, 9)\n",
      "(4128, 9)\n",
      "[[-0.69155432  1.10281811 -0.12449485 -0.44361185 -0.60289408 -0.48710064\n",
      "  -0.64120663  0.44340968 -0.25873131]\n",
      " [ 0.8544348  -0.72493883 -1.07770852  1.75575918  1.99734983  1.69902706\n",
      "   2.04218568  0.00321001 -0.28999612]\n",
      " [ 0.86440892 -0.88428174 -0.20392932 -0.15088981 -0.02963101 -0.13535041\n",
      "  -0.16516379 -0.52181236 -0.01729749]]\n"
     ]
    }
   ],
   "source": [
    "print(X_train.shape)\n",
    "print(X_dev.shape)\n",
    "print(X_test.shape)\n",
    "print(X_train[:3])"
   ]
  },
  {
   "cell_type": "markdown",
   "metadata": {},
   "source": [
    "And the correstponding gold-standard labels:"
   ]
  },
  {
   "cell_type": "code",
   "execution_count": 60,
   "metadata": {},
   "outputs": [
    {
     "name": "stdout",
     "output_type": "stream",
     "text": [
      "(13209,)\n",
      "(3303,)\n",
      "(4128,)\n",
      "[1 0 0 4 1 1 3 0 0 0]\n"
     ]
    }
   ],
   "source": [
    "print(y_train.shape)\n",
    "print(y_dev.shape)\n",
    "print(y_test.shape)\n",
    "print(y_train[:10])"
   ]
  },
  {
   "cell_type": "markdown",
   "metadata": {},
   "source": [
    "Based on the code examples above, construct a `TensorFlow` model, then train, tune and test it on this dataset. Experiment with different model settings and hyperparameters. Calculate and evaluate classification accuracy - the percentage of datapoints where the predicted class matches the gold-standard class.\n",
    "\n",
    "During the practical session, give examples of what you tried and what your findings were.\n",
    "\n",
    "Some suggestions and tips:\n",
    "\n",
    "- The XOR classification code can be a good place to start.\n",
    "- The output layer needs to have size 5, because the dataset has 5 possible classes.\n",
    "- Try testing on the development set as you are training, to make sure you don't overfit.\n",
    "- Evaluate on the dev set as much as you want, but evaluate on the test set only after you have chosen a good set of hyperparameters.\n",
    "- You could try different learning rates, hidden layer sizes, learning strategies, etc.\n",
    "- Adaptive learning rates can (and sometimes should) be used together with a regular hand-picked learning rate, and different adaptive learning rates can prefer very different regular learning rates.\n",
    "\n",
    "There are a number of additional (optional) steps that you can try: you can visualise your network architecture, changes in loss and metrics, print out and visualise confusion matrices, implement \"traditional\" machine learning algorithms (e.g., from Practicals 2 and 3) and compare the results, etc. "
   ]
  },
  {
   "cell_type": "markdown",
   "metadata": {},
   "source": [
    "-----------------------------------\n",
    "### Using the cross entropy to calculate loss\n",
    "\n",
    "By minimising cross entropy, we can find the maximum likelihood model, which assigns high values for the correct label."
   ]
  },
  {
   "cell_type": "code",
   "execution_count": 67,
   "metadata": {},
   "outputs": [
    {
     "name": "stdout",
     "output_type": "stream",
     "text": [
      "after 10 epochs:\n",
      "[[0.2436849  0.48663515 0.02963637 0.15808357 0.08196001]\n",
      " [0.49585435 0.2913127  0.02042698 0.02277897 0.16962703]\n",
      " [0.7171913  0.11084531 0.0116559  0.02250811 0.13779943]\n",
      " ...\n",
      " [0.75905466 0.09727284 0.00679093 0.01272426 0.12415734]\n",
      " [0.46301496 0.37890914 0.01410841 0.03852942 0.10543816]\n",
      " [0.67528015 0.15069182 0.01441184 0.04063598 0.1189802 ]]\n",
      "after 20 epochs:\n",
      "[[0.19296812 0.6310686  0.01369122 0.10480621 0.0574659 ]\n",
      " [0.47461477 0.31887212 0.01021128 0.0079486  0.18835327]\n",
      " [0.73953396 0.07135575 0.00466418 0.00781863 0.17662738]\n",
      " ...\n",
      " [0.75037664 0.06767922 0.00244193 0.00353314 0.17596912]\n",
      " [0.4324066  0.4328259  0.00647986 0.01516142 0.1131262 ]\n",
      " [0.71956366 0.10605093 0.0070867  0.01810476 0.1491939 ]]\n",
      "after 30 epochs:\n",
      "[[0.11367211 0.7805441  0.00833973 0.06432071 0.03312332]\n",
      " [0.48470506 0.31327468 0.00703854 0.00512913 0.18985267]\n",
      " [0.74275064 0.05451585 0.00258699 0.00397705 0.1961694 ]\n",
      " ...\n",
      " [0.7404459  0.0549388  0.00140121 0.00178594 0.20142812]\n",
      " [0.42346618 0.45055962 0.00346526 0.00701445 0.11549454]\n",
      " [0.7569576  0.07276493 0.0041809  0.00948079 0.15661581]]\n",
      "after 40 epochs:\n",
      "[[7.3957823e-02 8.5827035e-01 5.8772429e-03 4.2095695e-02 1.9798903e-02]\n",
      " [3.5585010e-01 5.0269741e-01 3.6647180e-03 3.0518095e-03 1.3473597e-01]\n",
      " [7.2107518e-01 4.9137801e-02 1.6731900e-03 2.2284088e-03 2.2588547e-01]\n",
      " ...\n",
      " [7.1150851e-01 5.0285190e-02 8.3261909e-04 8.8008208e-04 2.3649362e-01]\n",
      " [4.3610990e-01 4.2660946e-01 1.9458067e-03 3.3802928e-03 1.3195452e-01]\n",
      " [7.9613155e-01 4.4382710e-02 2.5299981e-03 4.9911779e-03 1.5196447e-01]]\n",
      "after 50 epochs:\n",
      "[[5.6856897e-02 8.9367729e-01 4.5932508e-03 3.2084718e-02 1.2787926e-02]\n",
      " [2.6477647e-01 6.3892210e-01 2.0084386e-03 2.4889559e-03 9.1804095e-02]\n",
      " [6.9358563e-01 4.7963366e-02 1.2356843e-03 1.4412088e-03 2.5577417e-01]\n",
      " ...\n",
      " [6.7667460e-01 4.4948399e-02 5.5561203e-04 5.2073557e-04 2.7730066e-01]\n",
      " [4.4754076e-01 4.0375903e-01 1.2556840e-03 1.8554258e-03 1.4558920e-01]\n",
      " [8.0293113e-01 3.6892630e-02 1.5638258e-03 2.4796480e-03 1.5613276e-01]]\n"
     ]
    }
   ],
   "source": [
    "tf.keras.backend.clear_session\n",
    "\n",
    "nonlinear_model = tf.keras.Sequential([\n",
    "    tf.keras.layers.Dense(9, input_shape=(9,), activation='relu'),\n",
    "    tf.keras.layers.Dense(5, activation='softmax')\n",
    "])\n",
    "\n",
    "nonlinear_model.compile(optimizer=tf.keras.optimizers.SGD(learning_rate=1),\n",
    "                        loss='sparse_categorical_crossentropy')\n",
    "\n",
    "for epoch in range(50):\n",
    "    nonlinear_model.train_on_batch(X_train, y_train)\n",
    "    if (epoch + 1) % 10 == 0:\n",
    "        print('after {} epochs:'.format(epoch+1), nonlinear_model(X_train).numpy(), sep='\\n')"
   ]
  },
  {
   "cell_type": "markdown",
   "metadata": {},
   "source": [
    "### Convert these probabilities into class predictions and also report its accuracy.\n",
    "\n",
    "Accuracy is increasing in as epoch number increase. This shows that we have not reach the minima yet, and didn't jumped over it as well. "
   ]
  },
  {
   "cell_type": "code",
   "execution_count": 69,
   "metadata": {},
   "outputs": [
    {
     "name": "stdout",
     "output_type": "stream",
     "text": [
      "\n",
      "After 10 epochs:\n",
      "413/413 - 0s - loss: 1.4736 - accuracy: 0.5567\n",
      "\n",
      "Accuracy: 0.5566658973693848\n",
      "\n",
      "\n",
      "\n",
      "After 20 epochs:\n",
      "413/413 - 0s - loss: 1.3419 - accuracy: 0.5882\n",
      "\n",
      "Accuracy: 0.5881595611572266\n",
      "\n",
      "\n",
      "\n",
      "After 30 epochs:\n",
      "413/413 - 0s - loss: 1.3013 - accuracy: 0.6064\n",
      "\n",
      "Accuracy: 0.606404721736908\n",
      "\n",
      "\n"
     ]
    }
   ],
   "source": [
    "tf.keras.backend.clear_session\n",
    "\n",
    "nonlinear_model = tf.keras.Sequential([\n",
    "    tf.keras.layers.Dense(9, input_shape=(9,), activation='relu'),\n",
    "    tf.keras.layers.Dense(5, activation='softmax')\n",
    "])\n",
    "\n",
    "nonlinear_model.compile(optimizer=tf.keras.optimizers.SGD(learning_rate=1),\n",
    "              loss=tf.keras.losses.SparseCategoricalCrossentropy(from_logits=True),\n",
    "              metrics=['accuracy'])\n",
    "\n",
    "for epoch in range(30):\n",
    "    nonlinear_model.train_on_batch(X_train, y_train)\n",
    "    predictions = nonlinear_model.predict(X_train)\n",
    "    result = tf.argmax(predictions, axis=1)\n",
    "    \n",
    "    if (epoch + 1) % 10 == 0:\n",
    "        print('\\nAfter {} epochs:'.format(epoch+1))\n",
    "        test_loss, test_acc = nonlinear_model.evaluate(X_train, y_train, verbose=2)\n",
    "        print('\\nAccuracy:', test_acc)\n",
    "        print('\\n')\n",
    "        "
   ]
  },
  {
   "cell_type": "markdown",
   "metadata": {},
   "source": [
    "### Using minibatching\n",
    "- better than stochastic approach, which determines the gradient based on 1 data point only.\n",
    "- more efficient than using all the data points to determine the gradient."
   ]
  },
  {
   "cell_type": "code",
   "execution_count": 70,
   "metadata": {
    "scrolled": true
   },
   "outputs": [
    {
     "name": "stdout",
     "output_type": "stream",
     "text": [
      "Epoch 1/20\n",
      "27/27 [==============================] - 0s 1ms/step - loss: 0.8583\n",
      "Epoch 2/20\n",
      "27/27 [==============================] - 0s 1ms/step - loss: 0.6574\n",
      "Epoch 3/20\n",
      "27/27 [==============================] - 0s 2ms/step - loss: 0.5738\n",
      "Epoch 4/20\n",
      "27/27 [==============================] - 0s 1ms/step - loss: 0.5532\n",
      "Epoch 5/20\n",
      "27/27 [==============================] - 0s 1ms/step - loss: 0.5204\n",
      "Epoch 6/20\n",
      "27/27 [==============================] - 0s 1ms/step - loss: 0.4744\n",
      "Epoch 7/20\n",
      "27/27 [==============================] - 0s 2ms/step - loss: 0.4686\n",
      "Epoch 8/20\n",
      "27/27 [==============================] - 0s 1ms/step - loss: 0.4994\n",
      "Epoch 9/20\n",
      "27/27 [==============================] - 0s 2ms/step - loss: 0.4550\n",
      "Epoch 10/20\n",
      "27/27 [==============================] - 0s 1ms/step - loss: 0.4543\n",
      "Epoch 11/20\n",
      "27/27 [==============================] - 0s 2ms/step - loss: 0.4083\n",
      "Epoch 12/20\n",
      "27/27 [==============================] - 0s 1ms/step - loss: 0.4418\n",
      "Epoch 13/20\n",
      "27/27 [==============================] - 0s 1ms/step - loss: 0.3971\n",
      "Epoch 14/20\n",
      "27/27 [==============================] - 0s 2ms/step - loss: 0.4197\n",
      "Epoch 15/20\n",
      "27/27 [==============================] - 0s 1ms/step - loss: 0.4121\n",
      "Epoch 16/20\n",
      "27/27 [==============================] - 0s 2ms/step - loss: 0.4015\n",
      "Epoch 17/20\n",
      "27/27 [==============================] - 0s 2ms/step - loss: 0.3987\n",
      "Epoch 18/20\n",
      "27/27 [==============================] - 0s 2ms/step - loss: 0.4290\n",
      "Epoch 19/20\n",
      "27/27 [==============================] - 0s 2ms/step - loss: 0.3796\n",
      "Epoch 20/20\n",
      "27/27 [==============================] - 0s 2ms/step - loss: 0.3677\n",
      "413/413 [==============================] - 0s 953us/step - loss: 0.4424\n",
      "final loss: 0.44243189692497253\n",
      "final predictions:\n",
      "[[8.8502966e-06 9.9998927e-01 7.1163270e-11 1.8553335e-06 2.5692006e-11]\n",
      " [9.6485192e-01 6.9947545e-03 1.1157383e-03 4.6118917e-03 2.2425681e-02]\n",
      " [9.4377840e-01 1.2697141e-02 3.4235149e-05 1.1899773e-04 4.3371242e-02]\n",
      " ...\n",
      " [1.5176748e-01 1.4515350e-06 1.8931279e-06 3.4150395e-07 8.4822881e-01]\n",
      " [8.8115132e-01 1.0897486e-01 1.7934961e-05 1.1272406e-04 9.7432006e-03]\n",
      " [9.4793612e-01 5.8052815e-03 2.4416391e-05 8.6736996e-05 4.6147369e-02]]\n"
     ]
    }
   ],
   "source": [
    "tf.keras.backend.clear_session\n",
    "\n",
    "nonlinear_model = tf.keras.Sequential([\n",
    "    tf.keras.layers.Dense(9, input_shape=(9,), activation='relu'),\n",
    "    tf.keras.layers.Dense(5, activation='softmax')\n",
    "])\n",
    "\n",
    "nonlinear_model.compile(optimizer=tf.keras.optimizers.SGD(learning_rate=1),\n",
    "                        loss='sparse_categorical_crossentropy')\n",
    "\n",
    "nonlinear_model.fit(X_train, y_train, batch_size=500, epochs=20)\n",
    "\n",
    "print('final loss:', nonlinear_model.evaluate(X_train, y_train))\n",
    "print('final predictions:', nonlinear_model.predict(X_train), sep='\\n')"
   ]
  },
  {
   "cell_type": "markdown",
   "metadata": {},
   "source": [
    "-----------\n",
    "### Trying different models"
   ]
  },
  {
   "cell_type": "markdown",
   "metadata": {},
   "source": [
    "##### Model 1: 1 hidden layer + relu activation function + large learning rate\n",
    "- loss didn't stablize -> learning rate is too large\n",
    "- Although random seed is fixed, randomness still exists because the order of GPU threads executions is still random. Therefore, the final result will based on the average of differnt random seed:\n",
    "    - random seed (0): loss = 0.2996\n",
    "    - random seed (1): loss = 0.4097\n",
    "    - random seed (2): loss = 1.3094\n",
    "    - final loss: 0.6729"
   ]
  },
  {
   "cell_type": "code",
   "execution_count": 71,
   "metadata": {},
   "outputs": [
    {
     "name": "stdout",
     "output_type": "stream",
     "text": [
      "Epoch 1/40\n",
      "67/67 [==============================] - 0s 2ms/step - loss: 0.7940\n",
      "Epoch 2/40\n",
      "67/67 [==============================] - 0s 1ms/step - loss: 0.5915\n",
      "Epoch 3/40\n",
      "67/67 [==============================] - 0s 1ms/step - loss: 0.5341\n",
      "Epoch 4/40\n",
      "67/67 [==============================] - 0s 2ms/step - loss: 0.5389\n",
      "Epoch 5/40\n",
      "67/67 [==============================] - 0s 1ms/step - loss: 0.4449\n",
      "Epoch 6/40\n",
      "67/67 [==============================] - 0s 2ms/step - loss: 0.4235\n",
      "Epoch 7/40\n",
      "67/67 [==============================] - 0s 1ms/step - loss: 0.4089\n",
      "Epoch 8/40\n",
      "67/67 [==============================] - 0s 2ms/step - loss: 0.3846\n",
      "Epoch 9/40\n",
      "67/67 [==============================] - 0s 1ms/step - loss: 0.4080\n",
      "Epoch 10/40\n",
      "67/67 [==============================] - 0s 2ms/step - loss: 0.3440\n",
      "Epoch 11/40\n",
      "67/67 [==============================] - 0s 1ms/step - loss: 0.5378\n",
      "Epoch 12/40\n",
      "67/67 [==============================] - 0s 1ms/step - loss: 0.3552\n",
      "Epoch 13/40\n",
      "67/67 [==============================] - 0s 1ms/step - loss: 0.4095\n",
      "Epoch 14/40\n",
      "67/67 [==============================] - 0s 1ms/step - loss: 0.3314\n",
      "Epoch 15/40\n",
      "67/67 [==============================] - 0s 1ms/step - loss: 0.3267\n",
      "Epoch 16/40\n",
      "67/67 [==============================] - 0s 1ms/step - loss: 0.3037\n",
      "Epoch 17/40\n",
      "67/67 [==============================] - 0s 1ms/step - loss: 0.3030\n",
      "Epoch 18/40\n",
      "67/67 [==============================] - 0s 2ms/step - loss: 0.3026\n",
      "Epoch 19/40\n",
      "67/67 [==============================] - 0s 1ms/step - loss: 0.3090\n",
      "Epoch 20/40\n",
      "67/67 [==============================] - 0s 1ms/step - loss: 0.2940\n",
      "Epoch 21/40\n",
      "67/67 [==============================] - 0s 1ms/step - loss: 0.2802\n",
      "Epoch 22/40\n",
      "67/67 [==============================] - 0s 1ms/step - loss: 0.2718\n",
      "Epoch 23/40\n",
      "67/67 [==============================] - 0s 1ms/step - loss: 0.2706\n",
      "Epoch 24/40\n",
      "67/67 [==============================] - 0s 1ms/step - loss: 0.3142\n",
      "Epoch 25/40\n",
      "67/67 [==============================] - 0s 1ms/step - loss: 0.3880\n",
      "Epoch 26/40\n",
      "67/67 [==============================] - 0s 1ms/step - loss: 0.2647\n",
      "Epoch 27/40\n",
      "67/67 [==============================] - 0s 1ms/step - loss: 0.2656\n",
      "Epoch 28/40\n",
      "67/67 [==============================] - 0s 1ms/step - loss: 0.2877\n",
      "Epoch 29/40\n",
      "67/67 [==============================] - 0s 1ms/step - loss: 0.3022\n",
      "Epoch 30/40\n",
      "67/67 [==============================] - 0s 1ms/step - loss: 0.2529\n",
      "Epoch 31/40\n",
      "67/67 [==============================] - 0s 2ms/step - loss: 0.2445\n",
      "Epoch 32/40\n",
      "67/67 [==============================] - 0s 1ms/step - loss: 0.2904\n",
      "Epoch 33/40\n",
      "67/67 [==============================] - 0s 1ms/step - loss: 0.2687\n",
      "Epoch 34/40\n",
      "67/67 [==============================] - 0s 1ms/step - loss: 0.2437\n",
      "Epoch 35/40\n",
      "67/67 [==============================] - 0s 1ms/step - loss: 0.2346\n",
      "Epoch 36/40\n",
      "67/67 [==============================] - 0s 1ms/step - loss: 0.2688\n",
      "Epoch 37/40\n",
      "67/67 [==============================] - 0s 1ms/step - loss: 0.2472\n",
      "Epoch 38/40\n",
      "67/67 [==============================] - 0s 1ms/step - loss: 0.3214\n",
      "Epoch 39/40\n",
      "67/67 [==============================] - 0s 1ms/step - loss: 0.2300\n",
      "Epoch 40/40\n",
      "67/67 [==============================] - 0s 1ms/step - loss: 0.2431\n",
      "413/413 [==============================] - 0s 1ms/step - loss: 0.2997\n",
      "final loss: 0.2996937036514282\n",
      "final predictions:\n",
      "[[1.0851545e-07 9.9999988e-01 2.5784840e-13 1.0190724e-10 4.3341205e-14]\n",
      " [2.5521456e-03 9.9741274e-01 1.5631497e-07 3.4667723e-05 2.9995920e-07]\n",
      " [9.9343008e-01 3.5176112e-03 7.1262744e-05 1.1063742e-03 1.8746561e-03]\n",
      " ...\n",
      " [9.4531137e-01 2.3307442e-03 4.9697678e-04 8.3567749e-04 5.1025249e-02]\n",
      " [9.8315823e-01 1.0376637e-02 1.8441056e-04 1.4296847e-03 4.8509920e-03]\n",
      " [9.7960335e-01 1.3877295e-03 5.4760596e-05 1.1696396e-04 1.8837081e-02]]\n"
     ]
    }
   ],
   "source": [
    "tf.keras.backend.clear_session\n",
    "tf.random.set_seed(0)\n",
    "nonlinear_model = tf.keras.Sequential([\n",
    "    tf.keras.layers.Dense(10, input_shape=(9,), activation='relu'),\n",
    "    tf.keras.layers.Dense(20, input_shape=(9,), activation='relu'),\n",
    "    tf.keras.layers.Dense(5, activation='softmax')\n",
    "])\n",
    "\n",
    "nonlinear_model.compile(optimizer=tf.keras.optimizers.SGD(learning_rate=0.75),\n",
    "                        loss='sparse_categorical_crossentropy')\n",
    "\n",
    "nonlinear_model.fit(X_train, y_train, batch_size=200, epochs=40)\n",
    "\n",
    "print('final loss:', nonlinear_model.evaluate(X_train, y_train))\n",
    "print('final predictions:', nonlinear_model.predict(X_train), sep='\\n')"
   ]
  },
  {
   "cell_type": "markdown",
   "metadata": {},
   "source": [
    "##### Model 2: 1 hidden layer + sigmoid activation + medium learning rate\n",
    "- with reduced learning rate, didn't jump over the minima anymore. \n",
    "- However, when using sigmoid or tanh as activation function, the loss of the last epoch always jumped back up to very high value 0.5/0.6"
   ]
  },
  {
   "cell_type": "code",
   "execution_count": 164,
   "metadata": {},
   "outputs": [
    {
     "name": "stdout",
     "output_type": "stream",
     "text": [
      "Epoch 1/60\n",
      "67/67 [==============================] - 0s 2ms/step - loss: 1.2060 - accuracy: 0.5028\n",
      "Epoch 2/60\n",
      "67/67 [==============================] - 0s 2ms/step - loss: 0.9820 - accuracy: 0.6393\n",
      "Epoch 3/60\n",
      "67/67 [==============================] - 0s 2ms/step - loss: 0.8114 - accuracy: 0.6968\n",
      "Epoch 4/60\n",
      "67/67 [==============================] - 0s 2ms/step - loss: 0.7129 - accuracy: 0.7537\n",
      "Epoch 5/60\n",
      "67/67 [==============================] - 0s 2ms/step - loss: 0.6625 - accuracy: 0.7697\n",
      "Epoch 6/60\n",
      "67/67 [==============================] - 0s 1ms/step - loss: 0.6310 - accuracy: 0.7789\n",
      "Epoch 7/60\n",
      "67/67 [==============================] - 0s 2ms/step - loss: 0.6048 - accuracy: 0.7845\n",
      "Epoch 8/60\n",
      "67/67 [==============================] - 0s 1ms/step - loss: 0.5820 - accuracy: 0.7873\n",
      "Epoch 9/60\n",
      "67/67 [==============================] - 0s 1ms/step - loss: 0.5784 - accuracy: 0.7858\n",
      "Epoch 10/60\n",
      "67/67 [==============================] - 0s 2ms/step - loss: 0.5472 - accuracy: 0.7930\n",
      "Epoch 11/60\n",
      "67/67 [==============================] - 0s 1ms/step - loss: 0.5302 - accuracy: 0.7952\n",
      "Epoch 12/60\n",
      "67/67 [==============================] - 0s 1ms/step - loss: 0.5098 - accuracy: 0.7998\n",
      "Epoch 13/60\n",
      "67/67 [==============================] - 0s 1ms/step - loss: 0.4958 - accuracy: 0.7988\n",
      "Epoch 14/60\n",
      "67/67 [==============================] - 0s 2ms/step - loss: 0.4799 - accuracy: 0.8013\n",
      "Epoch 15/60\n",
      "67/67 [==============================] - 0s 2ms/step - loss: 0.4605 - accuracy: 0.8050\n",
      "Epoch 16/60\n",
      "67/67 [==============================] - 0s 1ms/step - loss: 0.4463 - accuracy: 0.8068\n",
      "Epoch 17/60\n",
      "67/67 [==============================] - 0s 2ms/step - loss: 0.4311 - accuracy: 0.8159\n",
      "Epoch 18/60\n",
      "67/67 [==============================] - 0s 2ms/step - loss: 0.4134 - accuracy: 0.8309\n",
      "Epoch 19/60\n",
      "67/67 [==============================] - 0s 1ms/step - loss: 0.4038 - accuracy: 0.8406\n",
      "Epoch 20/60\n",
      "67/67 [==============================] - 0s 1ms/step - loss: 0.3899 - accuracy: 0.8436\n",
      "Epoch 21/60\n",
      "67/67 [==============================] - 0s 1ms/step - loss: 0.3840 - accuracy: 0.8440\n",
      "Epoch 22/60\n",
      "67/67 [==============================] - 0s 1ms/step - loss: 0.3710 - accuracy: 0.8481\n",
      "Epoch 23/60\n",
      "67/67 [==============================] - 0s 2ms/step - loss: 0.3662 - accuracy: 0.8457\n",
      "Epoch 24/60\n",
      "67/67 [==============================] - 0s 1ms/step - loss: 0.3649 - accuracy: 0.8470\n",
      "Epoch 25/60\n",
      "67/67 [==============================] - 0s 1ms/step - loss: 0.3629 - accuracy: 0.8468\n",
      "Epoch 26/60\n",
      "67/67 [==============================] - 0s 1ms/step - loss: 0.3522 - accuracy: 0.8494\n",
      "Epoch 27/60\n",
      "67/67 [==============================] - 0s 1ms/step - loss: 0.3456 - accuracy: 0.8536\n",
      "Epoch 28/60\n",
      "67/67 [==============================] - 0s 1ms/step - loss: 0.3455 - accuracy: 0.8537\n",
      "Epoch 29/60\n",
      "67/67 [==============================] - 0s 1ms/step - loss: 0.3453 - accuracy: 0.8549\n",
      "Epoch 30/60\n",
      "67/67 [==============================] - 0s 2ms/step - loss: 0.3332 - accuracy: 0.8583: 0s - loss: 0.3412 - accuracy: 0.85\n",
      "Epoch 31/60\n",
      "67/67 [==============================] - 0s 1ms/step - loss: 0.3312 - accuracy: 0.8579\n",
      "Epoch 32/60\n",
      "67/67 [==============================] - 0s 2ms/step - loss: 0.3308 - accuracy: 0.8606\n",
      "Epoch 33/60\n",
      "67/67 [==============================] - 0s 1ms/step - loss: 0.3318 - accuracy: 0.8595\n",
      "Epoch 34/60\n",
      "67/67 [==============================] - 0s 1ms/step - loss: 0.3254 - accuracy: 0.8618\n",
      "Epoch 35/60\n",
      "67/67 [==============================] - 0s 1ms/step - loss: 0.3162 - accuracy: 0.8634\n",
      "Epoch 36/60\n",
      "67/67 [==============================] - 0s 1ms/step - loss: 0.3140 - accuracy: 0.8685\n",
      "Epoch 37/60\n",
      "67/67 [==============================] - 0s 1ms/step - loss: 0.3169 - accuracy: 0.8669\n",
      "Epoch 38/60\n",
      "67/67 [==============================] - 0s 2ms/step - loss: 0.3303 - accuracy: 0.8624\n",
      "Epoch 39/60\n",
      "67/67 [==============================] - 0s 1ms/step - loss: 0.3064 - accuracy: 0.8695\n",
      "Epoch 40/60\n",
      "67/67 [==============================] - 0s 1ms/step - loss: 0.3155 - accuracy: 0.8637\n",
      "Epoch 41/60\n",
      "67/67 [==============================] - 0s 1ms/step - loss: 0.3135 - accuracy: 0.8686\n",
      "Epoch 42/60\n",
      "67/67 [==============================] - 0s 1ms/step - loss: 0.3187 - accuracy: 0.8670\n",
      "Epoch 43/60\n",
      "67/67 [==============================] - 0s 1ms/step - loss: 0.3048 - accuracy: 0.8722\n",
      "Epoch 44/60\n",
      "67/67 [==============================] - 0s 1ms/step - loss: 0.3156 - accuracy: 0.8671\n",
      "Epoch 45/60\n",
      "67/67 [==============================] - 0s 1ms/step - loss: 0.3073 - accuracy: 0.8690\n",
      "Epoch 46/60\n",
      "67/67 [==============================] - 0s 1ms/step - loss: 0.3051 - accuracy: 0.8697\n",
      "Epoch 47/60\n",
      "67/67 [==============================] - 0s 1ms/step - loss: 0.3149 - accuracy: 0.8682\n",
      "Epoch 48/60\n",
      "67/67 [==============================] - 0s 1ms/step - loss: 0.3052 - accuracy: 0.8713\n",
      "Epoch 49/60\n",
      "67/67 [==============================] - 0s 2ms/step - loss: 0.3065 - accuracy: 0.8710\n",
      "Epoch 50/60\n",
      "67/67 [==============================] - 0s 2ms/step - loss: 0.3076 - accuracy: 0.8701\n",
      "Epoch 51/60\n",
      "67/67 [==============================] - 0s 1ms/step - loss: 0.3033 - accuracy: 0.8709\n",
      "Epoch 52/60\n",
      "67/67 [==============================] - 0s 1ms/step - loss: 0.2977 - accuracy: 0.8733\n",
      "Epoch 53/60\n",
      "67/67 [==============================] - 0s 2ms/step - loss: 0.3046 - accuracy: 0.8712\n",
      "Epoch 54/60\n",
      "67/67 [==============================] - 0s 1ms/step - loss: 0.2962 - accuracy: 0.8755\n",
      "Epoch 55/60\n",
      "67/67 [==============================] - 0s 2ms/step - loss: 0.2945 - accuracy: 0.8764\n",
      "Epoch 56/60\n",
      "67/67 [==============================] - 0s 2ms/step - loss: 0.2928 - accuracy: 0.8761\n",
      "Epoch 57/60\n",
      "67/67 [==============================] - 0s 1ms/step - loss: 0.2946 - accuracy: 0.8746\n",
      "Epoch 58/60\n",
      "67/67 [==============================] - 0s 1ms/step - loss: 0.2909 - accuracy: 0.8777\n",
      "Epoch 59/60\n",
      "67/67 [==============================] - 0s 1ms/step - loss: 0.2948 - accuracy: 0.8743\n",
      "Epoch 60/60\n",
      "67/67 [==============================] - 0s 1ms/step - loss: 0.2907 - accuracy: 0.8780\n",
      "413/413 [==============================] - 0s 1ms/step - loss: 0.4756 - accuracy: 0.8111\n",
      "final loss: [0.47559696435928345, 0.8111136555671692]\n",
      "final predictions:\n",
      "[[1.76642006e-05 9.99901891e-01 4.59843328e-08 8.04046140e-05\n",
      "  2.09448171e-12]\n",
      " [3.13976267e-03 9.96857285e-01 3.75936793e-07 2.64263167e-06\n",
      "  2.30270733e-10]\n",
      " [9.84216392e-01 1.44387111e-02 8.50214856e-05 8.10880010e-05\n",
      "  1.17879105e-03]\n",
      " ...\n",
      " [6.50275350e-01 1.05579384e-04 8.22131551e-05 1.76041685e-05\n",
      "  3.49519253e-01]\n",
      " [9.91004586e-01 6.63143490e-03 7.84797303e-05 5.33300154e-05\n",
      "  2.23236019e-03]\n",
      " [8.83802533e-01 6.13371376e-05 5.12674269e-05 3.75201089e-05\n",
      "  1.16047360e-01]]\n"
     ]
    }
   ],
   "source": [
    "tf.keras.backend.clear_session\n",
    "\n",
    "tf.random.set_seed(0)\n",
    "\n",
    "nonlinear_model = tf.keras.Sequential([\n",
    "    tf.keras.layers.Dense(10, input_shape=(9,), activation='sigmoid'),\n",
    "    tf.keras.layers.Dense(20, input_shape=(9,), activation='sigmoid'),\n",
    "    tf.keras.layers.Dense(5, activation='softmax')\n",
    "])\n",
    "\n",
    "nonlinear_model.compile(optimizer=tf.keras.optimizers.SGD(learning_rate=0.5),\n",
    "                        loss='sparse_categorical_crossentropy',\n",
    "                        metrics=['accuracy'])\n",
    "\n",
    "nonlinear_model.fit(X_train, y_train, batch_size=200, epochs=60)\n",
    "\n",
    "print('final loss:', nonlinear_model.evaluate(X_train, y_train))\n",
    "print('final predictions:', nonlinear_model.predict(X_train), sep='\\n')"
   ]
  },
  {
   "cell_type": "markdown",
   "metadata": {},
   "source": [
    "##### Model 3: 3 hidden layers and more nodes + relu activation + low learning rate\n",
    "- final loss = 0.17 with random seed 2 (the best performance)\n",
    "- with reduced learning rate, didn't jump over the minima anymore\n",
    "- Since we observed the loss is decreasing (and a slower learning rate has been adopted), the number of epochs has been increased. With 100 epochs, we can observed that the loss has stablised at around 0.17 \n"
   ]
  },
  {
   "cell_type": "code",
   "execution_count": 158,
   "metadata": {},
   "outputs": [
    {
     "name": "stdout",
     "output_type": "stream",
     "text": [
      "Epoch 1/95\n",
      "27/27 [==============================] - 0s 2ms/step - loss: 1.2113\n",
      "Epoch 2/95\n",
      "27/27 [==============================] - 0s 3ms/step - loss: 0.8668\n",
      "Epoch 3/95\n",
      "27/27 [==============================] - 0s 2ms/step - loss: 0.7127\n",
      "Epoch 4/95\n",
      "27/27 [==============================] - 0s 2ms/step - loss: 0.6312\n",
      "Epoch 5/95\n",
      "27/27 [==============================] - 0s 2ms/step - loss: 0.5997\n",
      "Epoch 6/95\n",
      "27/27 [==============================] - 0s 2ms/step - loss: 0.5665\n",
      "Epoch 7/95\n",
      "27/27 [==============================] - 0s 2ms/step - loss: 0.5102\n",
      "Epoch 8/95\n",
      "27/27 [==============================] - 0s 2ms/step - loss: 0.5069\n",
      "Epoch 9/95\n",
      "27/27 [==============================] - 0s 2ms/step - loss: 0.4838\n",
      "Epoch 10/95\n",
      "27/27 [==============================] - 0s 2ms/step - loss: 0.4775\n",
      "Epoch 11/95\n",
      "27/27 [==============================] - 0s 2ms/step - loss: 0.4420\n",
      "Epoch 12/95\n",
      "27/27 [==============================] - 0s 2ms/step - loss: 0.3938\n",
      "Epoch 13/95\n",
      "27/27 [==============================] - 0s 2ms/step - loss: 0.3988\n",
      "Epoch 14/95\n",
      "27/27 [==============================] - 0s 2ms/step - loss: 0.3954\n",
      "Epoch 15/95\n",
      "27/27 [==============================] - 0s 2ms/step - loss: 0.3614\n",
      "Epoch 16/95\n",
      "27/27 [==============================] - 0s 2ms/step - loss: 0.3710\n",
      "Epoch 17/95\n",
      "27/27 [==============================] - 0s 2ms/step - loss: 0.3481A: 0s - loss: 0.352\n",
      "Epoch 18/95\n",
      "27/27 [==============================] - 0s 2ms/step - loss: 0.3405\n",
      "Epoch 19/95\n",
      "27/27 [==============================] - 0s 2ms/step - loss: 0.3294\n",
      "Epoch 20/95\n",
      "27/27 [==============================] - 0s 2ms/step - loss: 0.3205\n",
      "Epoch 21/95\n",
      "27/27 [==============================] - 0s 3ms/step - loss: 0.3165\n",
      "Epoch 22/95\n",
      "27/27 [==============================] - 0s 2ms/step - loss: 0.3306\n",
      "Epoch 23/95\n",
      "27/27 [==============================] - 0s 3ms/step - loss: 0.3251\n",
      "Epoch 24/95\n",
      "27/27 [==============================] - 0s 2ms/step - loss: 0.3118\n",
      "Epoch 25/95\n",
      "27/27 [==============================] - 0s 2ms/step - loss: 0.2854\n",
      "Epoch 26/95\n",
      "27/27 [==============================] - 0s 2ms/step - loss: 0.2912\n",
      "Epoch 27/95\n",
      "27/27 [==============================] - 0s 2ms/step - loss: 0.3043\n",
      "Epoch 28/95\n",
      "27/27 [==============================] - 0s 2ms/step - loss: 0.2874\n",
      "Epoch 29/95\n",
      "27/27 [==============================] - 0s 3ms/step - loss: 0.2809\n",
      "Epoch 30/95\n",
      "27/27 [==============================] - 0s 3ms/step - loss: 0.2678\n",
      "Epoch 31/95\n",
      "27/27 [==============================] - 0s 2ms/step - loss: 0.2908\n",
      "Epoch 32/95\n",
      "27/27 [==============================] - 0s 2ms/step - loss: 0.2956\n",
      "Epoch 33/95\n",
      "27/27 [==============================] - 0s 2ms/step - loss: 0.2799\n",
      "Epoch 34/95\n",
      "27/27 [==============================] - 0s 2ms/step - loss: 0.2676\n",
      "Epoch 35/95\n",
      "27/27 [==============================] - 0s 2ms/step - loss: 0.3017\n",
      "Epoch 36/95\n",
      "27/27 [==============================] - 0s 2ms/step - loss: 0.2631\n",
      "Epoch 37/95\n",
      "27/27 [==============================] - 0s 2ms/step - loss: 0.2594\n",
      "Epoch 38/95\n",
      "27/27 [==============================] - 0s 2ms/step - loss: 0.2579\n",
      "Epoch 39/95\n",
      "27/27 [==============================] - 0s 2ms/step - loss: 0.2639\n",
      "Epoch 40/95\n",
      "27/27 [==============================] - 0s 2ms/step - loss: 0.2438\n",
      "Epoch 41/95\n",
      "27/27 [==============================] - 0s 3ms/step - loss: 0.2575\n",
      "Epoch 42/95\n",
      "27/27 [==============================] - 0s 2ms/step - loss: 0.2428\n",
      "Epoch 43/95\n",
      "27/27 [==============================] - 0s 2ms/step - loss: 0.2672\n",
      "Epoch 44/95\n",
      "27/27 [==============================] - 0s 2ms/step - loss: 0.2353\n",
      "Epoch 45/95\n",
      "27/27 [==============================] - 0s 2ms/step - loss: 0.2470\n",
      "Epoch 46/95\n",
      "27/27 [==============================] - 0s 2ms/step - loss: 0.2466\n",
      "Epoch 47/95\n",
      "27/27 [==============================] - 0s 2ms/step - loss: 0.2319\n",
      "Epoch 48/95\n",
      "27/27 [==============================] - 0s 2ms/step - loss: 0.2336\n",
      "Epoch 49/95\n",
      "27/27 [==============================] - 0s 2ms/step - loss: 0.2385\n",
      "Epoch 50/95\n",
      "27/27 [==============================] - 0s 2ms/step - loss: 0.2518\n",
      "Epoch 51/95\n",
      "27/27 [==============================] - 0s 3ms/step - loss: 0.2288\n",
      "Epoch 52/95\n",
      "27/27 [==============================] - 0s 2ms/step - loss: 0.2533\n",
      "Epoch 53/95\n",
      "27/27 [==============================] - 0s 2ms/step - loss: 0.2266\n",
      "Epoch 54/95\n",
      "27/27 [==============================] - 0s 3ms/step - loss: 0.2207\n",
      "Epoch 55/95\n",
      "27/27 [==============================] - 0s 2ms/step - loss: 0.2448\n",
      "Epoch 56/95\n",
      "27/27 [==============================] - 0s 2ms/step - loss: 0.2281\n",
      "Epoch 57/95\n",
      "27/27 [==============================] - 0s 2ms/step - loss: 0.2336\n",
      "Epoch 58/95\n",
      "27/27 [==============================] - 0s 2ms/step - loss: 0.2085\n",
      "Epoch 59/95\n",
      "27/27 [==============================] - 0s 2ms/step - loss: 0.2335\n",
      "Epoch 60/95\n",
      "27/27 [==============================] - 0s 2ms/step - loss: 0.2194\n",
      "Epoch 61/95\n",
      "27/27 [==============================] - 0s 3ms/step - loss: 0.2307\n",
      "Epoch 62/95\n",
      "27/27 [==============================] - 0s 3ms/step - loss: 0.2413\n",
      "Epoch 63/95\n",
      "27/27 [==============================] - 0s 3ms/step - loss: 0.2006\n",
      "Epoch 64/95\n",
      "27/27 [==============================] - 0s 2ms/step - loss: 0.2284\n",
      "Epoch 65/95\n",
      "27/27 [==============================] - 0s 3ms/step - loss: 0.2317\n",
      "Epoch 66/95\n",
      "27/27 [==============================] - 0s 2ms/step - loss: 0.1975\n",
      "Epoch 67/95\n",
      "27/27 [==============================] - 0s 2ms/step - loss: 0.2232\n",
      "Epoch 68/95\n",
      "27/27 [==============================] - 0s 2ms/step - loss: 0.1839\n",
      "Epoch 69/95\n",
      "27/27 [==============================] - 0s 2ms/step - loss: 0.2214\n",
      "Epoch 70/95\n",
      "27/27 [==============================] - 0s 2ms/step - loss: 0.1941\n",
      "Epoch 71/95\n",
      "27/27 [==============================] - 0s 2ms/step - loss: 0.2145\n",
      "Epoch 72/95\n",
      "27/27 [==============================] - 0s 2ms/step - loss: 0.1873\n",
      "Epoch 73/95\n",
      "27/27 [==============================] - 0s 2ms/step - loss: 0.2260\n",
      "Epoch 74/95\n",
      "27/27 [==============================] - 0s 2ms/step - loss: 0.1882\n",
      "Epoch 75/95\n",
      "27/27 [==============================] - 0s 2ms/step - loss: 0.2060\n",
      "Epoch 76/95\n",
      "27/27 [==============================] - 0s 2ms/step - loss: 0.2029\n",
      "Epoch 77/95\n",
      "27/27 [==============================] - 0s 2ms/step - loss: 0.2049\n",
      "Epoch 78/95\n",
      "27/27 [==============================] - 0s 2ms/step - loss: 0.1844\n",
      "Epoch 79/95\n",
      "27/27 [==============================] - 0s 2ms/step - loss: 0.1986\n",
      "Epoch 80/95\n",
      "27/27 [==============================] - 0s 2ms/step - loss: 0.2045\n",
      "Epoch 81/95\n",
      "27/27 [==============================] - 0s 2ms/step - loss: 0.2117\n",
      "Epoch 82/95\n",
      "27/27 [==============================] - 0s 2ms/step - loss: 0.1959\n",
      "Epoch 83/95\n",
      "27/27 [==============================] - 0s 2ms/step - loss: 0.1849\n",
      "Epoch 84/95\n",
      "27/27 [==============================] - 0s 2ms/step - loss: 0.2056\n",
      "Epoch 85/95\n",
      "27/27 [==============================] - 0s 2ms/step - loss: 0.1783\n",
      "Epoch 86/95\n",
      "27/27 [==============================] - 0s 2ms/step - loss: 0.2028\n",
      "Epoch 87/95\n",
      "27/27 [==============================] - 0s 2ms/step - loss: 0.1855\n",
      "Epoch 88/95\n",
      "27/27 [==============================] - 0s 2ms/step - loss: 0.1848\n",
      "Epoch 89/95\n",
      "27/27 [==============================] - 0s 2ms/step - loss: 0.2019\n",
      "Epoch 90/95\n",
      "27/27 [==============================] - 0s 2ms/step - loss: 0.1902\n",
      "Epoch 91/95\n",
      "27/27 [==============================] - 0s 2ms/step - loss: 0.1717\n",
      "Epoch 92/95\n",
      "27/27 [==============================] - 0s 2ms/step - loss: 0.2083\n",
      "Epoch 93/95\n",
      "27/27 [==============================] - 0s 2ms/step - loss: 0.1815\n",
      "Epoch 94/95\n",
      "27/27 [==============================] - 0s 2ms/step - loss: 0.1864\n",
      "Epoch 95/95\n",
      "27/27 [==============================] - 0s 2ms/step - loss: 0.1934\n",
      "413/413 [==============================] - 0s 1ms/step - loss: 0.1786\n",
      "final loss: 0.1786077618598938\n",
      "final predictions:\n",
      "[[1.0303806e-11 1.0000000e+00 5.3018200e-20 6.1619292e-15 2.5757645e-18]\n",
      " [4.3722141e-01 5.6269628e-01 2.3432017e-06 2.6243855e-05 5.3715175e-05]\n",
      " [9.9624759e-01 1.4754900e-03 6.0978306e-05 4.3662143e-04 1.7793634e-03]\n",
      " ...\n",
      " [7.1759814e-01 2.2578666e-03 5.7801820e-04 3.0658260e-04 2.7925941e-01]\n",
      " [9.9712092e-01 2.3204624e-03 2.2266644e-05 1.1826566e-04 4.1804725e-04]\n",
      " [9.8772240e-01 1.2767711e-04 3.6085181e-05 3.3446398e-05 1.2080414e-02]]\n"
     ]
    }
   ],
   "source": [
    "tf.keras.backend.clear_session\n",
    "\n",
    "tf.random.set_seed(2)\n",
    "\n",
    "nonlinear_model = tf.keras.Sequential([\n",
    "    tf.keras.layers.Dense(18, input_shape=(9,), activation='relu'),\n",
    "    tf.keras.layers.Dense(36, input_shape=(9,), activation='relu'),\n",
    "    tf.keras.layers.Dense(36, input_shape=(9,), activation='relu'),\n",
    "    tf.keras.layers.Dense(36, input_shape=(9,), activation='relu'),\n",
    "    tf.keras.layers.Dense(5, activation='softmax')\n",
    "])\n",
    "\n",
    "nonlinear_model.compile(optimizer=tf.keras.optimizers.SGD(learning_rate=0.25),\n",
    "                        loss='sparse_categorical_crossentropy')\n",
    "\n",
    "nonlinear_model.fit(X_train, y_train, batch_size=500, epochs=95)\n",
    "\n",
    "print('final loss:', nonlinear_model.evaluate(X_train, y_train))\n",
    "print('final predictions:', nonlinear_model.predict(X_train), sep='\\n')"
   ]
  },
  {
   "cell_type": "markdown",
   "metadata": {},
   "source": [
    "Using the development dataset. If performance on X_dev is too poor, adjust hyper parameters (width depth, learning rate etc) above, "
   ]
  },
  {
   "cell_type": "code",
   "execution_count": 165,
   "metadata": {},
   "outputs": [
    {
     "name": "stdout",
     "output_type": "stream",
     "text": [
      "104/104 [==============================] - 0s 838us/step - loss: 0.5131 - accuracy: 0.8056\n"
     ]
    },
    {
     "data": {
      "text/plain": [
       "[0.5130848288536072, 0.8056312203407288]"
      ]
     },
     "execution_count": 165,
     "metadata": {},
     "output_type": "execute_result"
    }
   ],
   "source": [
    "nonlinear_model.evaluate(X_dev, y_dev)"
   ]
  },
  {
   "cell_type": "markdown",
   "metadata": {},
   "source": [
    "Acheived 0.8056 accuracy in development dataset. Satisfied with the performance. Hence, can evaluate on test set, to check the realistic performance. \n",
    "\n",
    "Performance on testing dataset"
   ]
  },
  {
   "cell_type": "code",
   "execution_count": 166,
   "metadata": {},
   "outputs": [
    {
     "name": "stdout",
     "output_type": "stream",
     "text": [
      "129/129 [==============================] - 0s 2ms/step - loss: 0.4979 - accuracy: 0.8091\n"
     ]
    },
    {
     "data": {
      "text/plain": [
       "[0.4979161024093628, 0.809108555316925]"
      ]
     },
     "execution_count": 166,
     "metadata": {},
     "output_type": "execute_result"
    }
   ],
   "source": [
    "nonlinear_model.evaluate(X_test, y_test)"
   ]
  },
  {
   "cell_type": "markdown",
   "metadata": {},
   "source": [
    "Achieve 80.91% on test set. Accuracy performance on test set similar to dev set, which is good to have. "
   ]
  },
  {
   "cell_type": "markdown",
   "metadata": {},
   "source": [
    "-------------------\n",
    "### Visualise trained models"
   ]
  },
  {
   "cell_type": "code",
   "execution_count": 72,
   "metadata": {},
   "outputs": [],
   "source": [
    "%reload_ext tensorboard\n",
    "import datetime"
   ]
  },
  {
   "cell_type": "markdown",
   "metadata": {},
   "source": [
    "clear any logs from previous runs by running `rm -rf ./logs/`"
   ]
  },
  {
   "cell_type": "code",
   "execution_count": 77,
   "metadata": {},
   "outputs": [
    {
     "name": "stdout",
     "output_type": "stream",
     "text": [
      "Epoch 1/95\n",
      " 2/27 [=>............................] - ETA: 0s - loss: 1.6561WARNING:tensorflow:Callbacks method `on_train_batch_end` is slow compared to the batch time (batch time: 0.0041s vs `on_train_batch_end` time: 0.0623s). Check your callbacks.\n",
      "27/27 [==============================] - 0s 13ms/step - loss: 1.2113 - val_loss: 0.9691\n",
      "Epoch 2/95\n",
      "27/27 [==============================] - 0s 5ms/step - loss: 0.8668 - val_loss: 0.7620\n",
      "Epoch 3/95\n",
      "27/27 [==============================] - 0s 5ms/step - loss: 0.7127 - val_loss: 0.6574\n",
      "Epoch 4/95\n",
      "27/27 [==============================] - 0s 4ms/step - loss: 0.6312 - val_loss: 0.8348\n",
      "Epoch 5/95\n",
      "27/27 [==============================] - 0s 5ms/step - loss: 0.5997 - val_loss: 0.6910\n",
      "Epoch 6/95\n",
      "27/27 [==============================] - 0s 5ms/step - loss: 0.5665 - val_loss: 0.5011\n",
      "Epoch 7/95\n",
      "27/27 [==============================] - 0s 3ms/step - loss: 0.5102 - val_loss: 0.8057\n",
      "Epoch 8/95\n",
      "27/27 [==============================] - 0s 4ms/step - loss: 0.5069 - val_loss: 0.4313\n",
      "Epoch 9/95\n",
      "27/27 [==============================] - 0s 7ms/step - loss: 0.4838 - val_loss: 0.4213\n",
      "Epoch 10/95\n",
      "27/27 [==============================] - 0s 10ms/step - loss: 0.4775 - val_loss: 0.5947\n",
      "Epoch 11/95\n",
      "27/27 [==============================] - 0s 4ms/step - loss: 0.4420 - val_loss: 0.4038\n",
      "Epoch 12/95\n",
      "27/27 [==============================] - 0s 4ms/step - loss: 0.3938 - val_loss: 0.6057\n",
      "Epoch 13/95\n",
      "27/27 [==============================] - 0s 4ms/step - loss: 0.3988 - val_loss: 0.3329\n",
      "Epoch 14/95\n",
      "27/27 [==============================] - 0s 5ms/step - loss: 0.3954 - val_loss: 0.4135\n",
      "Epoch 15/95\n",
      "27/27 [==============================] - 0s 4ms/step - loss: 0.3614 - val_loss: 0.6556\n",
      "Epoch 16/95\n",
      "27/27 [==============================] - 0s 5ms/step - loss: 0.3710 - val_loss: 0.4014\n",
      "Epoch 17/95\n",
      "27/27 [==============================] - 0s 4ms/step - loss: 0.3481 - val_loss: 0.3140\n",
      "Epoch 18/95\n",
      "27/27 [==============================] - 0s 4ms/step - loss: 0.3405 - val_loss: 0.3856\n",
      "Epoch 19/95\n",
      "27/27 [==============================] - 0s 3ms/step - loss: 0.3294 - val_loss: 0.3899\n",
      "Epoch 20/95\n",
      "27/27 [==============================] - 0s 5ms/step - loss: 0.3205 - val_loss: 0.4243\n",
      "Epoch 21/95\n",
      "27/27 [==============================] - 0s 4ms/step - loss: 0.3165 - val_loss: 0.3169\n",
      "Epoch 22/95\n",
      "27/27 [==============================] - 0s 5ms/step - loss: 0.3306 - val_loss: 0.3076\n",
      "Epoch 23/95\n",
      "27/27 [==============================] - 0s 5ms/step - loss: 0.3251 - val_loss: 0.2605\n",
      "Epoch 24/95\n",
      "27/27 [==============================] - 0s 4ms/step - loss: 0.3118 - val_loss: 0.2776\n",
      "Epoch 25/95\n",
      "27/27 [==============================] - 0s 4ms/step - loss: 0.2854 - val_loss: 0.2839\n",
      "Epoch 26/95\n",
      "27/27 [==============================] - 0s 4ms/step - loss: 0.2912 - val_loss: 0.5306\n",
      "Epoch 27/95\n",
      "27/27 [==============================] - 0s 4ms/step - loss: 0.3043 - val_loss: 0.3010\n",
      "Epoch 28/95\n",
      "27/27 [==============================] - 0s 5ms/step - loss: 0.2874 - val_loss: 0.2475\n",
      "Epoch 29/95\n",
      "27/27 [==============================] - 0s 5ms/step - loss: 0.2809 - val_loss: 0.3394\n",
      "Epoch 30/95\n",
      "27/27 [==============================] - 0s 4ms/step - loss: 0.2678 - val_loss: 0.4232\n",
      "Epoch 31/95\n",
      "27/27 [==============================] - 0s 4ms/step - loss: 0.2908 - val_loss: 0.2912\n",
      "Epoch 32/95\n",
      "27/27 [==============================] - 0s 5ms/step - loss: 0.2956 - val_loss: 0.3943\n",
      "Epoch 33/95\n",
      "27/27 [==============================] - 0s 4ms/step - loss: 0.2799 - val_loss: 0.2511\n",
      "Epoch 34/95\n",
      "27/27 [==============================] - 0s 4ms/step - loss: 0.2676 - val_loss: 0.3451\n",
      "Epoch 35/95\n",
      "27/27 [==============================] - 0s 4ms/step - loss: 0.3017 - val_loss: 0.2704\n",
      "Epoch 36/95\n",
      "27/27 [==============================] - 0s 4ms/step - loss: 0.2631 - val_loss: 0.2313\n",
      "Epoch 37/95\n",
      "27/27 [==============================] - 0s 5ms/step - loss: 0.2594 - val_loss: 0.2281\n",
      "Epoch 38/95\n",
      "27/27 [==============================] - 0s 4ms/step - loss: 0.2579 - val_loss: 0.2222\n",
      "Epoch 39/95\n",
      "27/27 [==============================] - 0s 3ms/step - loss: 0.2639 - val_loss: 0.4264\n",
      "Epoch 40/95\n",
      "27/27 [==============================] - 0s 4ms/step - loss: 0.2438 - val_loss: 0.2059\n",
      "Epoch 41/95\n",
      "27/27 [==============================] - 0s 4ms/step - loss: 0.2575 - val_loss: 0.2698\n",
      "Epoch 42/95\n",
      "27/27 [==============================] - 0s 5ms/step - loss: 0.2428 - val_loss: 0.3015\n",
      "Epoch 43/95\n",
      "27/27 [==============================] - 0s 4ms/step - loss: 0.2672 - val_loss: 0.2763\n",
      "Epoch 44/95\n",
      "27/27 [==============================] - 0s 6ms/step - loss: 0.2353 - val_loss: 0.2199\n",
      "Epoch 45/95\n",
      "27/27 [==============================] - 0s 4ms/step - loss: 0.2470 - val_loss: 0.2643\n",
      "Epoch 46/95\n",
      "27/27 [==============================] - 0s 6ms/step - loss: 0.2466 - val_loss: 0.2223\n",
      "Epoch 47/95\n",
      "27/27 [==============================] - 0s 4ms/step - loss: 0.2319 - val_loss: 0.2544\n",
      "Epoch 48/95\n",
      "27/27 [==============================] - 0s 3ms/step - loss: 0.2336 - val_loss: 0.2923\n",
      "Epoch 49/95\n",
      "27/27 [==============================] - 0s 4ms/step - loss: 0.2385 - val_loss: 0.3761\n",
      "Epoch 50/95\n",
      "27/27 [==============================] - 0s 3ms/step - loss: 0.2518 - val_loss: 0.2832\n",
      "Epoch 51/95\n",
      "27/27 [==============================] - 0s 4ms/step - loss: 0.2288 - val_loss: 0.2687\n",
      "Epoch 52/95\n",
      "27/27 [==============================] - 0s 4ms/step - loss: 0.2533 - val_loss: 0.2597\n",
      "Epoch 53/95\n",
      "27/27 [==============================] - 0s 3ms/step - loss: 0.2266 - val_loss: 0.2792\n",
      "Epoch 54/95\n",
      "27/27 [==============================] - 0s 4ms/step - loss: 0.2207 - val_loss: 0.2218\n",
      "Epoch 55/95\n",
      "27/27 [==============================] - 0s 4ms/step - loss: 0.2448 - val_loss: 0.1958\n",
      "Epoch 56/95\n",
      "27/27 [==============================] - 0s 4ms/step - loss: 0.2281 - val_loss: 0.2203\n",
      "Epoch 57/95\n",
      "27/27 [==============================] - 0s 7ms/step - loss: 0.2336 - val_loss: 0.2475\n",
      "Epoch 58/95\n",
      "27/27 [==============================] - 0s 6ms/step - loss: 0.2085 - val_loss: 0.2962\n",
      "Epoch 59/95\n",
      "27/27 [==============================] - 0s 5ms/step - loss: 0.2335 - val_loss: 0.1792\n",
      "Epoch 60/95\n",
      "27/27 [==============================] - 0s 4ms/step - loss: 0.2194 - val_loss: 0.2190\n",
      "Epoch 61/95\n",
      "27/27 [==============================] - 0s 4ms/step - loss: 0.2307 - val_loss: 0.4055\n",
      "Epoch 62/95\n",
      "27/27 [==============================] - 0s 3ms/step - loss: 0.2413 - val_loss: 0.1811\n",
      "Epoch 63/95\n",
      "27/27 [==============================] - 0s 3ms/step - loss: 0.2006 - val_loss: 0.2180\n",
      "Epoch 64/95\n",
      "27/27 [==============================] - 0s 4ms/step - loss: 0.2284 - val_loss: 0.1987\n",
      "Epoch 65/95\n",
      "27/27 [==============================] - 0s 4ms/step - loss: 0.2317 - val_loss: 0.2375\n",
      "Epoch 66/95\n",
      "27/27 [==============================] - 0s 5ms/step - loss: 0.1975 - val_loss: 0.1661\n",
      "Epoch 67/95\n",
      "27/27 [==============================] - 0s 3ms/step - loss: 0.2232 - val_loss: 0.2244\n",
      "Epoch 68/95\n",
      "27/27 [==============================] - 0s 4ms/step - loss: 0.1839 - val_loss: 0.1848\n",
      "Epoch 69/95\n",
      "27/27 [==============================] - 0s 4ms/step - loss: 0.2214 - val_loss: 0.2465\n",
      "Epoch 70/95\n",
      "27/27 [==============================] - 0s 5ms/step - loss: 0.1941 - val_loss: 0.1705\n",
      "Epoch 71/95\n",
      "27/27 [==============================] - 0s 5ms/step - loss: 0.2145 - val_loss: 0.1729\n",
      "Epoch 72/95\n",
      "27/27 [==============================] - 0s 5ms/step - loss: 0.1873 - val_loss: 0.2969\n",
      "Epoch 73/95\n",
      "27/27 [==============================] - 0s 5ms/step - loss: 0.2260 - val_loss: 0.1996\n",
      "Epoch 74/95\n",
      "27/27 [==============================] - 0s 5ms/step - loss: 0.1882 - val_loss: 0.1728\n",
      "Epoch 75/95\n",
      "27/27 [==============================] - 0s 5ms/step - loss: 0.2060 - val_loss: 0.1693\n",
      "Epoch 76/95\n",
      "27/27 [==============================] - 0s 5ms/step - loss: 0.2029 - val_loss: 0.2028\n",
      "Epoch 77/95\n",
      "27/27 [==============================] - 0s 5ms/step - loss: 0.2049 - val_loss: 0.3378\n",
      "Epoch 78/95\n",
      "27/27 [==============================] - 0s 5ms/step - loss: 0.1844 - val_loss: 0.3563\n",
      "Epoch 79/95\n",
      "27/27 [==============================] - 0s 5ms/step - loss: 0.1986 - val_loss: 0.1888\n",
      "Epoch 80/95\n",
      "27/27 [==============================] - 0s 4ms/step - loss: 0.2045 - val_loss: 0.1719\n",
      "Epoch 81/95\n"
     ]
    },
    {
     "name": "stdout",
     "output_type": "stream",
     "text": [
      "27/27 [==============================] - 0s 4ms/step - loss: 0.2117 - val_loss: 0.1699\n",
      "Epoch 82/95\n",
      "27/27 [==============================] - 0s 4ms/step - loss: 0.1959 - val_loss: 0.2156\n",
      "Epoch 83/95\n",
      "27/27 [==============================] - 0s 4ms/step - loss: 0.1849 - val_loss: 0.2328\n",
      "Epoch 84/95\n",
      "27/27 [==============================] - 0s 6ms/step - loss: 0.2056 - val_loss: 0.2355\n",
      "Epoch 85/95\n",
      "27/27 [==============================] - 0s 5ms/step - loss: 0.1783 - val_loss: 0.2487\n",
      "Epoch 86/95\n",
      "27/27 [==============================] - 0s 5ms/step - loss: 0.2028 - val_loss: 0.3178\n",
      "Epoch 87/95\n",
      "27/27 [==============================] - 0s 5ms/step - loss: 0.1855 - val_loss: 0.1447\n",
      "Epoch 88/95\n",
      "27/27 [==============================] - 0s 5ms/step - loss: 0.1848 - val_loss: 0.1717\n",
      "Epoch 89/95\n",
      "27/27 [==============================] - 0s 4ms/step - loss: 0.2019 - val_loss: 0.1551\n",
      "Epoch 90/95\n",
      "27/27 [==============================] - 0s 4ms/step - loss: 0.1902 - val_loss: 0.1512\n",
      "Epoch 91/95\n",
      "27/27 [==============================] - 0s 8ms/step - loss: 0.1717 - val_loss: 0.1690\n",
      "Epoch 92/95\n",
      "27/27 [==============================] - 0s 8ms/step - loss: 0.2083 - val_loss: 0.1686\n",
      "Epoch 93/95\n",
      "27/27 [==============================] - 0s 4ms/step - loss: 0.1815 - val_loss: 0.1876\n",
      "Epoch 94/95\n",
      "27/27 [==============================] - 0s 3ms/step - loss: 0.1864 - val_loss: 0.2291\n",
      "Epoch 95/95\n",
      "27/27 [==============================] - 0s 4ms/step - loss: 0.1934 - val_loss: 0.1786\n",
      "413/413 [==============================] - 0s 957us/step - loss: 0.1786\n",
      "final loss: 0.1786077618598938\n",
      "final predictions:\n",
      "[[1.0303806e-11 1.0000000e+00 5.3018200e-20 6.1619292e-15 2.5757645e-18]\n",
      " [4.3722141e-01 5.6269628e-01 2.3432017e-06 2.6243855e-05 5.3715175e-05]\n",
      " [9.9624759e-01 1.4754900e-03 6.0978306e-05 4.3662143e-04 1.7793634e-03]\n",
      " ...\n",
      " [7.1759814e-01 2.2578666e-03 5.7801820e-04 3.0658260e-04 2.7925941e-01]\n",
      " [9.9712092e-01 2.3204624e-03 2.2266644e-05 1.1826566e-04 4.1804725e-04]\n",
      " [9.8772240e-01 1.2767711e-04 3.6085181e-05 3.3446398e-05 1.2080414e-02]]\n"
     ]
    }
   ],
   "source": [
    "tf.keras.backend.clear_session\n",
    "tf.random.set_seed(2)\n",
    "nonlinear_model = tf.keras.Sequential([\n",
    "    tf.keras.layers.Dense(18, input_shape=(9,), activation='relu'),\n",
    "    tf.keras.layers.Dense(36, input_shape=(9,), activation='relu'),\n",
    "    tf.keras.layers.Dense(36, input_shape=(9,), activation='relu'),\n",
    "    tf.keras.layers.Dense(36, input_shape=(9,), activation='relu'),\n",
    "    tf.keras.layers.Dense(5, activation='softmax')\n",
    "])\n",
    "\n",
    "nonlinear_model.compile(optimizer=tf.keras.optimizers.SGD(learning_rate=0.25),\n",
    "                        loss='sparse_categorical_crossentropy')\n",
    "\n",
    "log_dir = \"logs/fit/\" + datetime.datetime.now().strftime(\"%Y%m%d-%H%M%S\")\n",
    "tensorboard_callback = tf.keras.callbacks.TensorBoard(log_dir=log_dir, histogram_freq=1)\n",
    "\n",
    "nonlinear_model.fit(X_train, y_train, \n",
    "                    batch_size=500, \n",
    "                    epochs=95,\n",
    "                    validation_data = (X_train, y_train),\n",
    "                    callbacks=[tensorboard_callback])\n",
    "\n",
    "print('final loss:', nonlinear_model.evaluate(X_train, y_train))\n",
    "print('final predictions:', nonlinear_model.predict(X_train), sep='\\n')\n"
   ]
  },
  {
   "cell_type": "code",
   "execution_count": 78,
   "metadata": {},
   "outputs": [
    {
     "data": {
      "text/plain": [
       "Reusing TensorBoard on port 6006 (pid 815), started 0:14:27 ago. (Use '!kill 815' to kill it.)"
      ]
     },
     "metadata": {},
     "output_type": "display_data"
    },
    {
     "data": {
      "text/html": [
       "\n",
       "      <iframe id=\"tensorboard-frame-af57295590621996\" width=\"100%\" height=\"800\" frameborder=\"0\">\n",
       "      </iframe>\n",
       "      <script>\n",
       "        (function() {\n",
       "          const frame = document.getElementById(\"tensorboard-frame-af57295590621996\");\n",
       "          const url = new URL(\"/\", window.location);\n",
       "          const port = 6006;\n",
       "          if (port) {\n",
       "            url.port = port;\n",
       "          }\n",
       "          frame.src = url;\n",
       "        })();\n",
       "      </script>\n",
       "    "
      ],
      "text/plain": [
       "<IPython.core.display.HTML object>"
      ]
     },
     "metadata": {},
     "output_type": "display_data"
    }
   ],
   "source": [
    "%tensorboard --logdir logs/fit"
   ]
  },
  {
   "cell_type": "markdown",
   "metadata": {},
   "source": [
    "### Keeping track of the history\n",
    "\n",
    "understand more about the model."
   ]
  },
  {
   "cell_type": "code",
   "execution_count": 79,
   "metadata": {},
   "outputs": [
    {
     "data": {
      "text/plain": [
       "[<tensorflow.python.keras.layers.core.Dense at 0x7fccb5a46e50>,\n",
       " <tensorflow.python.keras.layers.core.Dense at 0x7fcc97d80610>,\n",
       " <tensorflow.python.keras.layers.core.Dense at 0x7fcc9b075460>,\n",
       " <tensorflow.python.keras.layers.core.Dense at 0x7fcc97ec1f10>,\n",
       " <tensorflow.python.keras.layers.core.Dense at 0x7fcc97f7fd00>]"
      ]
     },
     "execution_count": 79,
     "metadata": {},
     "output_type": "execute_result"
    }
   ],
   "source": [
    "tf.random.set_seed(2)\n",
    "nonlinear_model = tf.keras.Sequential([\n",
    "    tf.keras.layers.Dense(18, input_shape=(9,), activation='relu'),\n",
    "    tf.keras.layers.Dense(36, input_shape=(9,), activation='relu'),\n",
    "    tf.keras.layers.Dense(36, input_shape=(9,), activation='relu'),\n",
    "    tf.keras.layers.Dense(36, input_shape=(9,), activation='relu'),\n",
    "    tf.keras.layers.Dense(5, activation='softmax')\n",
    "])\n",
    "\n",
    "nonlinear_model.layers"
   ]
  },
  {
   "cell_type": "code",
   "execution_count": 80,
   "metadata": {},
   "outputs": [
    {
     "name": "stdout",
     "output_type": "stream",
     "text": [
      "Model: \"sequential_28\"\n",
      "_________________________________________________________________\n",
      "Layer (type)                 Output Shape              Param #   \n",
      "=================================================================\n",
      "dense_68 (Dense)             (None, 18)                180       \n",
      "_________________________________________________________________\n",
      "dense_69 (Dense)             (None, 36)                684       \n",
      "_________________________________________________________________\n",
      "dense_70 (Dense)             (None, 36)                1332      \n",
      "_________________________________________________________________\n",
      "dense_71 (Dense)             (None, 36)                1332      \n",
      "_________________________________________________________________\n",
      "dense_72 (Dense)             (None, 5)                 185       \n",
      "=================================================================\n",
      "Total params: 3,713\n",
      "Trainable params: 3,713\n",
      "Non-trainable params: 0\n",
      "_________________________________________________________________\n"
     ]
    }
   ],
   "source": [
    "nonlinear_model.summary()"
   ]
  }
 ],
 "metadata": {
  "kernelspec": {
   "display_name": "Python 3",
   "language": "python",
   "name": "python3"
  },
  "language_info": {
   "codemirror_mode": {
    "name": "ipython",
    "version": 3
   },
   "file_extension": ".py",
   "mimetype": "text/x-python",
   "name": "python",
   "nbconvert_exporter": "python",
   "pygments_lexer": "ipython3",
   "version": "3.8.5"
  }
 },
 "nbformat": 4,
 "nbformat_minor": 4
}
